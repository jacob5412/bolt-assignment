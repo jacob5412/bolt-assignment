{
 "cells": [
  {
   "cell_type": "markdown",
   "id": "7deaef79",
   "metadata": {},
   "source": [
    "# Exploratory Data Analysis"
   ]
  },
  {
   "cell_type": "code",
   "execution_count": null,
   "id": "2f0c9847",
   "metadata": {},
   "outputs": [],
   "source": [
    "%load_ext nb_black"
   ]
  },
  {
   "cell_type": "code",
   "execution_count": null,
   "id": "2ac08341",
   "metadata": {},
   "outputs": [],
   "source": [
    "import scipy\n",
    "\n",
    "import pandas as pd\n",
    "import numpy as np\n",
    "import seaborn as sns\n",
    "import matplotlib.pyplot as plt"
   ]
  },
  {
   "cell_type": "code",
   "execution_count": null,
   "id": "94003bf2",
   "metadata": {},
   "outputs": [],
   "source": [
    "pricing_data_df = pd.read_csv(\"data/test.csv\")"
   ]
  },
  {
   "cell_type": "markdown",
   "id": "9b00736e",
   "metadata": {},
   "source": [
    "During upfront pricing, the following factors are available to us:\n",
    "\n",
    "1. Type of vehicle - premium, XL, go, etc\n",
    "2. Customers Profile\n",
    "    - Fraud Score\n",
    "    - Lifetime value\n",
    "    - Number of previous cancellation by driver within journey\n",
    "3. Geography\n",
    "    - Distance\n",
    "    - Starting destination\n",
    "    - Ending destination\n",
    "    - Tolls\n",
    "2. Traffic\n",
    "    - Wait time due to incoming traffic\n",
    "3. Surge\n",
    "    - Time of day i.e. Rush Hoiur\n",
    "    - High Demand/Low Supply\n",
    "    - Bad weather"
   ]
  },
  {
   "cell_type": "code",
   "execution_count": null,
   "id": "23cbcabc",
   "metadata": {},
   "outputs": [],
   "source": [
    "pricing_data_df[\"calc_created\"] = pd.to_datetime(pricing_data_df[\"calc_created\"])"
   ]
  },
  {
   "cell_type": "markdown",
   "id": "2ad3ab91",
   "metadata": {},
   "source": [
    "* Removing all UIDs and tokens as we can't feed them into model and UUIDs are calculated uniquely for each session.\n",
    "* Ticket ID for resolution isn't useful as we don't have any ticket information."
   ]
  },
  {
   "cell_type": "code",
   "execution_count": null,
   "id": "7b9451ea",
   "metadata": {},
   "outputs": [],
   "source": [
    "pricing_data_df.drop(\n",
    "    [\"driver_device_uid_new\", \"device_token\", \"ticket_id_new\"], axis=1, inplace=True\n",
    ")"
   ]
  },
  {
   "cell_type": "markdown",
   "id": "c4a7be03",
   "metadata": {},
   "source": [
    "Can we remove all the states if all the rides are `finished`?"
   ]
  },
  {
   "cell_type": "code",
   "execution_count": null,
   "id": "f88eb297",
   "metadata": {},
   "outputs": [],
   "source": [
    "pricing_data_df[\"b_state\"].value_counts()"
   ]
  },
  {
   "cell_type": "code",
   "execution_count": null,
   "id": "3ed3403c",
   "metadata": {},
   "outputs": [],
   "source": [
    "pricing_data_df[\"order_state\"].value_counts()"
   ]
  },
  {
   "cell_type": "code",
   "execution_count": null,
   "id": "ef3ab9d4",
   "metadata": {},
   "outputs": [],
   "source": [
    "pricing_data_df[\"order_try_state\"].value_counts()"
   ]
  },
  {
   "cell_type": "code",
   "execution_count": null,
   "id": "b5cd5754",
   "metadata": {},
   "outputs": [],
   "source": [
    "pricing_data_df.drop(\n",
    "    [\"b_state\", \"order_state\", \"order_try_state\"], axis=1, inplace=True\n",
    ")"
   ]
  },
  {
   "cell_type": "markdown",
   "id": "a5f85370",
   "metadata": {},
   "source": [
    "All the orders are finished, hence this information is redundant.\n",
    "\n",
    "We can remove `order_try_id_new` since we already have `order_id_new` available. Furthermore, `dest_change_number` let's us know how many times the destination was changed."
   ]
  },
  {
   "cell_type": "code",
   "execution_count": null,
   "id": "409cb995",
   "metadata": {},
   "outputs": [],
   "source": [
    "pricing_data_df.drop([\"order_try_id_new\"], axis=1, inplace=True)"
   ]
  },
  {
   "cell_type": "code",
   "execution_count": null,
   "id": "7e05b539",
   "metadata": {},
   "outputs": [],
   "source": [
    "pricing_data_df.drop_duplicates(inplace=True)"
   ]
  },
  {
   "cell_type": "code",
   "execution_count": null,
   "id": "be887530",
   "metadata": {},
   "outputs": [],
   "source": [
    "pricing_data_df.reset_index(inplace=True, drop=True)"
   ]
  },
  {
   "cell_type": "code",
   "execution_count": null,
   "id": "db097691",
   "metadata": {},
   "outputs": [],
   "source": [
    "pricing_data_df.info()"
   ]
  },
  {
   "cell_type": "markdown",
   "id": "f53e591c",
   "metadata": {},
   "source": [
    "## Data Catalog\n",
    "\n",
    "| Variable                             | Description                                                                                                                                                                                                           |\n",
    "|--------------------------------------|-----------------------------------------------------------------------------------------------------------------------------------------------------------------------------------------------------------------------|\n",
    "| `order_id_new`                       | ID of an order                                                                                                                                                                                                        |\n",
    "| `Metered_price, distance & duration` | Actual price, distance and duration of a ride                                                                                                                                                                         |\n",
    "| `upfront_price`                      | Promised to the rider price, based on predicted duration (predicted_duration) and distance (predicted_distance)                                                                                                       |\n",
    "| `distance`                           | Ride distance                                                                                                                                                                                                         |\n",
    "| `duration`                           | Ride Duration                                                                                                                                                                                                         |\n",
    "| `gps_conﬁdence`                      | Indicator for good GPS connection (1 - good one, 0 - bad one)                                                                                                                                                         |\n",
    "| `entered_by`                         | Who entered the address                                                                                                                                                                                               |\n",
    "| `dest_change_number`                 | Number of destination changes by a rider and a driver. It includes the original input of the destination by a rider. That is why the minimum value of it is 1                                                         |\n",
    "| `predicted_distance`                 | Predicted duration of a ride based on the pickup and dropoff points entered by the rider requesting a car                                                                                                             |\n",
    "| `predicted_duration`                 | Predicted duration of a ride based on the pickup and dropoff points entered by the rider requesting a car                                                                                                             |\n",
    "| `prediction_price_type`              | Internal variable for the type of prediction: (1) `upfront`, `prediction` - prediction happened before the ride; (2) `upfront_destination_changed` - prediction happened after rider changed destination during the ride |\n",
    "| `change_reason_pricing`              | Indicates whose action triggered a change in the price prediction. If it is empty, it means that either nobody changed the destination or that the change has not affected the predicted price                        |\n",
    "| `rider_app_version`                  | App version of rider phone                                                                                                                                                                                            |\n",
    "| `driver_app_version`                 | App version of driver phone                                                                                                                                                                                           |\n",
    "| `device_name`                        | The name of the phone                                                                                                                                                                                                 |\n",
    "| `eu_indicator`                       | Whether a ride happens in EU                                                                                                                                                                                          |\n",
    "| `overpaid_ride_ticket`               | Indicator for a rider complaining about the overpaid ride                                                                                                                                                             |\n",
    "| `fraud_score`                        | Fraud score of a rider. The higher it is the more likely the rider will cheat.                                                                                                                                        |"
   ]
  },
  {
   "cell_type": "code",
   "execution_count": null,
   "id": "92d40986",
   "metadata": {},
   "outputs": [],
   "source": [
    "pricing_data_df.sample(5).T"
   ]
  },
  {
   "cell_type": "markdown",
   "id": "af49c964",
   "metadata": {},
   "source": [
    "# Upfront Pricing Exploration"
   ]
  },
  {
   "cell_type": "code",
   "execution_count": null,
   "id": "1215e093",
   "metadata": {},
   "outputs": [],
   "source": [
    "upfront_pricing_data_df = pricing_data_df.loc[\n",
    "    pricing_data_df[\"upfront_price\"].notnull(), :\n",
    "]"
   ]
  },
  {
   "cell_type": "code",
   "execution_count": null,
   "id": "2f2090a7",
   "metadata": {},
   "outputs": [],
   "source": [
    "upfront_pricing_data_df[\"prediction_price_type\"].value_counts()"
   ]
  },
  {
   "cell_type": "markdown",
   "id": "e44b10c7",
   "metadata": {},
   "source": [
    "Since all upfront prices have prediction price type as upfront, we can drop `prediction_price_type`,"
   ]
  },
  {
   "cell_type": "code",
   "execution_count": null,
   "id": "5709d993",
   "metadata": {},
   "outputs": [],
   "source": [
    "upfront_pricing_data_df.drop([\"prediction_price_type\"], axis=1, inplace=True)"
   ]
  },
  {
   "cell_type": "markdown",
   "id": "f6cb2c2d",
   "metadata": {},
   "source": [
    "## Problem Scope\n",
    "\n",
    "Does a deviation actually exist?"
   ]
  },
  {
   "cell_type": "code",
   "execution_count": null,
   "id": "23cd65a9",
   "metadata": {},
   "outputs": [],
   "source": [
    "upfront_pricing_data_df[\"upfront_price_deviation_perc\"] = (\n",
    "    (\n",
    "        upfront_pricing_data_df[\"upfront_price\"]\n",
    "        - upfront_pricing_data_df[\"metered_price\"]\n",
    "    )\n",
    "    / upfront_pricing_data_df[\"upfront_price\"]\n",
    "    * 100\n",
    ")\n",
    "upfront_pricing_data_df[\"abs_upfront_price_deviation_perc\"] = abs(\n",
    "    upfront_pricing_data_df[\"upfront_price_deviation_perc\"]\n",
    ")"
   ]
  },
  {
   "cell_type": "code",
   "execution_count": null,
   "id": "c4f91bb0",
   "metadata": {},
   "outputs": [],
   "source": [
    "upfront_pricing_data_df[\"abs_upfront_price_deviation_perc\"].describe(\n",
    "    percentiles=[0.25, 0.5, 0.75, 0.85, 0.9, 0.95, 0.99]\n",
    ")"
   ]
  },
  {
   "cell_type": "markdown",
   "id": "8b8902bd",
   "metadata": {},
   "source": [
    "Roughly 50% of the orders are deviating below 20% from the upfront pricing. "
   ]
  },
  {
   "cell_type": "code",
   "execution_count": null,
   "id": "05c7c1a9",
   "metadata": {},
   "outputs": [],
   "source": [
    "fig, ax = plt.subplots(figsize=(16, 6), dpi=120)\n",
    "p = sns.kdeplot(data=upfront_pricing_data_df[\"upfront_price_deviation_perc\"], ax=ax)\n",
    "x, y = p.get_lines()[0].get_data()\n",
    "cdf = scipy.integrate.cumtrapz(y, x, initial=0)\n",
    "nearest_05 = np.abs(cdf - 0.5).argmin()\n",
    "x_median = x[nearest_05]\n",
    "y_median = y[nearest_05]\n",
    "plt.vlines(x_median, 0, y_median, colors=\"black\")\n",
    "plt.grid()\n",
    "plt.show()"
   ]
  },
  {
   "cell_type": "code",
   "execution_count": null,
   "id": "873bc825",
   "metadata": {},
   "outputs": [],
   "source": [
    "fig, ax = plt.subplots(figsize=(16, 6), dpi=120)\n",
    "p = sns.kdeplot(data=upfront_pricing_data_df[\"abs_upfront_price_deviation_perc\"], ax=ax)\n",
    "x, y = p.get_lines()[0].get_data()\n",
    "cdf = scipy.integrate.cumtrapz(y, x, initial=0)\n",
    "nearest_05 = np.abs(cdf - 0.5).argmin()\n",
    "x_median = x[nearest_05]\n",
    "y_median = y[nearest_05]\n",
    "plt.vlines(x_median, 0, y_median, colors=\"black\")\n",
    "plt.grid()\n",
    "plt.show()"
   ]
  },
  {
   "cell_type": "markdown",
   "id": "9625e0fc",
   "metadata": {},
   "source": [
    "The distribution of pricing is right skewed long tailed. Our focus will on identifying what the source of the 50% of the error is."
   ]
  },
  {
   "cell_type": "markdown",
   "id": "93e1f60d",
   "metadata": {},
   "source": [
    "## Problem Impact\n",
    "\n",
    "How many customers does this deviation impact?"
   ]
  },
  {
   "cell_type": "code",
   "execution_count": null,
   "id": "653fd4e7",
   "metadata": {},
   "outputs": [],
   "source": [
    "pricing_data_df.shape"
   ]
  },
  {
   "cell_type": "markdown",
   "id": "e4c8c558",
   "metadata": {},
   "source": [
    "Assuming our population consists of 4270 customers."
   ]
  },
  {
   "cell_type": "code",
   "execution_count": null,
   "id": "50d3573b",
   "metadata": {},
   "outputs": [],
   "source": [
    "upfront_pricing_data_df.shape[0] / pricing_data_df.shape[0]"
   ]
  },
  {
   "cell_type": "markdown",
   "id": "4b6107b2",
   "metadata": {},
   "source": [
    "Around 70% of the customers have suffered from some form of a deviation between upfront and metered pricing on the app."
   ]
  },
  {
   "cell_type": "code",
   "execution_count": null,
   "id": "e236fd40",
   "metadata": {},
   "outputs": [],
   "source": [
    "upfront_pricing_data_df[\"upfront_price_deviation_perc\"].describe(\n",
    "    percentiles=[0.25, 0.35, 0.5, 0.55, 0.75, 0.85, 0.9, 0.95, 0.99]\n",
    ")"
   ]
  },
  {
   "cell_type": "code",
   "execution_count": null,
   "id": "281e956f",
   "metadata": {},
   "outputs": [],
   "source": [
    "upfront_pricing_data_df[\n",
    "    upfront_pricing_data_df[\"upfront_price_deviation_perc\"] < 0\n",
    "].shape[0] / upfront_pricing_data_df.shape[0]"
   ]
  },
  {
   "cell_type": "markdown",
   "id": "e5b184c3",
   "metadata": {},
   "source": [
    "Around 60% of the customers see a price higher than the one that is shown upfront."
   ]
  },
  {
   "cell_type": "code",
   "execution_count": null,
   "id": "121bd676",
   "metadata": {},
   "outputs": [],
   "source": [
    "upfront_pricing_data_df[\n",
    "    upfront_pricing_data_df[\"upfront_price_deviation_perc\"] < -20\n",
    "].shape[0] / upfront_pricing_data_df.shape[0]"
   ]
  },
  {
   "cell_type": "markdown",
   "id": "3b47cef9",
   "metadata": {},
   "source": [
    "Around 35% of the customers get charged more at the end of the journey.\n",
    "\n",
    "We're going to assume that anyone who created an `overpaid_ride_ticket` and didn't pay more for a ride, did it by accident. "
   ]
  },
  {
   "cell_type": "code",
   "execution_count": null,
   "id": "886c412e",
   "metadata": {},
   "outputs": [],
   "source": [
    "upfront_pricing_data_df[\n",
    "    (upfront_pricing_data_df[\"upfront_price_deviation_perc\"] < -20)\n",
    "][\"overpaid_ride_ticket\"].value_counts(normalize=True)"
   ]
  },
  {
   "cell_type": "markdown",
   "id": "35d9d425",
   "metadata": {},
   "source": [
    "A staggering 95% of customers who were shown a higher price (i.e. with a deviation of 20%), complained about an overpaid ticket."
   ]
  },
  {
   "cell_type": "markdown",
   "id": "ddcc0990",
   "metadata": {},
   "source": [
    "## Analyzing the columns\n",
    "\n",
    "### Date Range"
   ]
  },
  {
   "cell_type": "code",
   "execution_count": null,
   "id": "b5797389",
   "metadata": {},
   "outputs": [],
   "source": [
    "upfront_pricing_data_df[\"calc_created\"].min(), upfront_pricing_data_df[\n",
    "    \"calc_created\"\n",
    "].max()"
   ]
  },
  {
   "cell_type": "markdown",
   "id": "41184faf",
   "metadata": {},
   "source": [
    "Roughly a month's worth of data from 2020, right before the first lockdown of COVID-19 in the UK on __23 March 2020__.\n",
    "\n",
    "Additional columns we can create:\n",
    "* Day of week\n",
    "* Day of month\n",
    "* Month\n",
    "* Holidays"
   ]
  },
  {
   "cell_type": "markdown",
   "id": "dc825184",
   "metadata": {},
   "source": [
    "### Distribution of Pricing"
   ]
  },
  {
   "cell_type": "code",
   "execution_count": null,
   "id": "b7eec4a0",
   "metadata": {},
   "outputs": [],
   "source": [
    "fig, ax = plt.subplots(figsize=(16, 6), dpi=120)\n",
    "sns.kdeplot(\n",
    "    data=upfront_pricing_data_df[[\"upfront_price\", \"metered_price\"]], ax=ax, fill=True\n",
    ")\n",
    "plt.grid()\n",
    "plt.show()"
   ]
  },
  {
   "cell_type": "markdown",
   "id": "ea4a00a4",
   "metadata": {},
   "source": [
    "Upfront pricing typically seems to be a lower than the metered pricing."
   ]
  },
  {
   "cell_type": "markdown",
   "id": "b06682f4",
   "metadata": {},
   "source": [
    "### Distribution of Duration"
   ]
  },
  {
   "cell_type": "code",
   "execution_count": null,
   "id": "13b0b0b4",
   "metadata": {},
   "outputs": [],
   "source": [
    "fig, ax = plt.subplots(figsize=(16, 6), dpi=120)\n",
    "sns.kdeplot(\n",
    "    data=upfront_pricing_data_df[[\"predicted_duration\", \"duration\"]], ax=ax, fill=True\n",
    ")\n",
    "plt.grid()\n",
    "plt.show()"
   ]
  },
  {
   "cell_type": "markdown",
   "id": "f679831d",
   "metadata": {},
   "source": [
    "That's because predicted duration seems to be lesser than the actual duration."
   ]
  },
  {
   "cell_type": "markdown",
   "id": "99d7d495",
   "metadata": {},
   "source": [
    "### Distribution of Distances"
   ]
  },
  {
   "cell_type": "code",
   "execution_count": null,
   "id": "e161d83a",
   "metadata": {},
   "outputs": [],
   "source": [
    "fig, ax = plt.subplots(figsize=(16, 6), dpi=120)\n",
    "sns.kdeplot(\n",
    "    data=upfront_pricing_data_df[[\"predicted_distance\", \"distance\"]], ax=ax, fill=True\n",
    ")\n",
    "plt.grid()\n",
    "plt.show()"
   ]
  },
  {
   "cell_type": "markdown",
   "id": "9d5e7dee",
   "metadata": {},
   "source": [
    "The same goes for distance. the predicted distance typically lays on the lower end."
   ]
  },
  {
   "cell_type": "markdown",
   "id": "95137d6a",
   "metadata": {},
   "source": [
    "## How are pricing, distance and duration correlated?"
   ]
  },
  {
   "cell_type": "markdown",
   "id": "6feb8cf9",
   "metadata": {},
   "source": [
    "### Correlation between deviations"
   ]
  },
  {
   "cell_type": "code",
   "execution_count": null,
   "id": "4a08f27e",
   "metadata": {},
   "outputs": [],
   "source": [
    "upfront_pricing_data_df[\"predicted_distance_deviation_perc\"] = (\n",
    "    (\n",
    "        upfront_pricing_data_df[\"predicted_distance\"]\n",
    "        - upfront_pricing_data_df[\"distance\"]\n",
    "    )\n",
    "    / upfront_pricing_data_df[\"predicted_distance\"]\n",
    "    * 100\n",
    ")\n",
    "upfront_pricing_data_df[\"abs_predicted_distance_deviation_perc\"] = abs(\n",
    "    upfront_pricing_data_df[\"predicted_distance_deviation_perc\"]\n",
    ")"
   ]
  },
  {
   "cell_type": "code",
   "execution_count": null,
   "id": "1afae990",
   "metadata": {},
   "outputs": [],
   "source": [
    "upfront_pricing_data_df[\"abs_predicted_distance_deviation_perc\"].describe(\n",
    "    percentiles=[0.25, 0.5, 0.75, 0.85, 0.9, 0.95, 0.99]\n",
    ")"
   ]
  },
  {
   "cell_type": "code",
   "execution_count": null,
   "id": "0be290a2",
   "metadata": {},
   "outputs": [],
   "source": [
    "upfront_pricing_data_df[\"predicted_duration_deviation_perc\"] = (\n",
    "    (\n",
    "        upfront_pricing_data_df[\"predicted_duration\"]\n",
    "        - upfront_pricing_data_df[\"duration\"]\n",
    "    )\n",
    "    / upfront_pricing_data_df[\"predicted_duration\"]\n",
    "    * 100\n",
    ")\n",
    "\n",
    "upfront_pricing_data_df[\"abs_predicted_duration_deviation_perc\"] = abs(\n",
    "    upfront_pricing_data_df[\"predicted_duration_deviation_perc\"]\n",
    ")"
   ]
  },
  {
   "cell_type": "code",
   "execution_count": null,
   "id": "9324da53",
   "metadata": {},
   "outputs": [],
   "source": [
    "upfront_pricing_data_df[\"abs_predicted_duration_deviation_perc\"].describe(\n",
    "    percentiles=[0.25, 0.5, 0.75, 0.85, 0.9, 0.95, 0.99]\n",
    ")"
   ]
  },
  {
   "cell_type": "code",
   "execution_count": null,
   "id": "d67dfc2e",
   "metadata": {},
   "outputs": [],
   "source": [
    "fig, ax = plt.subplots(figsize=(16, 6), dpi=120)\n",
    "sns.kdeplot(\n",
    "    data=upfront_pricing_data_df[\n",
    "        [\"predicted_distance_deviation_perc\", \"predicted_duration_deviation_perc\"]\n",
    "    ],\n",
    "    ax=ax,\n",
    "    fill=True,\n",
    ")\n",
    "plt.grid()\n",
    "plt.show()"
   ]
  },
  {
   "cell_type": "code",
   "execution_count": null,
   "id": "646675ea",
   "metadata": {},
   "outputs": [],
   "source": [
    "upfront_pricing_data_df[\n",
    "    [\n",
    "        \"predicted_distance_deviation_perc\",\n",
    "        \"predicted_duration_deviation_perc\",\n",
    "        \"upfront_price_deviation_perc\",\n",
    "    ]\n",
    "].corr()"
   ]
  },
  {
   "cell_type": "code",
   "execution_count": null,
   "id": "4856cb05",
   "metadata": {},
   "outputs": [],
   "source": [
    "upfront_pricing_data_df[\n",
    "    [\n",
    "        \"abs_predicted_distance_deviation_perc\",\n",
    "        \"abs_predicted_duration_deviation_perc\",\n",
    "        \"abs_upfront_price_deviation_perc\",\n",
    "    ]\n",
    "].corr()"
   ]
  },
  {
   "cell_type": "markdown",
   "id": "1ebdca71",
   "metadata": {},
   "source": [
    "The duration, distance, and price deviations aren't correlation."
   ]
  },
  {
   "cell_type": "markdown",
   "id": "33eeb169",
   "metadata": {},
   "source": [
    "### Correlation between absolute values"
   ]
  },
  {
   "cell_type": "code",
   "execution_count": null,
   "id": "cf67357e",
   "metadata": {},
   "outputs": [],
   "source": [
    "upfront_pricing_data_df[\n",
    "    [\n",
    "        \"predicted_distance\",\n",
    "        \"distance\",\n",
    "        \"predicted_duration\",\n",
    "        \"duration\",\n",
    "        \"upfront_price\",\n",
    "        \"metered_price\",\n",
    "    ]\n",
    "].corr()"
   ]
  },
  {
   "cell_type": "markdown",
   "id": "9f464641",
   "metadata": {},
   "source": [
    "The predicted distances, duration and pricing aren't highly correlated with each other. This means that there's another component that's affecting the pricing."
   ]
  },
  {
   "cell_type": "markdown",
   "id": "dd8563e0",
   "metadata": {},
   "source": [
    "## What are the attributes of highly deviated pricing?\n",
    "\n",
    "For any deviation over 20%, what are the attributes of those orders like."
   ]
  },
  {
   "cell_type": "code",
   "execution_count": null,
   "id": "b1088dfc",
   "metadata": {},
   "outputs": [],
   "source": [
    "pricing_deviation_breached_df = upfront_pricing_data_df[\n",
    "    upfront_pricing_data_df[\"abs_predicted_duration_deviation_perc\"] >= 20\n",
    "]\n",
    "pricing_deviation_non_breached_df = upfront_pricing_data_df[\n",
    "    upfront_pricing_data_df[\"abs_predicted_duration_deviation_perc\"] < 20\n",
    "]"
   ]
  },
  {
   "cell_type": "markdown",
   "id": "763eeece",
   "metadata": {},
   "source": [
    "### Destination Change Number\n",
    "\n",
    "If customers change destinations more often, does it impact the pricing deviation?"
   ]
  },
  {
   "cell_type": "code",
   "execution_count": null,
   "id": "46822561",
   "metadata": {},
   "outputs": [],
   "source": [
    "pricing_deviation_breached_df[\"dest_change_number\"].value_counts(normalize=True) * 100"
   ]
  },
  {
   "cell_type": "code",
   "execution_count": null,
   "id": "ad0a17e6",
   "metadata": {},
   "outputs": [],
   "source": [
    "upfront_pricing_data_df[\"dest_change_number\"].value_counts(normalize=True) * 100"
   ]
  },
  {
   "cell_type": "code",
   "execution_count": null,
   "id": "1a32d773",
   "metadata": {},
   "outputs": [],
   "source": [
    "upfront_pricing_data_df[\"dest_change_number\"].value_counts(normalize=True) * 100"
   ]
  },
  {
   "cell_type": "markdown",
   "id": "81e18523",
   "metadata": {},
   "source": [
    "The high pricing deviation doesn't differentiate much from the global number. Ideally if there was a difference, more destination changes would be apparent in the high deviation dataset."
   ]
  },
  {
   "cell_type": "markdown",
   "id": "5b9e16fc",
   "metadata": {},
   "source": [
    "### gps_confidence\n",
    "\n",
    "Is poor gps confidence resulting in poor price prediction?"
   ]
  },
  {
   "cell_type": "code",
   "execution_count": null,
   "id": "9522a330",
   "metadata": {},
   "outputs": [],
   "source": [
    "pricing_deviation_breached_df[\"gps_confidence\"].value_counts(normalize=True) * 100"
   ]
  },
  {
   "cell_type": "code",
   "execution_count": null,
   "id": "db3ba70e",
   "metadata": {},
   "outputs": [],
   "source": [
    "upfront_pricing_data_df[\"gps_confidence\"].value_counts(normalize=True) * 100"
   ]
  },
  {
   "cell_type": "code",
   "execution_count": null,
   "id": "7c49e07b",
   "metadata": {},
   "outputs": [],
   "source": [
    "pricing_deviation_non_breached_df[\"gps_confidence\"].value_counts(normalize=True) * 100"
   ]
  },
  {
   "cell_type": "markdown",
   "id": "e315d1fb",
   "metadata": {},
   "source": [
    "* 4 pp worse than the global population\n",
    "* 8 pp lower than less than 20% deviation"
   ]
  },
  {
   "cell_type": "markdown",
   "id": "5d045234",
   "metadata": {},
   "source": [
    "### eu_indicator"
   ]
  },
  {
   "cell_type": "code",
   "execution_count": null,
   "id": "837b6a39",
   "metadata": {},
   "outputs": [],
   "source": [
    "pricing_deviation_breached_df[\"eu_indicator\"].value_counts(normalize=True) * 100"
   ]
  },
  {
   "cell_type": "code",
   "execution_count": null,
   "id": "66245f31",
   "metadata": {},
   "outputs": [],
   "source": [
    "upfront_pricing_data_df[\"eu_indicator\"].value_counts(normalize=True) * 100"
   ]
  },
  {
   "cell_type": "code",
   "execution_count": null,
   "id": "954bffa2",
   "metadata": {},
   "outputs": [],
   "source": [
    "pricing_deviation_non_breached_df[\"eu_indicator\"].value_counts(normalize=True) * 100"
   ]
  },
  {
   "cell_type": "markdown",
   "id": "c8401fbe",
   "metadata": {},
   "source": [
    "Most of the deviations occur outside the EU."
   ]
  },
  {
   "cell_type": "markdown",
   "id": "be72d372",
   "metadata": {},
   "source": [
    "Is there less confidence on one GPS device?"
   ]
  },
  {
   "cell_type": "code",
   "execution_count": null,
   "id": "ecd4d77c",
   "metadata": {},
   "outputs": [],
   "source": []
  }
 ],
 "metadata": {
  "kernelspec": {
   "display_name": "Python 3 (ipykernel)",
   "language": "python",
   "name": "python3"
  },
  "language_info": {
   "codemirror_mode": {
    "name": "ipython",
    "version": 3
   },
   "file_extension": ".py",
   "mimetype": "text/x-python",
   "name": "python",
   "nbconvert_exporter": "python",
   "pygments_lexer": "ipython3",
   "version": "3.9.16"
  }
 },
 "nbformat": 4,
 "nbformat_minor": 5
}
