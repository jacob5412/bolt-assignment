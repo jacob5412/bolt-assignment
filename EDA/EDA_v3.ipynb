{
 "cells": [
  {
   "attachments": {},
   "cell_type": "markdown",
   "id": "7deaef79",
   "metadata": {},
   "source": [
    "# Exploratory Data Analysis"
   ]
  },
  {
   "cell_type": "code",
   "execution_count": null,
   "id": "2f0c9847",
   "metadata": {},
   "outputs": [],
   "source": [
    "%load_ext nb_black"
   ]
  },
  {
   "cell_type": "code",
   "execution_count": null,
   "id": "2ac08341",
   "metadata": {},
   "outputs": [],
   "source": [
    "import scipy\n",
    "\n",
    "import datetime as dt\n",
    "import pandas as pd\n",
    "import numpy as np\n",
    "import seaborn as sns\n",
    "import matplotlib.pyplot as plt\n",
    "\n",
    "from matplotlib import dates"
   ]
  },
  {
   "attachments": {},
   "cell_type": "markdown",
   "id": "1ca91b5a",
   "metadata": {},
   "source": [
    "## Data Cleaning"
   ]
  },
  {
   "cell_type": "code",
   "execution_count": null,
   "id": "94003bf2",
   "metadata": {},
   "outputs": [],
   "source": [
    "pricing_data_df = pd.read_csv(\"data/test.csv\")"
   ]
  },
  {
   "attachments": {},
   "cell_type": "markdown",
   "id": "9b00736e",
   "metadata": {},
   "source": [
    "During upfront pricing, the following factors are available to us:\n",
    "\n",
    "1. Type of vehicle - premium, XL, go, etc\n",
    "2. Customers Profile\n",
    "    - Fraud Score\n",
    "    - Lifetime value\n",
    "    - Number of previous cancellation by driver within journey\n",
    "3. Geography\n",
    "    - Distance\n",
    "    - Starting destination\n",
    "    - Ending destination\n",
    "    - Tolls\n",
    "2. Traffic\n",
    "    - Wait time due to incoming traffic\n",
    "3. Surge\n",
    "    - Time of day i.e. Rush Hoiur\n",
    "    - High Demand/Low Supply\n",
    "    - Bad weather"
   ]
  },
  {
   "cell_type": "code",
   "execution_count": null,
   "id": "23cbcabc",
   "metadata": {},
   "outputs": [],
   "source": [
    "pricing_data_df[\"calc_created\"] = pd.to_datetime(pricing_data_df[\"calc_created\"])"
   ]
  },
  {
   "attachments": {},
   "cell_type": "markdown",
   "id": "2ad3ab91",
   "metadata": {},
   "source": [
    "* Removing all UIDs and tokens as we can't feed them into model and UUIDs are calculated uniquely for each session.\n",
    "* Ticket ID for resolution isn't useful as we don't have any ticket information."
   ]
  },
  {
   "cell_type": "code",
   "execution_count": null,
   "id": "7b9451ea",
   "metadata": {},
   "outputs": [],
   "source": [
    "pricing_data_df.drop(\n",
    "    [\"driver_device_uid_new\", \"device_token\", \"ticket_id_new\"], axis=1, inplace=True\n",
    ")"
   ]
  },
  {
   "attachments": {},
   "cell_type": "markdown",
   "id": "c4a7be03",
   "metadata": {},
   "source": [
    "Can we remove all the states if all the rides are `finished`?"
   ]
  },
  {
   "cell_type": "code",
   "execution_count": null,
   "id": "f88eb297",
   "metadata": {},
   "outputs": [],
   "source": [
    "pricing_data_df[\"b_state\"].value_counts()"
   ]
  },
  {
   "cell_type": "code",
   "execution_count": null,
   "id": "3ed3403c",
   "metadata": {},
   "outputs": [],
   "source": [
    "pricing_data_df[\"order_state\"].value_counts()"
   ]
  },
  {
   "cell_type": "code",
   "execution_count": null,
   "id": "ef3ab9d4",
   "metadata": {},
   "outputs": [],
   "source": [
    "pricing_data_df[\"order_try_state\"].value_counts()"
   ]
  },
  {
   "cell_type": "code",
   "execution_count": null,
   "id": "b5cd5754",
   "metadata": {},
   "outputs": [],
   "source": [
    "pricing_data_df.drop(\n",
    "    [\"b_state\", \"order_state\", \"order_try_state\"], axis=1, inplace=True\n",
    ")"
   ]
  },
  {
   "attachments": {},
   "cell_type": "markdown",
   "id": "a5f85370",
   "metadata": {},
   "source": [
    "All the orders are finished, hence this information is redundant.\n",
    "\n",
    "We can remove `order_try_id_new` since we already have `order_id_new` available. Furthermore, `dest_change_number` let's us know how many times the destination was changed."
   ]
  },
  {
   "cell_type": "code",
   "execution_count": null,
   "id": "409cb995",
   "metadata": {},
   "outputs": [],
   "source": [
    "pricing_data_df.drop([\"order_try_id_new\"], axis=1, inplace=True)"
   ]
  },
  {
   "cell_type": "code",
   "execution_count": null,
   "id": "7e05b539",
   "metadata": {},
   "outputs": [],
   "source": [
    "pricing_data_df.drop_duplicates(inplace=True)"
   ]
  },
  {
   "cell_type": "code",
   "execution_count": null,
   "id": "2dfa407d",
   "metadata": {},
   "outputs": [],
   "source": [
    "pricing_data_df.reset_index(inplace=True, drop=True)"
   ]
  },
  {
   "cell_type": "code",
   "execution_count": null,
   "id": "db097691",
   "metadata": {},
   "outputs": [],
   "source": [
    "pricing_data_df.info()"
   ]
  },
  {
   "cell_type": "code",
   "execution_count": null,
   "id": "c6f50773",
   "metadata": {},
   "outputs": [],
   "source": [
    "upfront_pricing_data_df = pricing_data_df.loc[\n",
    "    (pricing_data_df[\"upfront_price\"].notnull()),\n",
    "    :,\n",
    "]"
   ]
  },
  {
   "cell_type": "code",
   "execution_count": null,
   "id": "668ef40c",
   "metadata": {},
   "outputs": [],
   "source": [
    "upfront_pricing_data_df[\"prediction_price_type\"].value_counts()"
   ]
  },
  {
   "attachments": {},
   "cell_type": "markdown",
   "id": "a1b30bac",
   "metadata": {},
   "source": [
    "Since all upfront prices have prediction price type as upfront, we can drop `prediction_price_type`,"
   ]
  },
  {
   "cell_type": "code",
   "execution_count": null,
   "id": "740d40ce",
   "metadata": {},
   "outputs": [],
   "source": [
    "upfront_pricing_data_df.drop([\"prediction_price_type\"], axis=1, inplace=True)"
   ]
  },
  {
   "attachments": {},
   "cell_type": "markdown",
   "id": "f6cb2c2d",
   "metadata": {},
   "source": [
    "## Problem Scope\n",
    "\n",
    "Does a deviation actually exist?"
   ]
  },
  {
   "cell_type": "code",
   "execution_count": null,
   "id": "23cd65a9",
   "metadata": {},
   "outputs": [],
   "source": [
    "upfront_pricing_data_df[\"upfront_price_deviation_perc\"] = (\n",
    "    (\n",
    "        upfront_pricing_data_df[\"upfront_price\"]\n",
    "        - upfront_pricing_data_df[\"metered_price\"]\n",
    "    )\n",
    "    / upfront_pricing_data_df[\"upfront_price\"]\n",
    "    * 100\n",
    ")\n",
    "upfront_pricing_data_df[\"abs_upfront_price_deviation_perc\"] = abs(\n",
    "    upfront_pricing_data_df[\"upfront_price_deviation_perc\"]\n",
    ")"
   ]
  },
  {
   "cell_type": "code",
   "execution_count": null,
   "id": "c4f91bb0",
   "metadata": {},
   "outputs": [],
   "source": [
    "upfront_pricing_data_df[\"abs_upfront_price_deviation_perc\"].describe(\n",
    "    percentiles=[0.25, 0.5, 0.75, 0.85, 0.9, 0.95, 0.99]\n",
    ")"
   ]
  },
  {
   "attachments": {},
   "cell_type": "markdown",
   "id": "8b8902bd",
   "metadata": {},
   "source": [
    "Roughly 50% of the orders are deviating below 20% from the upfront pricing. "
   ]
  },
  {
   "cell_type": "code",
   "execution_count": null,
   "id": "05c7c1a9",
   "metadata": {},
   "outputs": [],
   "source": [
    "fig, ax = plt.subplots(figsize=(16, 6), dpi=120)\n",
    "p = sns.kdeplot(data=upfront_pricing_data_df[\"upfront_price_deviation_perc\"], ax=ax)\n",
    "x, y = p.get_lines()[0].get_data()\n",
    "cdf = scipy.integrate.cumtrapz(y, x, initial=0)\n",
    "nearest_05 = np.abs(cdf - 0.5).argmin()\n",
    "x_median = x[nearest_05]\n",
    "y_median = y[nearest_05]\n",
    "plt.vlines(x_median, 0, y_median, colors=\"black\", label=\"median deviation (%)\")\n",
    "plt.legend()\n",
    "plt.xlabel(\"Upfront Price Deviation (%)\")\n",
    "plt.grid()\n",
    "plt.show()"
   ]
  },
  {
   "cell_type": "code",
   "execution_count": null,
   "id": "873bc825",
   "metadata": {},
   "outputs": [],
   "source": [
    "fig, ax = plt.subplots(figsize=(16, 6), dpi=120)\n",
    "p = sns.kdeplot(data=upfront_pricing_data_df[\"abs_upfront_price_deviation_perc\"], ax=ax)\n",
    "x, y = p.get_lines()[0].get_data()\n",
    "cdf = scipy.integrate.cumtrapz(y, x, initial=0)\n",
    "nearest_05 = np.abs(cdf - 0.5).argmin()\n",
    "x_median = x[nearest_05]\n",
    "y_median = y[nearest_05]\n",
    "plt.vlines(x_median, 0, y_median, colors=\"black\")\n",
    "plt.grid()\n",
    "plt.show()"
   ]
  },
  {
   "attachments": {},
   "cell_type": "markdown",
   "id": "9625e0fc",
   "metadata": {},
   "source": [
    "The distribution of pricing is right skewed long tailed. Our focus will on identifying what the source of the 50% of the error is."
   ]
  },
  {
   "attachments": {},
   "cell_type": "markdown",
   "id": "8a8be4e6",
   "metadata": {},
   "source": [
    "## Predicted vs Actual Values"
   ]
  },
  {
   "cell_type": "code",
   "execution_count": null,
   "id": "105a88dd",
   "metadata": {},
   "outputs": [],
   "source": [
    "fig, ax = plt.subplots(figsize=(16, 6), dpi=120)\n",
    "sns.kdeplot(\n",
    "    data=upfront_pricing_data_df[[\"upfront_price\", \"metered_price\"]], ax=ax, fill=True\n",
    ")\n",
    "plt.grid()\n",
    "plt.show()"
   ]
  },
  {
   "attachments": {},
   "cell_type": "markdown",
   "id": "2cbd8797",
   "metadata": {},
   "source": [
    "Upfront pricing typically seems to be a lower than the metered pricing."
   ]
  },
  {
   "cell_type": "code",
   "execution_count": null,
   "id": "0880816a",
   "metadata": {},
   "outputs": [],
   "source": [
    "fig, ax = plt.subplots(figsize=(16, 6), dpi=120)\n",
    "sns.kdeplot(\n",
    "    data=upfront_pricing_data_df[[\"predicted_duration\", \"duration\"]], ax=ax, fill=True\n",
    ")\n",
    "plt.grid()\n",
    "plt.show()"
   ]
  },
  {
   "attachments": {},
   "cell_type": "markdown",
   "id": "61281028",
   "metadata": {},
   "source": [
    "That's because predicted duration seems to be lesser than the actual duration."
   ]
  },
  {
   "cell_type": "code",
   "execution_count": null,
   "id": "56c1e647",
   "metadata": {},
   "outputs": [],
   "source": [
    "fig, ax = plt.subplots(figsize=(16, 6), dpi=120)\n",
    "sns.kdeplot(\n",
    "    data=upfront_pricing_data_df[[\"predicted_distance\", \"distance\"]], ax=ax, fill=True\n",
    ")\n",
    "plt.grid()\n",
    "plt.show()"
   ]
  },
  {
   "attachments": {},
   "cell_type": "markdown",
   "id": "ac9dcebb",
   "metadata": {},
   "source": [
    "The same goes for distance. the predicted distance typically lays on the lower end."
   ]
  },
  {
   "attachments": {},
   "cell_type": "markdown",
   "id": "166d2e93",
   "metadata": {},
   "source": [
    "There's a common theme where the algorithm tends to under-estimate the pricing, distance and duration."
   ]
  },
  {
   "attachments": {},
   "cell_type": "markdown",
   "id": "7b265674",
   "metadata": {},
   "source": [
    "## Problem Impact\n",
    "\n",
    "How many customers does this deviation impact?"
   ]
  },
  {
   "cell_type": "code",
   "execution_count": null,
   "id": "be9d3bf5",
   "metadata": {},
   "outputs": [],
   "source": [
    "pricing_data_df.shape"
   ]
  },
  {
   "attachments": {},
   "cell_type": "markdown",
   "id": "197b4ef8",
   "metadata": {},
   "source": [
    "Assuming our population consists of 4270 customers."
   ]
  },
  {
   "cell_type": "code",
   "execution_count": null,
   "id": "1cf59a93",
   "metadata": {},
   "outputs": [],
   "source": [
    "upfront_pricing_data_df.shape[0] / pricing_data_df.shape[0]"
   ]
  },
  {
   "cell_type": "code",
   "execution_count": null,
   "id": "8de766e2",
   "metadata": {},
   "outputs": [],
   "source": [
    "upfront_pricing_data_df.shape[0]"
   ]
  },
  {
   "attachments": {},
   "cell_type": "markdown",
   "id": "88e20009",
   "metadata": {},
   "source": [
    "Around 70% of the customers have suffered from some form of a deviation between upfront and metered pricing on the app."
   ]
  },
  {
   "cell_type": "code",
   "execution_count": null,
   "id": "c9da8b7e",
   "metadata": {},
   "outputs": [],
   "source": [
    "upfront_pricing_data_df[\"upfront_price_deviation_perc\"].describe(\n",
    "    percentiles=[0.25, 0.35, 0.5, 0.55, 0.75, 0.85, 0.9, 0.95, 0.99]\n",
    ")"
   ]
  },
  {
   "cell_type": "code",
   "execution_count": null,
   "id": "37f901b3",
   "metadata": {},
   "outputs": [],
   "source": [
    "upfront_pricing_data_df[\n",
    "    upfront_pricing_data_df[\"upfront_price_deviation_perc\"] < 0\n",
    "].shape[0] / upfront_pricing_data_df.shape[0]"
   ]
  },
  {
   "attachments": {},
   "cell_type": "markdown",
   "id": "c144f726",
   "metadata": {},
   "source": [
    "Around 60% of the customers see a price higher than the one that is shown upfront."
   ]
  },
  {
   "cell_type": "code",
   "execution_count": null,
   "id": "2323875e",
   "metadata": {},
   "outputs": [],
   "source": [
    "upfront_pricing_data_df[\n",
    "    upfront_pricing_data_df[\"upfront_price_deviation_perc\"] < -20\n",
    "].shape[0] / upfront_pricing_data_df.shape[0]"
   ]
  },
  {
   "attachments": {},
   "cell_type": "markdown",
   "id": "840a780f",
   "metadata": {},
   "source": [
    "Around 35% of the customers get charged more at the end of the journey.\n",
    "\n",
    "We're going to assume that anyone who created an `overpaid_ride_ticket` and didn't pay more for a ride, did it by accident. "
   ]
  },
  {
   "cell_type": "code",
   "execution_count": null,
   "id": "19b1543d",
   "metadata": {},
   "outputs": [],
   "source": [
    "upfront_pricing_data_df[\n",
    "    (upfront_pricing_data_df[\"upfront_price_deviation_perc\"] < -20)\n",
    "][\"overpaid_ride_ticket\"].value_counts(normalize=True)"
   ]
  },
  {
   "attachments": {},
   "cell_type": "markdown",
   "id": "6eb01e72",
   "metadata": {},
   "source": [
    "4% of customers who were shown a higher price (i.e. with a deviation of 20%), complained about an overpaid ticket."
   ]
  },
  {
   "attachments": {},
   "cell_type": "markdown",
   "id": "20b0bdc4",
   "metadata": {},
   "source": [
    "## Identifying the source of the deviation\n",
    "\n",
    "What factor is causing the price to deviate more than usual? When is the deviation occuring and by how much?"
   ]
  },
  {
   "cell_type": "code",
   "execution_count": null,
   "id": "5dd5be56",
   "metadata": {},
   "outputs": [],
   "source": [
    "upfront_pricing_data_df[\"abs_upfront_price_deviation_perc\"] = abs(\n",
    "    (\n",
    "        upfront_pricing_data_df[\"upfront_price\"]\n",
    "        - upfront_pricing_data_df[\"metered_price\"]\n",
    "    )\n",
    "    / upfront_pricing_data_df[\"upfront_price\"]\n",
    "    * 100\n",
    ")"
   ]
  },
  {
   "attachments": {},
   "cell_type": "markdown",
   "id": "a4778319",
   "metadata": {},
   "source": [
    "### GPS Confidence\n",
    "\n",
    "Is the GPS confidence poor which is why we're seeing such a high deviation?"
   ]
  },
  {
   "cell_type": "code",
   "execution_count": null,
   "id": "9cb1ea0c",
   "metadata": {},
   "outputs": [],
   "source": [
    "gps_price_abs_deviation_df = (\n",
    "    upfront_pricing_data_df.groupby([\"gps_confidence\"])[\n",
    "        \"abs_upfront_price_deviation_perc\"\n",
    "    ]\n",
    "    .agg([\"mean\", \"count\", \"median\", \"std\"])\n",
    "    .reset_index()\n",
    ").rename(\n",
    "    columns={\n",
    "        \"mean\": \"Mean Abs Deviation (%)\",\n",
    "        \"median\": \"Median Abs Deviation (%)\",\n",
    "        \"std\": \"Standard Deviation\",\n",
    "    }\n",
    ")\n",
    "gps_price_abs_deviation_df[\"Coefficient of Variation\"] = (\n",
    "    gps_price_abs_deviation_df[\"Standard Deviation\"]\n",
    "    / gps_price_abs_deviation_df[\"Mean Abs Deviation (%)\"]\n",
    ")"
   ]
  },
  {
   "cell_type": "code",
   "execution_count": null,
   "id": "d6b01103",
   "metadata": {},
   "outputs": [],
   "source": [
    "gps_price_abs_deviation_df"
   ]
  },
  {
   "attachments": {},
   "cell_type": "markdown",
   "id": "875e0cad",
   "metadata": {},
   "source": [
    "* There's a significant increase in both the mean and median deviation of pricing when the GPS confidence is poor.\n",
    "* Could this be a result of the device someone is utilizing?"
   ]
  },
  {
   "cell_type": "code",
   "execution_count": null,
   "id": "049487f8",
   "metadata": {},
   "outputs": [],
   "source": [
    "upfront_pricing_data_df[\"device_manufacturer\"] = (\n",
    "    upfront_pricing_data_df[\"device_name\"].str.split(\" |,|\\-|\\_\").str[0].str.lower()\n",
    ")\n",
    "upfront_pricing_data_df[\"device_manufacturer\"] = upfront_pricing_data_df[\n",
    "    \"device_manufacturer\"\n",
    "].apply(lambda x: \"iphone\" if \"iphone\" in x else x)\n",
    "upfront_pricing_data_df[\"device_manufacturer\"] = upfront_pricing_data_df[\n",
    "    \"device_manufacturer\"\n",
    "].apply(lambda x: \"tecno\" if \"tecno\" in x else x)"
   ]
  },
  {
   "attachments": {},
   "cell_type": "markdown",
   "id": "cc21adf1",
   "metadata": {},
   "source": [
    "Which device manufacturer is returning the highest gps confidence error?"
   ]
  },
  {
   "cell_type": "code",
   "execution_count": null,
   "id": "1abe81af",
   "metadata": {},
   "outputs": [],
   "source": [
    "gps_low_conf_device_perc_df = pd.merge(\n",
    "    upfront_pricing_data_df.groupby([\"device_manufacturer\"])[\"gps_confidence\"]\n",
    "    .count()\n",
    "    .reset_index()\n",
    "    .rename(columns={\"gps_confidence\": \"Num Devices\"}),\n",
    "    upfront_pricing_data_df[upfront_pricing_data_df[\"gps_confidence\"] == 0]\n",
    "    .groupby([\"device_manufacturer\"])[\"gps_confidence\"]\n",
    "    .count()\n",
    "    .reset_index()\n",
    "    .rename(columns={\"gps_confidence\": \"Num Devices with 0 GPS conf\"}),\n",
    "    on=\"device_manufacturer\",\n",
    "    how=\"left\",\n",
    ").fillna(0)\n",
    "\n",
    "gps_low_conf_device_perc_df[\"% 0 GPS conf devices\"] = (\n",
    "    gps_low_conf_device_perc_df[\"Num Devices with 0 GPS conf\"]\n",
    "    * 100.0\n",
    "    / gps_low_conf_device_perc_df[\"Num Devices\"]\n",
    ")"
   ]
  },
  {
   "cell_type": "code",
   "execution_count": null,
   "id": "9d007664",
   "metadata": {},
   "outputs": [],
   "source": [
    "gps_low_conf_device_perc_df.sort_values([\"% 0 GPS conf devices\"], ascending=False).head(\n",
    "    15\n",
    ")"
   ]
  },
  {
   "cell_type": "code",
   "execution_count": null,
   "id": "585900d5",
   "metadata": {},
   "outputs": [],
   "source": [
    "gps_low_conf_device_perc_df[\n",
    "    gps_low_conf_device_perc_df[\"Num Devices\"] >= 10\n",
    "].sort_values([\"% 0 GPS conf devices\"], ascending=False).head(15)"
   ]
  },
  {
   "attachments": {},
   "cell_type": "markdown",
   "id": "4498be60",
   "metadata": {},
   "source": [
    "Brands like `infinix`, `itel`, `tecno` seem to be the culprit here, as they're resulting in a high percentage of device with poor GPS confidence."
   ]
  },
  {
   "attachments": {},
   "cell_type": "markdown",
   "id": "768d6c2c",
   "metadata": {},
   "source": [
    "### Device Manufacturer"
   ]
  },
  {
   "cell_type": "code",
   "execution_count": null,
   "id": "e95ab5b4",
   "metadata": {},
   "outputs": [],
   "source": [
    "device_price_abs_deviation_df = (\n",
    "    upfront_pricing_data_df.groupby([\"device_manufacturer\"])[\n",
    "        \"abs_upfront_price_deviation_perc\"\n",
    "    ]\n",
    "    .agg([\"mean\", \"count\", \"median\", \"std\"])\n",
    "    .reset_index()\n",
    ").rename(\n",
    "    columns={\n",
    "        \"mean\": \"Mean Abs Deviation (%)\",\n",
    "        \"median\": \"Median Abs Deviation (%)\",\n",
    "    }\n",
    ")"
   ]
  },
  {
   "cell_type": "code",
   "execution_count": null,
   "id": "16b666e9",
   "metadata": {},
   "outputs": [],
   "source": [
    "device_price_abs_deviation_df[device_price_abs_deviation_df[\"count\"] > 10].sort_values(\n",
    "    \"Median Abs Deviation (%)\", ascending=False\n",
    ")"
   ]
  },
  {
   "attachments": {},
   "cell_type": "markdown",
   "id": "a021be29",
   "metadata": {},
   "source": [
    "In line with the points with from the poor GPS confidence, brands like `infinix`, `itel`, `tecno` also result in a high median deviation and might require additional calibration."
   ]
  },
  {
   "attachments": {},
   "cell_type": "markdown",
   "id": "86a2ea34",
   "metadata": {},
   "source": [
    "### Date\n",
    "\n",
    "Is there any particular day that the prices are deviation more often?"
   ]
  },
  {
   "cell_type": "code",
   "execution_count": null,
   "id": "2448296f",
   "metadata": {},
   "outputs": [],
   "source": [
    "upfront_pricing_data_df[\"ride_date\"] = upfront_pricing_data_df[\"calc_created\"].dt.date"
   ]
  },
  {
   "cell_type": "code",
   "execution_count": null,
   "id": "294582da",
   "metadata": {},
   "outputs": [],
   "source": [
    "date_price_abs_deviation_df = (\n",
    "    upfront_pricing_data_df.groupby([\"ride_date\"])[\"abs_upfront_price_deviation_perc\"]\n",
    "    .agg([\"mean\", \"count\", \"median\", \"std\"])\n",
    "    .reset_index()\n",
    ").rename(\n",
    "    columns={\n",
    "        \"mean\": \"Mean Abs Deviation (%)\",\n",
    "        \"ride_date\": \"Ride Date\",\n",
    "        \"median\": \"Median Abs Deviation (%)\",\n",
    "    }\n",
    ")\n",
    "date_price_abs_deviation_df[\"Coefficient of Variation\"] = (\n",
    "    date_price_abs_deviation_df[\"std\"]\n",
    "    / date_price_abs_deviation_df[\"Mean Abs Deviation (%)\"]\n",
    ")\n",
    "melted_date_price_abs_deviation_df = pd.melt(\n",
    "    date_price_abs_deviation_df,\n",
    "    value_vars=[\"Median Abs Deviation (%)\", \"Mean Abs Deviation (%)\"],\n",
    "    id_vars=\"Ride Date\",\n",
    ")"
   ]
  },
  {
   "cell_type": "code",
   "execution_count": null,
   "id": "d2576ce4",
   "metadata": {},
   "outputs": [],
   "source": [
    "melted_date_price_abs_deviation_df"
   ]
  },
  {
   "cell_type": "code",
   "execution_count": null,
   "id": "43756a25",
   "metadata": {},
   "outputs": [],
   "source": [
    "fig, ax = plt.subplots(figsize=(16, 6), dpi=120)\n",
    "g = sns.lineplot(\n",
    "    data=melted_date_price_abs_deviation_df,\n",
    "    x=\"Ride Date\",\n",
    "    y=\"value\",\n",
    "    hue=\"variable\",\n",
    "    marker=\"o\",\n",
    "    ax=ax,\n",
    ")\n",
    "plt.xticks(rotation=90)\n",
    "ax.set(xticks=melted_date_price_abs_deviation_df[\"Ride Date\"].values)\n",
    "plt.ylabel(\"Deviation (%)\")\n",
    "g.axhline(\n",
    "    upfront_pricing_data_df[\"abs_upfront_price_deviation_perc\"].mean(),\n",
    "    linestyle=\"--\",\n",
    "    color=\"orange\",\n",
    "    label=\"Global Mean Abs Deviation (%)\",\n",
    ")\n",
    "g.axhline(\n",
    "    upfront_pricing_data_df[\"abs_upfront_price_deviation_perc\"].median(),\n",
    "    linestyle=\"--\",\n",
    "    color=\"blue\",\n",
    "    label=\"Global Median Abs Deviation (%)\",\n",
    ")\n",
    "plt.legend()\n",
    "plt.grid()"
   ]
  },
  {
   "cell_type": "code",
   "execution_count": null,
   "id": "8817b31f",
   "metadata": {},
   "outputs": [],
   "source": [
    "fig, ax = plt.subplots(figsize=(16, 6), dpi=120)\n",
    "sns.lineplot(\n",
    "    data=date_price_abs_deviation_df,\n",
    "    x=\"Ride Date\",\n",
    "    y=\"Coefficient of Variation\",\n",
    "    marker=\"o\",\n",
    "    ax=ax,\n",
    ")\n",
    "plt.xticks(rotation=90)\n",
    "ax.set(xticks=date_price_abs_deviation_df[\"Ride Date\"].values)\n",
    "plt.grid()"
   ]
  },
  {
   "cell_type": "code",
   "execution_count": null,
   "id": "4d8cccbe",
   "metadata": {},
   "outputs": [],
   "source": [
    "upfront_pricing_data_df.loc[\n",
    "    upfront_pricing_data_df[\"ride_date\"]\n",
    "    == dt.datetime(year=2020, month=2, day=4).date(),\n",
    "    [\"abs_upfront_price_deviation_perc\"],\n",
    "].describe()"
   ]
  },
  {
   "attachments": {},
   "cell_type": "markdown",
   "id": "33715ba2",
   "metadata": {},
   "source": [
    "* Although the mean deviation is higher on the 16th, the median is still roughly similar to the global median. \n",
    "* There is an outlier on the 16th that's resulting in the higher mean price deviation. Furthermore, the coefficient of variation is the highest on that date.\n",
    "* Date isn't a factor that's directly impacting the upfront price deviation."
   ]
  },
  {
   "cell_type": "code",
   "execution_count": null,
   "id": "e05efbd2",
   "metadata": {},
   "outputs": [],
   "source": [
    "upfront_pricing_data_df.loc[\n",
    "    (\n",
    "        upfront_pricing_data_df[\"ride_date\"]\n",
    "        == dt.datetime(year=2020, month=2, day=4).date()\n",
    "    )\n",
    "    & (upfront_pricing_data_df[\"abs_upfront_price_deviation_perc\"] >= 300),\n",
    "].T"
   ]
  },
  {
   "attachments": {},
   "cell_type": "markdown",
   "id": "ee9983ca",
   "metadata": {},
   "source": [
    "There's a significant difference in the duration and distance here, which is why we're seeing such a mean deviation."
   ]
  },
  {
   "attachments": {},
   "cell_type": "markdown",
   "id": "39bdfa2a",
   "metadata": {},
   "source": [
    "## Destination Changes\n",
    "\n",
    "Changing destinations midway through the ride could require the algorithm to re-calculate the journey."
   ]
  },
  {
   "cell_type": "code",
   "execution_count": null,
   "id": "5efb0664",
   "metadata": {},
   "outputs": [],
   "source": [
    "dest_price_abs_deviation_df = (\n",
    "    upfront_pricing_data_df.groupby([\"dest_change_number\"])[\n",
    "        \"abs_upfront_price_deviation_perc\"\n",
    "    ]\n",
    "    .agg([\"mean\", \"count\", \"median\", \"std\"])\n",
    "    .reset_index()\n",
    ").rename(\n",
    "    columns={\n",
    "        \"mean\": \"Mean Abs Deviation (%)\",\n",
    "        \"median\": \"Median Abs Deviation (%)\",\n",
    "        \"std\": \"Standard Deviation\",\n",
    "    }\n",
    ")\n",
    "dest_price_abs_deviation_df[\"Coefficient of Variation\"] = (\n",
    "    dest_price_abs_deviation_df[\"Standard Deviation\"]\n",
    "    / dest_price_abs_deviation_df[\"Mean Abs Deviation (%)\"]\n",
    ")"
   ]
  },
  {
   "cell_type": "code",
   "execution_count": null,
   "id": "6683e7c6",
   "metadata": {},
   "outputs": [],
   "source": [
    "dest_price_abs_deviation_df"
   ]
  },
  {
   "attachments": {},
   "cell_type": "markdown",
   "id": "c9db69bb",
   "metadata": {},
   "source": [
    "* There's a significant increase in the median deviation above 1 ride changes. \n",
    "* However it's difficult to say with confidence that this trend will continue as the number of ride changes increase.\n",
    "* We can probably show the customer an alert stating that pricing would change drastically with each ride change."
   ]
  },
  {
   "attachments": {},
   "cell_type": "markdown",
   "id": "60746ebe",
   "metadata": {},
   "source": [
    "## EU Indicator"
   ]
  },
  {
   "cell_type": "code",
   "execution_count": null,
   "id": "f26c69df",
   "metadata": {},
   "outputs": [],
   "source": [
    "eu_price_abs_deviation_df = (\n",
    "    upfront_pricing_data_df.groupby([\"eu_indicator\"])[\n",
    "        \"abs_upfront_price_deviation_perc\"\n",
    "    ]\n",
    "    .agg([\"mean\", \"count\", \"median\", \"std\"])\n",
    "    .reset_index()\n",
    ").rename(\n",
    "    columns={\n",
    "        \"mean\": \"Mean Abs Deviation (%)\",\n",
    "        \"median\": \"Median Abs Deviation (%)\",\n",
    "        \"std\": \"Standard Deviation\",\n",
    "    }\n",
    ")\n",
    "eu_price_abs_deviation_df[\"Coefficient of Variation\"] = (\n",
    "    eu_price_abs_deviation_df[\"Standard Deviation\"]\n",
    "    / eu_price_abs_deviation_df[\"Mean Abs Deviation (%)\"]\n",
    ")"
   ]
  },
  {
   "cell_type": "code",
   "execution_count": null,
   "id": "f4cb9261",
   "metadata": {},
   "outputs": [],
   "source": [
    "eu_price_abs_deviation_df"
   ]
  },
  {
   "attachments": {},
   "cell_type": "markdown",
   "id": "6ba91826",
   "metadata": {},
   "source": [
    "* There is a much higher delta in non-EU countries\n",
    "* This could be because the road infrastructure is far better in the EU. Frequent road closures, deviation in distances cause prices to increase.\n",
    "* It could also be due to regulations put in place that do not allow price deviations in the EU."
   ]
  },
  {
   "cell_type": "code",
   "execution_count": null,
   "id": "a7c7b940",
   "metadata": {},
   "outputs": [],
   "source": [
    "upfront_pricing_data_df[\"abs_distance_deviation_perc\"] = abs(\n",
    "    (\n",
    "        upfront_pricing_data_df[\"predicted_distance\"]\n",
    "        - upfront_pricing_data_df[\"distance\"]\n",
    "    )\n",
    "    / upfront_pricing_data_df[\"predicted_distance\"]\n",
    "    * 100\n",
    ")"
   ]
  },
  {
   "cell_type": "code",
   "execution_count": null,
   "id": "12f18517",
   "metadata": {},
   "outputs": [],
   "source": [
    "eu_distance_abs_deviation_df = (\n",
    "    upfront_pricing_data_df.groupby([\"eu_indicator\"])[\"abs_distance_deviation_perc\"]\n",
    "    .agg([\"mean\", \"count\", \"median\", \"std\"])\n",
    "    .reset_index()\n",
    ").rename(\n",
    "    columns={\n",
    "        \"mean\": \"Mean Abs Deviation (%)\",\n",
    "        \"median\": \"Median Abs Deviation (%)\",\n",
    "        \"std\": \"Standard Deviation\",\n",
    "    }\n",
    ")\n",
    "eu_distance_abs_deviation_df[\"Coefficient of Variation\"] = (\n",
    "    eu_distance_abs_deviation_df[\"Standard Deviation\"]\n",
    "    / eu_distance_abs_deviation_df[\"Mean Abs Deviation (%)\"]\n",
    ")"
   ]
  },
  {
   "cell_type": "code",
   "execution_count": null,
   "id": "41184c68",
   "metadata": {},
   "outputs": [],
   "source": [
    "eu_distance_abs_deviation_df"
   ]
  },
  {
   "attachments": {},
   "cell_type": "markdown",
   "id": "c482d11a",
   "metadata": {},
   "source": [
    "Since deviation in distances and deviation in prices is correlated, it's evident that distances deviate more likely in non-EU countries as opposed to EU ones."
   ]
  },
  {
   "attachments": {},
   "cell_type": "markdown",
   "id": "8aec6b35",
   "metadata": {},
   "source": [
    "## App version\n",
    "\n",
    "Is there any particular app version that's buggy?\n",
    "\n",
    "Although pricing is calculated on the backend, is there something inherently wrong with a way a certain app version extracts location or duration information?"
   ]
  },
  {
   "cell_type": "code",
   "execution_count": null,
   "id": "d1f22240",
   "metadata": {},
   "outputs": [],
   "source": [
    "ride_appv_price_abs_deviation_df = (\n",
    "    upfront_pricing_data_df.groupby([\"rider_app_version\"])[\n",
    "        \"abs_upfront_price_deviation_perc\"\n",
    "    ]\n",
    "    .agg([\"mean\", \"count\", \"median\", \"std\"])\n",
    "    .reset_index()\n",
    ").rename(\n",
    "    columns={\n",
    "        \"mean\": \"Mean Abs Deviation (%)\",\n",
    "        \"median\": \"Median Abs Deviation (%)\",\n",
    "        \"std\": \"Standard Deviation\",\n",
    "    }\n",
    ")\n",
    "ride_appv_price_abs_deviation_df[\"Coefficient of Variation\"] = (\n",
    "    ride_appv_price_abs_deviation_df[\"Standard Deviation\"]\n",
    "    / ride_appv_price_abs_deviation_df[\"Mean Abs Deviation (%)\"]\n",
    ")"
   ]
  },
  {
   "cell_type": "code",
   "execution_count": null,
   "id": "63c9336a",
   "metadata": {},
   "outputs": [],
   "source": [
    "ride_appv_price_abs_deviation_df[\n",
    "    ride_appv_price_abs_deviation_df[\"count\"] > 10\n",
    "].sort_values(by=[\"Median Abs Deviation (%)\"], ascending=False).head(25)"
   ]
  },
  {
   "attachments": {},
   "cell_type": "markdown",
   "id": "e64abc93",
   "metadata": {},
   "source": [
    "* It seems like certain app versions like `CA.5.47` are producing higher Median abs deviation than others and might need to be looked into.\n",
    "* Since app versions depend on adoption, we can check to see the percentage of rides on an app version with at least 20% deviation."
   ]
  },
  {
   "cell_type": "code",
   "execution_count": null,
   "id": "9855e21f",
   "metadata": {},
   "outputs": [],
   "source": [
    "ride_appv_price_deviation_perc_df = (\n",
    "    pd.merge(\n",
    "        upfront_pricing_data_df.groupby([\"rider_app_version\"])[\"order_id_new\"]\n",
    "        .count()\n",
    "        .reset_index(),\n",
    "        upfront_pricing_data_df[\n",
    "            upfront_pricing_data_df[\"abs_upfront_price_deviation_perc\"] > 20\n",
    "        ]\n",
    "        .groupby([\"rider_app_version\"])[\"order_id_new\"]\n",
    "        .count()\n",
    "        .reset_index(),\n",
    "        on=[\"rider_app_version\"],\n",
    "        how=\"left\",\n",
    "    )\n",
    "    .fillna(0)\n",
    "    .rename(\n",
    "        columns={\n",
    "            \"order_id_new_x\": \"num_rides\",\n",
    "            \"order_id_new_y\": \"num_rides_with_20_perc_deviation\",\n",
    "        }\n",
    "    )\n",
    ")"
   ]
  },
  {
   "cell_type": "code",
   "execution_count": null,
   "id": "b3891da5",
   "metadata": {},
   "outputs": [],
   "source": [
    "ride_appv_price_deviation_perc_df[\"perc_rides_with_20_perc_deviation\"] = (\n",
    "    ride_appv_price_deviation_perc_df[\"num_rides_with_20_perc_deviation\"]\n",
    "    * 100\n",
    "    / ride_appv_price_deviation_perc_df[\"num_rides\"]\n",
    ")"
   ]
  },
  {
   "cell_type": "code",
   "execution_count": null,
   "id": "0b3ff143",
   "metadata": {},
   "outputs": [],
   "source": [
    "ride_appv_price_deviation_perc_df[\n",
    "    ride_appv_price_deviation_perc_df[\"num_rides\"] > 10\n",
    "].sort_values(by=[\"perc_rides_with_20_perc_deviation\"], ascending=False)"
   ]
  },
  {
   "attachments": {},
   "cell_type": "markdown",
   "id": "98d8c63c",
   "metadata": {},
   "source": [
    "Similar to the insight above, app versions like `CA.5.47` are producing a high number of rides with errors."
   ]
  },
  {
   "attachments": {},
   "cell_type": "markdown",
   "id": "c424f316",
   "metadata": {},
   "source": [
    "## 0 Distances"
   ]
  },
  {
   "cell_type": "code",
   "execution_count": null,
   "id": "04475c37",
   "metadata": {},
   "outputs": [],
   "source": [
    "upfront_pricing_data_df.loc[\n",
    "    upfront_pricing_data_df[\"distance\"] == 0, \"abs_upfront_price_deviation_perc\"\n",
    "].describe()"
   ]
  },
  {
   "cell_type": "code",
   "execution_count": null,
   "id": "c1ba9022",
   "metadata": {},
   "outputs": [],
   "source": [
    "upfront_pricing_data_df.loc[\n",
    "    upfront_pricing_data_df[\"duration\"] == 0, [\"distance\", \"duration\"]\n",
    "]"
   ]
  },
  {
   "cell_type": "code",
   "execution_count": null,
   "id": "a9ef0e6e",
   "metadata": {},
   "outputs": [],
   "source": [
    "upfront_pricing_data_df.loc[\n",
    "    upfront_pricing_data_df[\"duration\"] == 0, [\"distance\", \"duration\"]\n",
    "].shape"
   ]
  },
  {
   "cell_type": "code",
   "execution_count": null,
   "id": "8069ccd2",
   "metadata": {},
   "outputs": [],
   "source": []
  }
 ],
 "metadata": {
  "kernelspec": {
   "display_name": "Python 3 (ipykernel)",
   "language": "python",
   "name": "python3"
  },
  "language_info": {
   "codemirror_mode": {
    "name": "ipython",
    "version": 3
   },
   "file_extension": ".py",
   "mimetype": "text/x-python",
   "name": "python",
   "nbconvert_exporter": "python",
   "pygments_lexer": "ipython3",
   "version": "3.9.16"
  }
 },
 "nbformat": 4,
 "nbformat_minor": 5
}
