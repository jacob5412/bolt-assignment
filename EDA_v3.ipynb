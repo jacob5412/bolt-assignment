{
 "cells": [
  {
   "cell_type": "markdown",
   "id": "7deaef79",
   "metadata": {},
   "source": [
    "# Exploratory Data Analysis"
   ]
  },
  {
   "cell_type": "code",
   "execution_count": 1,
   "id": "2f0c9847",
   "metadata": {},
   "outputs": [
    {
     "data": {
      "application/javascript": [
       "\n",
       "            setTimeout(function() {\n",
       "                var nbb_cell_id = 1;\n",
       "                var nbb_unformatted_code = \"%load_ext nb_black\";\n",
       "                var nbb_formatted_code = \"%load_ext nb_black\";\n",
       "                var nbb_cells = Jupyter.notebook.get_cells();\n",
       "                for (var i = 0; i < nbb_cells.length; ++i) {\n",
       "                    if (nbb_cells[i].input_prompt_number == nbb_cell_id) {\n",
       "                        if (nbb_cells[i].get_text() == nbb_unformatted_code) {\n",
       "                             nbb_cells[i].set_text(nbb_formatted_code);\n",
       "                        }\n",
       "                        break;\n",
       "                    }\n",
       "                }\n",
       "            }, 500);\n",
       "            "
      ],
      "text/plain": [
       "<IPython.core.display.Javascript object>"
      ]
     },
     "metadata": {},
     "output_type": "display_data"
    }
   ],
   "source": [
    "%load_ext nb_black"
   ]
  },
  {
   "cell_type": "code",
   "execution_count": 2,
   "id": "2ac08341",
   "metadata": {},
   "outputs": [
    {
     "data": {
      "application/javascript": [
       "\n",
       "            setTimeout(function() {\n",
       "                var nbb_cell_id = 2;\n",
       "                var nbb_unformatted_code = \"import scipy\\n\\nimport datetime as dt\\nimport pandas as pd\\nimport numpy as np\\nimport seaborn as sns\\nimport matplotlib.pyplot as plt\\n\\nfrom matplotlib import dates\";\n",
       "                var nbb_formatted_code = \"import scipy\\n\\nimport datetime as dt\\nimport pandas as pd\\nimport numpy as np\\nimport seaborn as sns\\nimport matplotlib.pyplot as plt\\n\\nfrom matplotlib import dates\";\n",
       "                var nbb_cells = Jupyter.notebook.get_cells();\n",
       "                for (var i = 0; i < nbb_cells.length; ++i) {\n",
       "                    if (nbb_cells[i].input_prompt_number == nbb_cell_id) {\n",
       "                        if (nbb_cells[i].get_text() == nbb_unformatted_code) {\n",
       "                             nbb_cells[i].set_text(nbb_formatted_code);\n",
       "                        }\n",
       "                        break;\n",
       "                    }\n",
       "                }\n",
       "            }, 500);\n",
       "            "
      ],
      "text/plain": [
       "<IPython.core.display.Javascript object>"
      ]
     },
     "metadata": {},
     "output_type": "display_data"
    }
   ],
   "source": [
    "import scipy\n",
    "\n",
    "import datetime as dt\n",
    "import pandas as pd\n",
    "import numpy as np\n",
    "import seaborn as sns\n",
    "import matplotlib.pyplot as plt\n",
    "\n",
    "from matplotlib import dates"
   ]
  },
  {
   "cell_type": "markdown",
   "id": "1ca91b5a",
   "metadata": {},
   "source": [
    "## Data Cleaning"
   ]
  },
  {
   "cell_type": "code",
   "execution_count": 3,
   "id": "94003bf2",
   "metadata": {},
   "outputs": [
    {
     "data": {
      "application/javascript": [
       "\n",
       "            setTimeout(function() {\n",
       "                var nbb_cell_id = 3;\n",
       "                var nbb_unformatted_code = \"pricing_data_df = pd.read_csv(\\\"data/test.csv\\\")\";\n",
       "                var nbb_formatted_code = \"pricing_data_df = pd.read_csv(\\\"data/test.csv\\\")\";\n",
       "                var nbb_cells = Jupyter.notebook.get_cells();\n",
       "                for (var i = 0; i < nbb_cells.length; ++i) {\n",
       "                    if (nbb_cells[i].input_prompt_number == nbb_cell_id) {\n",
       "                        if (nbb_cells[i].get_text() == nbb_unformatted_code) {\n",
       "                             nbb_cells[i].set_text(nbb_formatted_code);\n",
       "                        }\n",
       "                        break;\n",
       "                    }\n",
       "                }\n",
       "            }, 500);\n",
       "            "
      ],
      "text/plain": [
       "<IPython.core.display.Javascript object>"
      ]
     },
     "metadata": {},
     "output_type": "display_data"
    }
   ],
   "source": [
    "pricing_data_df = pd.read_csv(\"data/test.csv\")"
   ]
  },
  {
   "cell_type": "markdown",
   "id": "9b00736e",
   "metadata": {},
   "source": [
    "During upfront pricing, the following factors are available to us:\n",
    "\n",
    "1. Type of vehicle - premium, XL, go, etc\n",
    "2. Customers Profile\n",
    "    - Fraud Score\n",
    "    - Lifetime value\n",
    "    - Number of previous cancellation by driver within journey\n",
    "3. Geography\n",
    "    - Distance\n",
    "    - Starting destination\n",
    "    - Ending destination\n",
    "    - Tolls\n",
    "2. Traffic\n",
    "    - Wait time due to incoming traffic\n",
    "3. Surge\n",
    "    - Time of day i.e. Rush Hoiur\n",
    "    - High Demand/Low Supply\n",
    "    - Bad weather"
   ]
  },
  {
   "cell_type": "code",
   "execution_count": 4,
   "id": "23cbcabc",
   "metadata": {},
   "outputs": [
    {
     "data": {
      "application/javascript": [
       "\n",
       "            setTimeout(function() {\n",
       "                var nbb_cell_id = 4;\n",
       "                var nbb_unformatted_code = \"pricing_data_df[\\\"calc_created\\\"] = pd.to_datetime(pricing_data_df[\\\"calc_created\\\"])\";\n",
       "                var nbb_formatted_code = \"pricing_data_df[\\\"calc_created\\\"] = pd.to_datetime(pricing_data_df[\\\"calc_created\\\"])\";\n",
       "                var nbb_cells = Jupyter.notebook.get_cells();\n",
       "                for (var i = 0; i < nbb_cells.length; ++i) {\n",
       "                    if (nbb_cells[i].input_prompt_number == nbb_cell_id) {\n",
       "                        if (nbb_cells[i].get_text() == nbb_unformatted_code) {\n",
       "                             nbb_cells[i].set_text(nbb_formatted_code);\n",
       "                        }\n",
       "                        break;\n",
       "                    }\n",
       "                }\n",
       "            }, 500);\n",
       "            "
      ],
      "text/plain": [
       "<IPython.core.display.Javascript object>"
      ]
     },
     "metadata": {},
     "output_type": "display_data"
    }
   ],
   "source": [
    "pricing_data_df[\"calc_created\"] = pd.to_datetime(pricing_data_df[\"calc_created\"])"
   ]
  },
  {
   "cell_type": "markdown",
   "id": "2ad3ab91",
   "metadata": {},
   "source": [
    "* Removing all UIDs and tokens as we can't feed them into model and UUIDs are calculated uniquely for each session.\n",
    "* Ticket ID for resolution isn't useful as we don't have any ticket information."
   ]
  },
  {
   "cell_type": "code",
   "execution_count": 5,
   "id": "7b9451ea",
   "metadata": {},
   "outputs": [
    {
     "data": {
      "application/javascript": [
       "\n",
       "            setTimeout(function() {\n",
       "                var nbb_cell_id = 5;\n",
       "                var nbb_unformatted_code = \"pricing_data_df.drop(\\n    [\\\"driver_device_uid_new\\\", \\\"device_token\\\", \\\"ticket_id_new\\\"], axis=1, inplace=True\\n)\";\n",
       "                var nbb_formatted_code = \"pricing_data_df.drop(\\n    [\\\"driver_device_uid_new\\\", \\\"device_token\\\", \\\"ticket_id_new\\\"], axis=1, inplace=True\\n)\";\n",
       "                var nbb_cells = Jupyter.notebook.get_cells();\n",
       "                for (var i = 0; i < nbb_cells.length; ++i) {\n",
       "                    if (nbb_cells[i].input_prompt_number == nbb_cell_id) {\n",
       "                        if (nbb_cells[i].get_text() == nbb_unformatted_code) {\n",
       "                             nbb_cells[i].set_text(nbb_formatted_code);\n",
       "                        }\n",
       "                        break;\n",
       "                    }\n",
       "                }\n",
       "            }, 500);\n",
       "            "
      ],
      "text/plain": [
       "<IPython.core.display.Javascript object>"
      ]
     },
     "metadata": {},
     "output_type": "display_data"
    }
   ],
   "source": [
    "pricing_data_df.drop(\n",
    "    [\"driver_device_uid_new\", \"device_token\", \"ticket_id_new\"], axis=1, inplace=True\n",
    ")"
   ]
  },
  {
   "cell_type": "markdown",
   "id": "c4a7be03",
   "metadata": {},
   "source": [
    "Can we remove all the states if all the rides are `finished`?"
   ]
  },
  {
   "cell_type": "code",
   "execution_count": 6,
   "id": "f88eb297",
   "metadata": {},
   "outputs": [
    {
     "data": {
      "text/plain": [
       "finished    4943\n",
       "Name: b_state, dtype: int64"
      ]
     },
     "execution_count": 6,
     "metadata": {},
     "output_type": "execute_result"
    },
    {
     "data": {
      "application/javascript": [
       "\n",
       "            setTimeout(function() {\n",
       "                var nbb_cell_id = 6;\n",
       "                var nbb_unformatted_code = \"pricing_data_df[\\\"b_state\\\"].value_counts()\";\n",
       "                var nbb_formatted_code = \"pricing_data_df[\\\"b_state\\\"].value_counts()\";\n",
       "                var nbb_cells = Jupyter.notebook.get_cells();\n",
       "                for (var i = 0; i < nbb_cells.length; ++i) {\n",
       "                    if (nbb_cells[i].input_prompt_number == nbb_cell_id) {\n",
       "                        if (nbb_cells[i].get_text() == nbb_unformatted_code) {\n",
       "                             nbb_cells[i].set_text(nbb_formatted_code);\n",
       "                        }\n",
       "                        break;\n",
       "                    }\n",
       "                }\n",
       "            }, 500);\n",
       "            "
      ],
      "text/plain": [
       "<IPython.core.display.Javascript object>"
      ]
     },
     "metadata": {},
     "output_type": "display_data"
    }
   ],
   "source": [
    "pricing_data_df[\"b_state\"].value_counts()"
   ]
  },
  {
   "cell_type": "code",
   "execution_count": 7,
   "id": "3ed3403c",
   "metadata": {},
   "outputs": [
    {
     "data": {
      "text/plain": [
       "finished    4942\n",
       "active         1\n",
       "Name: order_state, dtype: int64"
      ]
     },
     "execution_count": 7,
     "metadata": {},
     "output_type": "execute_result"
    },
    {
     "data": {
      "application/javascript": [
       "\n",
       "            setTimeout(function() {\n",
       "                var nbb_cell_id = 7;\n",
       "                var nbb_unformatted_code = \"pricing_data_df[\\\"order_state\\\"].value_counts()\";\n",
       "                var nbb_formatted_code = \"pricing_data_df[\\\"order_state\\\"].value_counts()\";\n",
       "                var nbb_cells = Jupyter.notebook.get_cells();\n",
       "                for (var i = 0; i < nbb_cells.length; ++i) {\n",
       "                    if (nbb_cells[i].input_prompt_number == nbb_cell_id) {\n",
       "                        if (nbb_cells[i].get_text() == nbb_unformatted_code) {\n",
       "                             nbb_cells[i].set_text(nbb_formatted_code);\n",
       "                        }\n",
       "                        break;\n",
       "                    }\n",
       "                }\n",
       "            }, 500);\n",
       "            "
      ],
      "text/plain": [
       "<IPython.core.display.Javascript object>"
      ]
     },
     "metadata": {},
     "output_type": "display_data"
    }
   ],
   "source": [
    "pricing_data_df[\"order_state\"].value_counts()"
   ]
  },
  {
   "cell_type": "code",
   "execution_count": 8,
   "id": "ef3ab9d4",
   "metadata": {},
   "outputs": [
    {
     "data": {
      "text/plain": [
       "finished    4943\n",
       "Name: order_try_state, dtype: int64"
      ]
     },
     "execution_count": 8,
     "metadata": {},
     "output_type": "execute_result"
    },
    {
     "data": {
      "application/javascript": [
       "\n",
       "            setTimeout(function() {\n",
       "                var nbb_cell_id = 8;\n",
       "                var nbb_unformatted_code = \"pricing_data_df[\\\"order_try_state\\\"].value_counts()\";\n",
       "                var nbb_formatted_code = \"pricing_data_df[\\\"order_try_state\\\"].value_counts()\";\n",
       "                var nbb_cells = Jupyter.notebook.get_cells();\n",
       "                for (var i = 0; i < nbb_cells.length; ++i) {\n",
       "                    if (nbb_cells[i].input_prompt_number == nbb_cell_id) {\n",
       "                        if (nbb_cells[i].get_text() == nbb_unformatted_code) {\n",
       "                             nbb_cells[i].set_text(nbb_formatted_code);\n",
       "                        }\n",
       "                        break;\n",
       "                    }\n",
       "                }\n",
       "            }, 500);\n",
       "            "
      ],
      "text/plain": [
       "<IPython.core.display.Javascript object>"
      ]
     },
     "metadata": {},
     "output_type": "display_data"
    }
   ],
   "source": [
    "pricing_data_df[\"order_try_state\"].value_counts()"
   ]
  },
  {
   "cell_type": "code",
   "execution_count": 9,
   "id": "b5cd5754",
   "metadata": {},
   "outputs": [
    {
     "data": {
      "application/javascript": [
       "\n",
       "            setTimeout(function() {\n",
       "                var nbb_cell_id = 9;\n",
       "                var nbb_unformatted_code = \"pricing_data_df.drop(\\n    [\\\"b_state\\\", \\\"order_state\\\", \\\"order_try_state\\\"], axis=1, inplace=True\\n)\";\n",
       "                var nbb_formatted_code = \"pricing_data_df.drop(\\n    [\\\"b_state\\\", \\\"order_state\\\", \\\"order_try_state\\\"], axis=1, inplace=True\\n)\";\n",
       "                var nbb_cells = Jupyter.notebook.get_cells();\n",
       "                for (var i = 0; i < nbb_cells.length; ++i) {\n",
       "                    if (nbb_cells[i].input_prompt_number == nbb_cell_id) {\n",
       "                        if (nbb_cells[i].get_text() == nbb_unformatted_code) {\n",
       "                             nbb_cells[i].set_text(nbb_formatted_code);\n",
       "                        }\n",
       "                        break;\n",
       "                    }\n",
       "                }\n",
       "            }, 500);\n",
       "            "
      ],
      "text/plain": [
       "<IPython.core.display.Javascript object>"
      ]
     },
     "metadata": {},
     "output_type": "display_data"
    }
   ],
   "source": [
    "pricing_data_df.drop(\n",
    "    [\"b_state\", \"order_state\", \"order_try_state\"], axis=1, inplace=True\n",
    ")"
   ]
  },
  {
   "cell_type": "markdown",
   "id": "a5f85370",
   "metadata": {},
   "source": [
    "All the orders are finished, hence this information is redundant.\n",
    "\n",
    "We can remove `order_try_id_new` since we already have `order_id_new` available. Furthermore, `dest_change_number` let's us know how many times the destination was changed."
   ]
  },
  {
   "cell_type": "code",
   "execution_count": 10,
   "id": "409cb995",
   "metadata": {},
   "outputs": [
    {
     "data": {
      "application/javascript": [
       "\n",
       "            setTimeout(function() {\n",
       "                var nbb_cell_id = 10;\n",
       "                var nbb_unformatted_code = \"pricing_data_df.drop([\\\"order_try_id_new\\\"], axis=1, inplace=True)\";\n",
       "                var nbb_formatted_code = \"pricing_data_df.drop([\\\"order_try_id_new\\\"], axis=1, inplace=True)\";\n",
       "                var nbb_cells = Jupyter.notebook.get_cells();\n",
       "                for (var i = 0; i < nbb_cells.length; ++i) {\n",
       "                    if (nbb_cells[i].input_prompt_number == nbb_cell_id) {\n",
       "                        if (nbb_cells[i].get_text() == nbb_unformatted_code) {\n",
       "                             nbb_cells[i].set_text(nbb_formatted_code);\n",
       "                        }\n",
       "                        break;\n",
       "                    }\n",
       "                }\n",
       "            }, 500);\n",
       "            "
      ],
      "text/plain": [
       "<IPython.core.display.Javascript object>"
      ]
     },
     "metadata": {},
     "output_type": "display_data"
    }
   ],
   "source": [
    "pricing_data_df.drop([\"order_try_id_new\"], axis=1, inplace=True)"
   ]
  },
  {
   "cell_type": "code",
   "execution_count": 11,
   "id": "7e05b539",
   "metadata": {},
   "outputs": [
    {
     "data": {
      "application/javascript": [
       "\n",
       "            setTimeout(function() {\n",
       "                var nbb_cell_id = 11;\n",
       "                var nbb_unformatted_code = \"pricing_data_df.drop_duplicates(inplace=True)\";\n",
       "                var nbb_formatted_code = \"pricing_data_df.drop_duplicates(inplace=True)\";\n",
       "                var nbb_cells = Jupyter.notebook.get_cells();\n",
       "                for (var i = 0; i < nbb_cells.length; ++i) {\n",
       "                    if (nbb_cells[i].input_prompt_number == nbb_cell_id) {\n",
       "                        if (nbb_cells[i].get_text() == nbb_unformatted_code) {\n",
       "                             nbb_cells[i].set_text(nbb_formatted_code);\n",
       "                        }\n",
       "                        break;\n",
       "                    }\n",
       "                }\n",
       "            }, 500);\n",
       "            "
      ],
      "text/plain": [
       "<IPython.core.display.Javascript object>"
      ]
     },
     "metadata": {},
     "output_type": "display_data"
    }
   ],
   "source": [
    "pricing_data_df.drop_duplicates(inplace=True)"
   ]
  },
  {
   "cell_type": "code",
   "execution_count": 12,
   "id": "2dfa407d",
   "metadata": {},
   "outputs": [
    {
     "data": {
      "application/javascript": [
       "\n",
       "            setTimeout(function() {\n",
       "                var nbb_cell_id = 12;\n",
       "                var nbb_unformatted_code = \"pricing_data_df.reset_index(inplace=True, drop=True)\";\n",
       "                var nbb_formatted_code = \"pricing_data_df.reset_index(inplace=True, drop=True)\";\n",
       "                var nbb_cells = Jupyter.notebook.get_cells();\n",
       "                for (var i = 0; i < nbb_cells.length; ++i) {\n",
       "                    if (nbb_cells[i].input_prompt_number == nbb_cell_id) {\n",
       "                        if (nbb_cells[i].get_text() == nbb_unformatted_code) {\n",
       "                             nbb_cells[i].set_text(nbb_formatted_code);\n",
       "                        }\n",
       "                        break;\n",
       "                    }\n",
       "                }\n",
       "            }, 500);\n",
       "            "
      ],
      "text/plain": [
       "<IPython.core.display.Javascript object>"
      ]
     },
     "metadata": {},
     "output_type": "display_data"
    }
   ],
   "source": [
    "pricing_data_df.reset_index(inplace=True, drop=True)"
   ]
  },
  {
   "cell_type": "code",
   "execution_count": 13,
   "id": "db097691",
   "metadata": {},
   "outputs": [
    {
     "name": "stdout",
     "output_type": "stream",
     "text": [
      "<class 'pandas.core.frame.DataFrame'>\n",
      "RangeIndex: 4270 entries, 0 to 4269\n",
      "Data columns (total 19 columns):\n",
      " #   Column                 Non-Null Count  Dtype         \n",
      "---  ------                 --------------  -----         \n",
      " 0   order_id_new           4270 non-null   int64         \n",
      " 1   calc_created           4270 non-null   datetime64[ns]\n",
      " 2   metered_price          4251 non-null   float64       \n",
      " 3   upfront_price          2984 non-null   float64       \n",
      " 4   distance               4270 non-null   int64         \n",
      " 5   duration               4270 non-null   int64         \n",
      " 6   gps_confidence         4270 non-null   int64         \n",
      " 7   entered_by             4270 non-null   object        \n",
      " 8   dest_change_number     4270 non-null   int64         \n",
      " 9   prediction_price_type  4251 non-null   object        \n",
      " 10  predicted_distance     4251 non-null   float64       \n",
      " 11  predicted_duration     4251 non-null   float64       \n",
      " 12  change_reason_pricing  258 non-null    object        \n",
      " 13  rider_app_version      4255 non-null   object        \n",
      " 14  driver_app_version     4270 non-null   object        \n",
      " 15  device_name            4270 non-null   object        \n",
      " 16  eu_indicator           4270 non-null   int64         \n",
      " 17  overpaid_ride_ticket   4270 non-null   int64         \n",
      " 18  fraud_score            1934 non-null   float64       \n",
      "dtypes: datetime64[ns](1), float64(5), int64(7), object(6)\n",
      "memory usage: 634.0+ KB\n"
     ]
    },
    {
     "data": {
      "application/javascript": [
       "\n",
       "            setTimeout(function() {\n",
       "                var nbb_cell_id = 13;\n",
       "                var nbb_unformatted_code = \"pricing_data_df.info()\";\n",
       "                var nbb_formatted_code = \"pricing_data_df.info()\";\n",
       "                var nbb_cells = Jupyter.notebook.get_cells();\n",
       "                for (var i = 0; i < nbb_cells.length; ++i) {\n",
       "                    if (nbb_cells[i].input_prompt_number == nbb_cell_id) {\n",
       "                        if (nbb_cells[i].get_text() == nbb_unformatted_code) {\n",
       "                             nbb_cells[i].set_text(nbb_formatted_code);\n",
       "                        }\n",
       "                        break;\n",
       "                    }\n",
       "                }\n",
       "            }, 500);\n",
       "            "
      ],
      "text/plain": [
       "<IPython.core.display.Javascript object>"
      ]
     },
     "metadata": {},
     "output_type": "display_data"
    }
   ],
   "source": [
    "pricing_data_df.info()"
   ]
  },
  {
   "cell_type": "code",
   "execution_count": 14,
   "id": "c6f50773",
   "metadata": {},
   "outputs": [
    {
     "data": {
      "application/javascript": [
       "\n",
       "            setTimeout(function() {\n",
       "                var nbb_cell_id = 14;\n",
       "                var nbb_unformatted_code = \"upfront_pricing_data_df = pricing_data_df.loc[\\n    (pricing_data_df[\\\"upfront_price\\\"].notnull()),\\n    :,\\n]\";\n",
       "                var nbb_formatted_code = \"upfront_pricing_data_df = pricing_data_df.loc[\\n    (pricing_data_df[\\\"upfront_price\\\"].notnull()),\\n    :,\\n]\";\n",
       "                var nbb_cells = Jupyter.notebook.get_cells();\n",
       "                for (var i = 0; i < nbb_cells.length; ++i) {\n",
       "                    if (nbb_cells[i].input_prompt_number == nbb_cell_id) {\n",
       "                        if (nbb_cells[i].get_text() == nbb_unformatted_code) {\n",
       "                             nbb_cells[i].set_text(nbb_formatted_code);\n",
       "                        }\n",
       "                        break;\n",
       "                    }\n",
       "                }\n",
       "            }, 500);\n",
       "            "
      ],
      "text/plain": [
       "<IPython.core.display.Javascript object>"
      ]
     },
     "metadata": {},
     "output_type": "display_data"
    }
   ],
   "source": [
    "upfront_pricing_data_df = pricing_data_df.loc[\n",
    "    (pricing_data_df[\"upfront_price\"].notnull()),\n",
    "    :,\n",
    "]"
   ]
  },
  {
   "cell_type": "code",
   "execution_count": 15,
   "id": "668ef40c",
   "metadata": {},
   "outputs": [
    {
     "data": {
      "text/plain": [
       "upfront    2984\n",
       "Name: prediction_price_type, dtype: int64"
      ]
     },
     "execution_count": 15,
     "metadata": {},
     "output_type": "execute_result"
    },
    {
     "data": {
      "application/javascript": [
       "\n",
       "            setTimeout(function() {\n",
       "                var nbb_cell_id = 15;\n",
       "                var nbb_unformatted_code = \"upfront_pricing_data_df[\\\"prediction_price_type\\\"].value_counts()\";\n",
       "                var nbb_formatted_code = \"upfront_pricing_data_df[\\\"prediction_price_type\\\"].value_counts()\";\n",
       "                var nbb_cells = Jupyter.notebook.get_cells();\n",
       "                for (var i = 0; i < nbb_cells.length; ++i) {\n",
       "                    if (nbb_cells[i].input_prompt_number == nbb_cell_id) {\n",
       "                        if (nbb_cells[i].get_text() == nbb_unformatted_code) {\n",
       "                             nbb_cells[i].set_text(nbb_formatted_code);\n",
       "                        }\n",
       "                        break;\n",
       "                    }\n",
       "                }\n",
       "            }, 500);\n",
       "            "
      ],
      "text/plain": [
       "<IPython.core.display.Javascript object>"
      ]
     },
     "metadata": {},
     "output_type": "display_data"
    }
   ],
   "source": [
    "upfront_pricing_data_df[\"prediction_price_type\"].value_counts()"
   ]
  },
  {
   "cell_type": "markdown",
   "id": "a1b30bac",
   "metadata": {},
   "source": [
    "Since all upfront prices have prediction price type as upfront, we can drop `prediction_price_type`,"
   ]
  },
  {
   "cell_type": "code",
   "execution_count": 16,
   "id": "740d40ce",
   "metadata": {},
   "outputs": [
    {
     "name": "stderr",
     "output_type": "stream",
     "text": [
      "/var/folders/s4/n8kktn1x7jn2c6hfpf4y7hch0000gq/T/ipykernel_73208/1004787767.py:1: SettingWithCopyWarning: \n",
      "A value is trying to be set on a copy of a slice from a DataFrame\n",
      "\n",
      "See the caveats in the documentation: https://pandas.pydata.org/pandas-docs/stable/user_guide/indexing.html#returning-a-view-versus-a-copy\n",
      "  upfront_pricing_data_df.drop([\"prediction_price_type\"], axis=1, inplace=True)\n"
     ]
    },
    {
     "data": {
      "application/javascript": [
       "\n",
       "            setTimeout(function() {\n",
       "                var nbb_cell_id = 16;\n",
       "                var nbb_unformatted_code = \"upfront_pricing_data_df.drop([\\\"prediction_price_type\\\"], axis=1, inplace=True)\";\n",
       "                var nbb_formatted_code = \"upfront_pricing_data_df.drop([\\\"prediction_price_type\\\"], axis=1, inplace=True)\";\n",
       "                var nbb_cells = Jupyter.notebook.get_cells();\n",
       "                for (var i = 0; i < nbb_cells.length; ++i) {\n",
       "                    if (nbb_cells[i].input_prompt_number == nbb_cell_id) {\n",
       "                        if (nbb_cells[i].get_text() == nbb_unformatted_code) {\n",
       "                             nbb_cells[i].set_text(nbb_formatted_code);\n",
       "                        }\n",
       "                        break;\n",
       "                    }\n",
       "                }\n",
       "            }, 500);\n",
       "            "
      ],
      "text/plain": [
       "<IPython.core.display.Javascript object>"
      ]
     },
     "metadata": {},
     "output_type": "display_data"
    }
   ],
   "source": [
    "upfront_pricing_data_df.drop([\"prediction_price_type\"], axis=1, inplace=True)"
   ]
  },
  {
   "cell_type": "markdown",
   "id": "f6cb2c2d",
   "metadata": {},
   "source": [
    "## Problem Scope\n",
    "\n",
    "Does a deviation actually exist?"
   ]
  },
  {
   "cell_type": "code",
   "execution_count": 17,
   "id": "23cd65a9",
   "metadata": {},
   "outputs": [
    {
     "name": "stderr",
     "output_type": "stream",
     "text": [
      "/var/folders/s4/n8kktn1x7jn2c6hfpf4y7hch0000gq/T/ipykernel_73208/619866292.py:1: SettingWithCopyWarning: \n",
      "A value is trying to be set on a copy of a slice from a DataFrame.\n",
      "Try using .loc[row_indexer,col_indexer] = value instead\n",
      "\n",
      "See the caveats in the documentation: https://pandas.pydata.org/pandas-docs/stable/user_guide/indexing.html#returning-a-view-versus-a-copy\n",
      "  upfront_pricing_data_df[\"upfront_price_deviation_perc\"] = (\n",
      "/var/folders/s4/n8kktn1x7jn2c6hfpf4y7hch0000gq/T/ipykernel_73208/619866292.py:9: SettingWithCopyWarning: \n",
      "A value is trying to be set on a copy of a slice from a DataFrame.\n",
      "Try using .loc[row_indexer,col_indexer] = value instead\n",
      "\n",
      "See the caveats in the documentation: https://pandas.pydata.org/pandas-docs/stable/user_guide/indexing.html#returning-a-view-versus-a-copy\n",
      "  upfront_pricing_data_df[\"abs_upfront_price_deviation_perc\"] = abs(\n"
     ]
    },
    {
     "data": {
      "application/javascript": [
       "\n",
       "            setTimeout(function() {\n",
       "                var nbb_cell_id = 17;\n",
       "                var nbb_unformatted_code = \"upfront_pricing_data_df[\\\"upfront_price_deviation_perc\\\"] = (\\n    (\\n        upfront_pricing_data_df[\\\"upfront_price\\\"]\\n        - upfront_pricing_data_df[\\\"metered_price\\\"]\\n    )\\n    / upfront_pricing_data_df[\\\"upfront_price\\\"]\\n    * 100\\n)\\nupfront_pricing_data_df[\\\"abs_upfront_price_deviation_perc\\\"] = abs(\\n    upfront_pricing_data_df[\\\"upfront_price_deviation_perc\\\"]\\n)\";\n",
       "                var nbb_formatted_code = \"upfront_pricing_data_df[\\\"upfront_price_deviation_perc\\\"] = (\\n    (\\n        upfront_pricing_data_df[\\\"upfront_price\\\"]\\n        - upfront_pricing_data_df[\\\"metered_price\\\"]\\n    )\\n    / upfront_pricing_data_df[\\\"upfront_price\\\"]\\n    * 100\\n)\\nupfront_pricing_data_df[\\\"abs_upfront_price_deviation_perc\\\"] = abs(\\n    upfront_pricing_data_df[\\\"upfront_price_deviation_perc\\\"]\\n)\";\n",
       "                var nbb_cells = Jupyter.notebook.get_cells();\n",
       "                for (var i = 0; i < nbb_cells.length; ++i) {\n",
       "                    if (nbb_cells[i].input_prompt_number == nbb_cell_id) {\n",
       "                        if (nbb_cells[i].get_text() == nbb_unformatted_code) {\n",
       "                             nbb_cells[i].set_text(nbb_formatted_code);\n",
       "                        }\n",
       "                        break;\n",
       "                    }\n",
       "                }\n",
       "            }, 500);\n",
       "            "
      ],
      "text/plain": [
       "<IPython.core.display.Javascript object>"
      ]
     },
     "metadata": {},
     "output_type": "display_data"
    }
   ],
   "source": [
    "upfront_pricing_data_df[\"upfront_price_deviation_perc\"] = (\n",
    "    (\n",
    "        upfront_pricing_data_df[\"upfront_price\"]\n",
    "        - upfront_pricing_data_df[\"metered_price\"]\n",
    "    )\n",
    "    / upfront_pricing_data_df[\"upfront_price\"]\n",
    "    * 100\n",
    ")\n",
    "upfront_pricing_data_df[\"abs_upfront_price_deviation_perc\"] = abs(\n",
    "    upfront_pricing_data_df[\"upfront_price_deviation_perc\"]\n",
    ")"
   ]
  },
  {
   "cell_type": "code",
   "execution_count": 18,
   "id": "c4f91bb0",
   "metadata": {},
   "outputs": [
    {
     "data": {
      "text/plain": [
       "count    2984.000000\n",
       "mean       30.682526\n",
       "std        58.033973\n",
       "min         0.000000\n",
       "25%         4.425441\n",
       "50%        16.654625\n",
       "75%        34.251152\n",
       "85%        51.847166\n",
       "90%        64.516857\n",
       "95%        98.778312\n",
       "99%       263.677587\n",
       "max      1154.732387\n",
       "Name: abs_upfront_price_deviation_perc, dtype: float64"
      ]
     },
     "execution_count": 18,
     "metadata": {},
     "output_type": "execute_result"
    },
    {
     "data": {
      "application/javascript": [
       "\n",
       "            setTimeout(function() {\n",
       "                var nbb_cell_id = 18;\n",
       "                var nbb_unformatted_code = \"upfront_pricing_data_df[\\\"abs_upfront_price_deviation_perc\\\"].describe(\\n    percentiles=[0.25, 0.5, 0.75, 0.85, 0.9, 0.95, 0.99]\\n)\";\n",
       "                var nbb_formatted_code = \"upfront_pricing_data_df[\\\"abs_upfront_price_deviation_perc\\\"].describe(\\n    percentiles=[0.25, 0.5, 0.75, 0.85, 0.9, 0.95, 0.99]\\n)\";\n",
       "                var nbb_cells = Jupyter.notebook.get_cells();\n",
       "                for (var i = 0; i < nbb_cells.length; ++i) {\n",
       "                    if (nbb_cells[i].input_prompt_number == nbb_cell_id) {\n",
       "                        if (nbb_cells[i].get_text() == nbb_unformatted_code) {\n",
       "                             nbb_cells[i].set_text(nbb_formatted_code);\n",
       "                        }\n",
       "                        break;\n",
       "                    }\n",
       "                }\n",
       "            }, 500);\n",
       "            "
      ],
      "text/plain": [
       "<IPython.core.display.Javascript object>"
      ]
     },
     "metadata": {},
     "output_type": "display_data"
    }
   ],
   "source": [
    "upfront_pricing_data_df[\"abs_upfront_price_deviation_perc\"].describe(\n",
    "    percentiles=[0.25, 0.5, 0.75, 0.85, 0.9, 0.95, 0.99]\n",
    ")"
   ]
  },
  {
   "cell_type": "markdown",
   "id": "8b8902bd",
   "metadata": {},
   "source": [
    "Roughly 50% of the orders are deviating below 20% from the upfront pricing. "
   ]
  },
  {
   "cell_type": "code",
   "execution_count": 19,
   "id": "05c7c1a9",
   "metadata": {},
   "outputs": [
    {
     "data": {
      "image/png": "[encoded data removed]",
      "text/plain": [
       "<Figure size 1920x720 with 1 Axes>"
      ]
     },
     "metadata": {},
     "output_type": "display_data"
    },
    {
     "data": {
      "application/javascript": [
       "\n",
       "            setTimeout(function() {\n",
       "                var nbb_cell_id = 19;\n",
       "                var nbb_unformatted_code = \"fig, ax = plt.subplots(figsize=(16, 6), dpi=120)\\np = sns.kdeplot(data=upfront_pricing_data_df[\\\"upfront_price_deviation_perc\\\"], ax=ax)\\nx, y = p.get_lines()[0].get_data()\\ncdf = scipy.integrate.cumtrapz(y, x, initial=0)\\nnearest_05 = np.abs(cdf - 0.5).argmin()\\nx_median = x[nearest_05]\\ny_median = y[nearest_05]\\nplt.vlines(x_median, 0, y_median, colors=\\\"black\\\", label=\\\"median deviation (%)\\\")\\nplt.legend()\\nplt.xlabel(\\\"Upfront Price Deviation (%)\\\")\\nplt.grid()\\nplt.show()\";\n",
       "                var nbb_formatted_code = \"fig, ax = plt.subplots(figsize=(16, 6), dpi=120)\\np = sns.kdeplot(data=upfront_pricing_data_df[\\\"upfront_price_deviation_perc\\\"], ax=ax)\\nx, y = p.get_lines()[0].get_data()\\ncdf = scipy.integrate.cumtrapz(y, x, initial=0)\\nnearest_05 = np.abs(cdf - 0.5).argmin()\\nx_median = x[nearest_05]\\ny_median = y[nearest_05]\\nplt.vlines(x_median, 0, y_median, colors=\\\"black\\\", label=\\\"median deviation (%)\\\")\\nplt.legend()\\nplt.xlabel(\\\"Upfront Price Deviation (%)\\\")\\nplt.grid()\\nplt.show()\";\n",
       "                var nbb_cells = Jupyter.notebook.get_cells();\n",
       "                for (var i = 0; i < nbb_cells.length; ++i) {\n",
       "                    if (nbb_cells[i].input_prompt_number == nbb_cell_id) {\n",
       "                        if (nbb_cells[i].get_text() == nbb_unformatted_code) {\n",
       "                             nbb_cells[i].set_text(nbb_formatted_code);\n",
       "                        }\n",
       "                        break;\n",
       "                    }\n",
       "                }\n",
       "            }, 500);\n",
       "            "
      ],
      "text/plain": [
       "<IPython.core.display.Javascript object>"
      ]
     },
     "metadata": {},
     "output_type": "display_data"
    }
   ],
   "source": [
    "fig, ax = plt.subplots(figsize=(16, 6), dpi=120)\n",
    "p = sns.kdeplot(data=upfront_pricing_data_df[\"upfront_price_deviation_perc\"], ax=ax)\n",
    "x, y = p.get_lines()[0].get_data()\n",
    "cdf = scipy.integrate.cumtrapz(y, x, initial=0)\n",
    "nearest_05 = np.abs(cdf - 0.5).argmin()\n",
    "x_median = x[nearest_05]\n",
    "y_median = y[nearest_05]\n",
    "plt.vlines(x_median, 0, y_median, colors=\"black\", label=\"median deviation (%)\")\n",
    "plt.legend()\n",
    "plt.xlabel(\"Upfront Price Deviation (%)\")\n",
    "plt.grid()\n",
    "plt.show()"
   ]
  },
  {
   "cell_type": "code",
   "execution_count": 20,
   "id": "873bc825",
   "metadata": {},
   "outputs": [
    {
     "data": {
      "image/png": "[encoded data removed]",
      "text/plain": [
       "<Figure size 1920x720 with 1 Axes>"
      ]
     },
     "metadata": {},
     "output_type": "display_data"
    },
    {
     "data": {
      "application/javascript": [
       "\n",
       "            setTimeout(function() {\n",
       "                var nbb_cell_id = 20;\n",
       "                var nbb_unformatted_code = \"fig, ax = plt.subplots(figsize=(16, 6), dpi=120)\\np = sns.kdeplot(data=upfront_pricing_data_df[\\\"abs_upfront_price_deviation_perc\\\"], ax=ax)\\nx, y = p.get_lines()[0].get_data()\\ncdf = scipy.integrate.cumtrapz(y, x, initial=0)\\nnearest_05 = np.abs(cdf - 0.5).argmin()\\nx_median = x[nearest_05]\\ny_median = y[nearest_05]\\nplt.vlines(x_median, 0, y_median, colors=\\\"black\\\")\\nplt.grid()\\nplt.show()\";\n",
       "                var nbb_formatted_code = \"fig, ax = plt.subplots(figsize=(16, 6), dpi=120)\\np = sns.kdeplot(data=upfront_pricing_data_df[\\\"abs_upfront_price_deviation_perc\\\"], ax=ax)\\nx, y = p.get_lines()[0].get_data()\\ncdf = scipy.integrate.cumtrapz(y, x, initial=0)\\nnearest_05 = np.abs(cdf - 0.5).argmin()\\nx_median = x[nearest_05]\\ny_median = y[nearest_05]\\nplt.vlines(x_median, 0, y_median, colors=\\\"black\\\")\\nplt.grid()\\nplt.show()\";\n",
       "                var nbb_cells = Jupyter.notebook.get_cells();\n",
       "                for (var i = 0; i < nbb_cells.length; ++i) {\n",
       "                    if (nbb_cells[i].input_prompt_number == nbb_cell_id) {\n",
       "                        if (nbb_cells[i].get_text() == nbb_unformatted_code) {\n",
       "                             nbb_cells[i].set_text(nbb_formatted_code);\n",
       "                        }\n",
       "                        break;\n",
       "                    }\n",
       "                }\n",
       "            }, 500);\n",
       "            "
      ],
      "text/plain": [
       "<IPython.core.display.Javascript object>"
      ]
     },
     "metadata": {},
     "output_type": "display_data"
    }
   ],
   "source": [
    "fig, ax = plt.subplots(figsize=(16, 6), dpi=120)\n",
    "p = sns.kdeplot(data=upfront_pricing_data_df[\"abs_upfront_price_deviation_perc\"], ax=ax)\n",
    "x, y = p.get_lines()[0].get_data()\n",
    "cdf = scipy.integrate.cumtrapz(y, x, initial=0)\n",
    "nearest_05 = np.abs(cdf - 0.5).argmin()\n",
    "x_median = x[nearest_05]\n",
    "y_median = y[nearest_05]\n",
    "plt.vlines(x_median, 0, y_median, colors=\"black\")\n",
    "plt.grid()\n",
    "plt.show()"
   ]
  },
  {
   "cell_type": "markdown",
   "id": "9625e0fc",
   "metadata": {},
   "source": [
    "The distribution of pricing is right skewed long tailed. Our focus will on identifying what the source of the 50% of the error is."
   ]
  },
  {
   "cell_type": "markdown",
   "id": "8a8be4e6",
   "metadata": {},
   "source": [
    "## Predicted vs Actual Values"
   ]
  },
  {
   "cell_type": "code",
   "execution_count": 21,
   "id": "105a88dd",
   "metadata": {},
   "outputs": [
    {
     "data": {
      "image/png": "[encoded data removed]",
      "text/plain": [
       "<Figure size 1920x720 with 1 Axes>"
      ]
     },
     "metadata": {},
     "output_type": "display_data"
    },
    {
     "data": {
      "application/javascript": [
       "\n",
       "            setTimeout(function() {\n",
       "                var nbb_cell_id = 21;\n",
       "                var nbb_unformatted_code = \"fig, ax = plt.subplots(figsize=(16, 6), dpi=120)\\nsns.kdeplot(\\n    data=upfront_pricing_data_df[[\\\"upfront_price\\\", \\\"metered_price\\\"]], ax=ax, fill=True\\n)\\nplt.grid()\\nplt.show()\";\n",
       "                var nbb_formatted_code = \"fig, ax = plt.subplots(figsize=(16, 6), dpi=120)\\nsns.kdeplot(\\n    data=upfront_pricing_data_df[[\\\"upfront_price\\\", \\\"metered_price\\\"]], ax=ax, fill=True\\n)\\nplt.grid()\\nplt.show()\";\n",
       "                var nbb_cells = Jupyter.notebook.get_cells();\n",
       "                for (var i = 0; i < nbb_cells.length; ++i) {\n",
       "                    if (nbb_cells[i].input_prompt_number == nbb_cell_id) {\n",
       "                        if (nbb_cells[i].get_text() == nbb_unformatted_code) {\n",
       "                             nbb_cells[i].set_text(nbb_formatted_code);\n",
       "                        }\n",
       "                        break;\n",
       "                    }\n",
       "                }\n",
       "            }, 500);\n",
       "            "
      ],
      "text/plain": [
       "<IPython.core.display.Javascript object>"
      ]
     },
     "metadata": {},
     "output_type": "display_data"
    }
   ],
   "source": [
    "fig, ax = plt.subplots(figsize=(16, 6), dpi=120)\n",
    "sns.kdeplot(\n",
    "    data=upfront_pricing_data_df[[\"upfront_price\", \"metered_price\"]], ax=ax, fill=True\n",
    ")\n",
    "plt.grid()\n",
    "plt.show()"
   ]
  },
  {
   "cell_type": "markdown",
   "id": "2cbd8797",
   "metadata": {},
   "source": [
    "Upfront pricing typically seems to be a lower than the metered pricing."
   ]
  },
  {
   "cell_type": "code",
   "execution_count": 22,
   "id": "0880816a",
   "metadata": {},
   "outputs": [
    {
     "data": {
      "image/png": "[encoded data removed]",
      "text/plain": [
       "<Figure size 1920x720 with 1 Axes>"
      ]
     },
     "metadata": {},
     "output_type": "display_data"
    },
    {
     "data": {
      "application/javascript": [
       "\n",
       "            setTimeout(function() {\n",
       "                var nbb_cell_id = 22;\n",
       "                var nbb_unformatted_code = \"fig, ax = plt.subplots(figsize=(16, 6), dpi=120)\\nsns.kdeplot(\\n    data=upfront_pricing_data_df[[\\\"predicted_duration\\\", \\\"duration\\\"]], ax=ax, fill=True\\n)\\nplt.grid()\\nplt.show()\";\n",
       "                var nbb_formatted_code = \"fig, ax = plt.subplots(figsize=(16, 6), dpi=120)\\nsns.kdeplot(\\n    data=upfront_pricing_data_df[[\\\"predicted_duration\\\", \\\"duration\\\"]], ax=ax, fill=True\\n)\\nplt.grid()\\nplt.show()\";\n",
       "                var nbb_cells = Jupyter.notebook.get_cells();\n",
       "                for (var i = 0; i < nbb_cells.length; ++i) {\n",
       "                    if (nbb_cells[i].input_prompt_number == nbb_cell_id) {\n",
       "                        if (nbb_cells[i].get_text() == nbb_unformatted_code) {\n",
       "                             nbb_cells[i].set_text(nbb_formatted_code);\n",
       "                        }\n",
       "                        break;\n",
       "                    }\n",
       "                }\n",
       "            }, 500);\n",
       "            "
      ],
      "text/plain": [
       "<IPython.core.display.Javascript object>"
      ]
     },
     "metadata": {},
     "output_type": "display_data"
    }
   ],
   "source": [
    "fig, ax = plt.subplots(figsize=(16, 6), dpi=120)\n",
    "sns.kdeplot(\n",
    "    data=upfront_pricing_data_df[[\"predicted_duration\", \"duration\"]], ax=ax, fill=True\n",
    ")\n",
    "plt.grid()\n",
    "plt.show()"
   ]
  },
  {
   "cell_type": "markdown",
   "id": "61281028",
   "metadata": {},
   "source": [
    "That's because predicted duration seems to be lesser than the actual duration."
   ]
  },
  {
   "cell_type": "code",
   "execution_count": 23,
   "id": "56c1e647",
   "metadata": {},
   "outputs": [
    {
     "data": {
      "image/png": "[encoded data removed]",
      "text/plain": [
       "<Figure size 1920x720 with 1 Axes>"
      ]
     },
     "metadata": {},
     "output_type": "display_data"
    },
    {
     "data": {
      "application/javascript": [
       "\n",
       "            setTimeout(function() {\n",
       "                var nbb_cell_id = 23;\n",
       "                var nbb_unformatted_code = \"fig, ax = plt.subplots(figsize=(16, 6), dpi=120)\\nsns.kdeplot(\\n    data=upfront_pricing_data_df[[\\\"predicted_distance\\\", \\\"distance\\\"]], ax=ax, fill=True\\n)\\nplt.grid()\\nplt.show()\";\n",
       "                var nbb_formatted_code = \"fig, ax = plt.subplots(figsize=(16, 6), dpi=120)\\nsns.kdeplot(\\n    data=upfront_pricing_data_df[[\\\"predicted_distance\\\", \\\"distance\\\"]], ax=ax, fill=True\\n)\\nplt.grid()\\nplt.show()\";\n",
       "                var nbb_cells = Jupyter.notebook.get_cells();\n",
       "                for (var i = 0; i < nbb_cells.length; ++i) {\n",
       "                    if (nbb_cells[i].input_prompt_number == nbb_cell_id) {\n",
       "                        if (nbb_cells[i].get_text() == nbb_unformatted_code) {\n",
       "                             nbb_cells[i].set_text(nbb_formatted_code);\n",
       "                        }\n",
       "                        break;\n",
       "                    }\n",
       "                }\n",
       "            }, 500);\n",
       "            "
      ],
      "text/plain": [
       "<IPython.core.display.Javascript object>"
      ]
     },
     "metadata": {},
     "output_type": "display_data"
    }
   ],
   "source": [
    "fig, ax = plt.subplots(figsize=(16, 6), dpi=120)\n",
    "sns.kdeplot(\n",
    "    data=upfront_pricing_data_df[[\"predicted_distance\", \"distance\"]], ax=ax, fill=True\n",
    ")\n",
    "plt.grid()\n",
    "plt.show()"
   ]
  },
  {
   "cell_type": "markdown",
   "id": "ac9dcebb",
   "metadata": {},
   "source": [
    "The same goes for distance. the predicted distance typically lays on the lower end."
   ]
  },
  {
   "cell_type": "markdown",
   "id": "166d2e93",
   "metadata": {},
   "source": [
    "There's a common theme where the algorithm tends to under-estimate the pricing, distance and duration."
   ]
  },
  {
   "cell_type": "markdown",
   "id": "7b265674",
   "metadata": {},
   "source": [
    "## Problem Impact\n",
    "\n",
    "How many customers does this deviation impact?"
   ]
  },
  {
   "cell_type": "code",
   "execution_count": 24,
   "id": "be9d3bf5",
   "metadata": {},
   "outputs": [
    {
     "data": {
      "text/plain": [
       "(4270, 19)"
      ]
     },
     "execution_count": 24,
     "metadata": {},
     "output_type": "execute_result"
    },
    {
     "data": {
      "application/javascript": [
       "\n",
       "            setTimeout(function() {\n",
       "                var nbb_cell_id = 24;\n",
       "                var nbb_unformatted_code = \"pricing_data_df.shape\";\n",
       "                var nbb_formatted_code = \"pricing_data_df.shape\";\n",
       "                var nbb_cells = Jupyter.notebook.get_cells();\n",
       "                for (var i = 0; i < nbb_cells.length; ++i) {\n",
       "                    if (nbb_cells[i].input_prompt_number == nbb_cell_id) {\n",
       "                        if (nbb_cells[i].get_text() == nbb_unformatted_code) {\n",
       "                             nbb_cells[i].set_text(nbb_formatted_code);\n",
       "                        }\n",
       "                        break;\n",
       "                    }\n",
       "                }\n",
       "            }, 500);\n",
       "            "
      ],
      "text/plain": [
       "<IPython.core.display.Javascript object>"
      ]
     },
     "metadata": {},
     "output_type": "display_data"
    }
   ],
   "source": [
    "pricing_data_df.shape"
   ]
  },
  {
   "cell_type": "markdown",
   "id": "197b4ef8",
   "metadata": {},
   "source": [
    "Assuming our population consists of 4270 customers."
   ]
  },
  {
   "cell_type": "code",
   "execution_count": 25,
   "id": "1cf59a93",
   "metadata": {},
   "outputs": [
    {
     "data": {
      "text/plain": [
       "0.6988290398126463"
      ]
     },
     "execution_count": 25,
     "metadata": {},
     "output_type": "execute_result"
    },
    {
     "data": {
      "application/javascript": [
       "\n",
       "            setTimeout(function() {\n",
       "                var nbb_cell_id = 25;\n",
       "                var nbb_unformatted_code = \"upfront_pricing_data_df.shape[0] / pricing_data_df.shape[0]\";\n",
       "                var nbb_formatted_code = \"upfront_pricing_data_df.shape[0] / pricing_data_df.shape[0]\";\n",
       "                var nbb_cells = Jupyter.notebook.get_cells();\n",
       "                for (var i = 0; i < nbb_cells.length; ++i) {\n",
       "                    if (nbb_cells[i].input_prompt_number == nbb_cell_id) {\n",
       "                        if (nbb_cells[i].get_text() == nbb_unformatted_code) {\n",
       "                             nbb_cells[i].set_text(nbb_formatted_code);\n",
       "                        }\n",
       "                        break;\n",
       "                    }\n",
       "                }\n",
       "            }, 500);\n",
       "            "
      ],
      "text/plain": [
       "<IPython.core.display.Javascript object>"
      ]
     },
     "metadata": {},
     "output_type": "display_data"
    }
   ],
   "source": [
    "upfront_pricing_data_df.shape[0] / pricing_data_df.shape[0]"
   ]
  },
  {
   "cell_type": "code",
   "execution_count": 26,
   "id": "8de766e2",
   "metadata": {},
   "outputs": [
    {
     "data": {
      "text/plain": [
       "2984"
      ]
     },
     "execution_count": 26,
     "metadata": {},
     "output_type": "execute_result"
    },
    {
     "data": {
      "application/javascript": [
       "\n",
       "            setTimeout(function() {\n",
       "                var nbb_cell_id = 26;\n",
       "                var nbb_unformatted_code = \"upfront_pricing_data_df.shape[0]\";\n",
       "                var nbb_formatted_code = \"upfront_pricing_data_df.shape[0]\";\n",
       "                var nbb_cells = Jupyter.notebook.get_cells();\n",
       "                for (var i = 0; i < nbb_cells.length; ++i) {\n",
       "                    if (nbb_cells[i].input_prompt_number == nbb_cell_id) {\n",
       "                        if (nbb_cells[i].get_text() == nbb_unformatted_code) {\n",
       "                             nbb_cells[i].set_text(nbb_formatted_code);\n",
       "                        }\n",
       "                        break;\n",
       "                    }\n",
       "                }\n",
       "            }, 500);\n",
       "            "
      ],
      "text/plain": [
       "<IPython.core.display.Javascript object>"
      ]
     },
     "metadata": {},
     "output_type": "display_data"
    }
   ],
   "source": [
    "upfront_pricing_data_df.shape[0]"
   ]
  },
  {
   "cell_type": "markdown",
   "id": "88e20009",
   "metadata": {},
   "source": [
    "Around 70% of the customers have suffered from some form of a deviation between upfront and metered pricing on the app."
   ]
  },
  {
   "cell_type": "code",
   "execution_count": 27,
   "id": "c9da8b7e",
   "metadata": {},
   "outputs": [
    {
     "data": {
      "text/plain": [
       "count    2984.000000\n",
       "mean      -17.504548\n",
       "std        63.270554\n",
       "min     -1154.732387\n",
       "25%       -26.976295\n",
       "35%       -20.225343\n",
       "50%        -4.335574\n",
       "55%        -1.633124\n",
       "75%         4.449203\n",
       "85%        11.418258\n",
       "90%        21.674346\n",
       "95%        45.750281\n",
       "99%        73.616667\n",
       "max        97.700427\n",
       "Name: upfront_price_deviation_perc, dtype: float64"
      ]
     },
     "execution_count": 27,
     "metadata": {},
     "output_type": "execute_result"
    },
    {
     "data": {
      "application/javascript": [
       "\n",
       "            setTimeout(function() {\n",
       "                var nbb_cell_id = 27;\n",
       "                var nbb_unformatted_code = \"upfront_pricing_data_df[\\\"upfront_price_deviation_perc\\\"].describe(\\n    percentiles=[0.25, 0.35, 0.5, 0.55, 0.75, 0.85, 0.9, 0.95, 0.99]\\n)\";\n",
       "                var nbb_formatted_code = \"upfront_pricing_data_df[\\\"upfront_price_deviation_perc\\\"].describe(\\n    percentiles=[0.25, 0.35, 0.5, 0.55, 0.75, 0.85, 0.9, 0.95, 0.99]\\n)\";\n",
       "                var nbb_cells = Jupyter.notebook.get_cells();\n",
       "                for (var i = 0; i < nbb_cells.length; ++i) {\n",
       "                    if (nbb_cells[i].input_prompt_number == nbb_cell_id) {\n",
       "                        if (nbb_cells[i].get_text() == nbb_unformatted_code) {\n",
       "                             nbb_cells[i].set_text(nbb_formatted_code);\n",
       "                        }\n",
       "                        break;\n",
       "                    }\n",
       "                }\n",
       "            }, 500);\n",
       "            "
      ],
      "text/plain": [
       "<IPython.core.display.Javascript object>"
      ]
     },
     "metadata": {},
     "output_type": "display_data"
    }
   ],
   "source": [
    "upfront_pricing_data_df[\"upfront_price_deviation_perc\"].describe(\n",
    "    percentiles=[0.25, 0.35, 0.5, 0.55, 0.75, 0.85, 0.9, 0.95, 0.99]\n",
    ")"
   ]
  },
  {
   "cell_type": "code",
   "execution_count": 28,
   "id": "37f901b3",
   "metadata": {},
   "outputs": [
    {
     "data": {
      "text/plain": [
       "0.5851206434316354"
      ]
     },
     "execution_count": 28,
     "metadata": {},
     "output_type": "execute_result"
    },
    {
     "data": {
      "application/javascript": [
       "\n",
       "            setTimeout(function() {\n",
       "                var nbb_cell_id = 28;\n",
       "                var nbb_unformatted_code = \"upfront_pricing_data_df[\\n    upfront_pricing_data_df[\\\"upfront_price_deviation_perc\\\"] < 0\\n].shape[0] / upfront_pricing_data_df.shape[0]\";\n",
       "                var nbb_formatted_code = \"upfront_pricing_data_df[\\n    upfront_pricing_data_df[\\\"upfront_price_deviation_perc\\\"] < 0\\n].shape[0] / upfront_pricing_data_df.shape[0]\";\n",
       "                var nbb_cells = Jupyter.notebook.get_cells();\n",
       "                for (var i = 0; i < nbb_cells.length; ++i) {\n",
       "                    if (nbb_cells[i].input_prompt_number == nbb_cell_id) {\n",
       "                        if (nbb_cells[i].get_text() == nbb_unformatted_code) {\n",
       "                             nbb_cells[i].set_text(nbb_formatted_code);\n",
       "                        }\n",
       "                        break;\n",
       "                    }\n",
       "                }\n",
       "            }, 500);\n",
       "            "
      ],
      "text/plain": [
       "<IPython.core.display.Javascript object>"
      ]
     },
     "metadata": {},
     "output_type": "display_data"
    }
   ],
   "source": [
    "upfront_pricing_data_df[\n",
    "    upfront_pricing_data_df[\"upfront_price_deviation_perc\"] < 0\n",
    "].shape[0] / upfront_pricing_data_df.shape[0]"
   ]
  },
  {
   "cell_type": "markdown",
   "id": "c144f726",
   "metadata": {},
   "source": [
    "Around 60% of the customers see a price higher than the one that is shown upfront."
   ]
  },
  {
   "cell_type": "code",
   "execution_count": 29,
   "id": "2323875e",
   "metadata": {},
   "outputs": [
    {
     "data": {
      "text/plain": [
       "0.3542225201072386"
      ]
     },
     "execution_count": 29,
     "metadata": {},
     "output_type": "execute_result"
    },
    {
     "data": {
      "application/javascript": [
       "\n",
       "            setTimeout(function() {\n",
       "                var nbb_cell_id = 29;\n",
       "                var nbb_unformatted_code = \"upfront_pricing_data_df[\\n    upfront_pricing_data_df[\\\"upfront_price_deviation_perc\\\"] < -20\\n].shape[0] / upfront_pricing_data_df.shape[0]\";\n",
       "                var nbb_formatted_code = \"upfront_pricing_data_df[\\n    upfront_pricing_data_df[\\\"upfront_price_deviation_perc\\\"] < -20\\n].shape[0] / upfront_pricing_data_df.shape[0]\";\n",
       "                var nbb_cells = Jupyter.notebook.get_cells();\n",
       "                for (var i = 0; i < nbb_cells.length; ++i) {\n",
       "                    if (nbb_cells[i].input_prompt_number == nbb_cell_id) {\n",
       "                        if (nbb_cells[i].get_text() == nbb_unformatted_code) {\n",
       "                             nbb_cells[i].set_text(nbb_formatted_code);\n",
       "                        }\n",
       "                        break;\n",
       "                    }\n",
       "                }\n",
       "            }, 500);\n",
       "            "
      ],
      "text/plain": [
       "<IPython.core.display.Javascript object>"
      ]
     },
     "metadata": {},
     "output_type": "display_data"
    }
   ],
   "source": [
    "upfront_pricing_data_df[\n",
    "    upfront_pricing_data_df[\"upfront_price_deviation_perc\"] < -20\n",
    "].shape[0] / upfront_pricing_data_df.shape[0]"
   ]
  },
  {
   "cell_type": "markdown",
   "id": "840a780f",
   "metadata": {},
   "source": [
    "Around 35% of the customers get charged more at the end of the journey.\n",
    "\n",
    "We're going to assume that anyone who created an `overpaid_ride_ticket` and didn't pay more for a ride, did it by accident. "
   ]
  },
  {
   "cell_type": "code",
   "execution_count": 30,
   "id": "19b1543d",
   "metadata": {},
   "outputs": [
    {
     "data": {
      "text/plain": [
       "0    0.952696\n",
       "1    0.047304\n",
       "Name: overpaid_ride_ticket, dtype: float64"
      ]
     },
     "execution_count": 30,
     "metadata": {},
     "output_type": "execute_result"
    },
    {
     "data": {
      "application/javascript": [
       "\n",
       "            setTimeout(function() {\n",
       "                var nbb_cell_id = 30;\n",
       "                var nbb_unformatted_code = \"upfront_pricing_data_df[\\n    (upfront_pricing_data_df[\\\"upfront_price_deviation_perc\\\"] < -20)\\n][\\\"overpaid_ride_ticket\\\"].value_counts(normalize=True)\";\n",
       "                var nbb_formatted_code = \"upfront_pricing_data_df[\\n    (upfront_pricing_data_df[\\\"upfront_price_deviation_perc\\\"] < -20)\\n][\\\"overpaid_ride_ticket\\\"].value_counts(normalize=True)\";\n",
       "                var nbb_cells = Jupyter.notebook.get_cells();\n",
       "                for (var i = 0; i < nbb_cells.length; ++i) {\n",
       "                    if (nbb_cells[i].input_prompt_number == nbb_cell_id) {\n",
       "                        if (nbb_cells[i].get_text() == nbb_unformatted_code) {\n",
       "                             nbb_cells[i].set_text(nbb_formatted_code);\n",
       "                        }\n",
       "                        break;\n",
       "                    }\n",
       "                }\n",
       "            }, 500);\n",
       "            "
      ],
      "text/plain": [
       "<IPython.core.display.Javascript object>"
      ]
     },
     "metadata": {},
     "output_type": "display_data"
    }
   ],
   "source": [
    "upfront_pricing_data_df[\n",
    "    (upfront_pricing_data_df[\"upfront_price_deviation_perc\"] < -20)\n",
    "][\"overpaid_ride_ticket\"].value_counts(normalize=True)"
   ]
  },
  {
   "cell_type": "markdown",
   "id": "6eb01e72",
   "metadata": {},
   "source": [
    "4% of customers who were shown a higher price (i.e. with a deviation of 20%), complained about an overpaid ticket."
   ]
  },
  {
   "cell_type": "markdown",
   "id": "20b0bdc4",
   "metadata": {},
   "source": [
    "## Identifying the source of the deviation\n",
    "\n",
    "What factor is causing the price to deviate more than usual? When is the deviation occuring and by how much?"
   ]
  },
  {
   "cell_type": "code",
   "execution_count": 31,
   "id": "5dd5be56",
   "metadata": {},
   "outputs": [
    {
     "name": "stderr",
     "output_type": "stream",
     "text": [
      "/var/folders/s4/n8kktn1x7jn2c6hfpf4y7hch0000gq/T/ipykernel_73208/4229554000.py:1: SettingWithCopyWarning: \n",
      "A value is trying to be set on a copy of a slice from a DataFrame.\n",
      "Try using .loc[row_indexer,col_indexer] = value instead\n",
      "\n",
      "See the caveats in the documentation: https://pandas.pydata.org/pandas-docs/stable/user_guide/indexing.html#returning-a-view-versus-a-copy\n",
      "  upfront_pricing_data_df[\"abs_upfront_price_deviation_perc\"] = abs(\n"
     ]
    },
    {
     "data": {
      "application/javascript": [
       "\n",
       "            setTimeout(function() {\n",
       "                var nbb_cell_id = 31;\n",
       "                var nbb_unformatted_code = \"upfront_pricing_data_df[\\\"abs_upfront_price_deviation_perc\\\"] = abs(\\n    (\\n        upfront_pricing_data_df[\\\"upfront_price\\\"]\\n        - upfront_pricing_data_df[\\\"metered_price\\\"]\\n    )\\n    / upfront_pricing_data_df[\\\"upfront_price\\\"]\\n    * 100\\n)\";\n",
       "                var nbb_formatted_code = \"upfront_pricing_data_df[\\\"abs_upfront_price_deviation_perc\\\"] = abs(\\n    (\\n        upfront_pricing_data_df[\\\"upfront_price\\\"]\\n        - upfront_pricing_data_df[\\\"metered_price\\\"]\\n    )\\n    / upfront_pricing_data_df[\\\"upfront_price\\\"]\\n    * 100\\n)\";\n",
       "                var nbb_cells = Jupyter.notebook.get_cells();\n",
       "                for (var i = 0; i < nbb_cells.length; ++i) {\n",
       "                    if (nbb_cells[i].input_prompt_number == nbb_cell_id) {\n",
       "                        if (nbb_cells[i].get_text() == nbb_unformatted_code) {\n",
       "                             nbb_cells[i].set_text(nbb_formatted_code);\n",
       "                        }\n",
       "                        break;\n",
       "                    }\n",
       "                }\n",
       "            }, 500);\n",
       "            "
      ],
      "text/plain": [
       "<IPython.core.display.Javascript object>"
      ]
     },
     "metadata": {},
     "output_type": "display_data"
    }
   ],
   "source": [
    "upfront_pricing_data_df[\"abs_upfront_price_deviation_perc\"] = abs(\n",
    "    (\n",
    "        upfront_pricing_data_df[\"upfront_price\"]\n",
    "        - upfront_pricing_data_df[\"metered_price\"]\n",
    "    )\n",
    "    / upfront_pricing_data_df[\"upfront_price\"]\n",
    "    * 100\n",
    ")"
   ]
  },
  {
   "cell_type": "markdown",
   "id": "a4778319",
   "metadata": {},
   "source": [
    "### GPS Confidence\n",
    "\n",
    "Is the GPS confidence poor which is why we're seeing such a high deviation?"
   ]
  },
  {
   "cell_type": "code",
   "execution_count": 32,
   "id": "9cb1ea0c",
   "metadata": {},
   "outputs": [
    {
     "data": {
      "application/javascript": [
       "\n",
       "            setTimeout(function() {\n",
       "                var nbb_cell_id = 32;\n",
       "                var nbb_unformatted_code = \"gps_price_abs_deviation_df = (\\n    upfront_pricing_data_df.groupby([\\\"gps_confidence\\\"])[\\n        \\\"abs_upfront_price_deviation_perc\\\"\\n    ]\\n    .agg([\\\"mean\\\", \\\"count\\\", \\\"median\\\", \\\"std\\\"])\\n    .reset_index()\\n).rename(\\n    columns={\\n        \\\"mean\\\": \\\"Mean Abs Deviation (%)\\\",\\n        \\\"median\\\": \\\"Median Abs Deviation (%)\\\",\\n        \\\"std\\\": \\\"Standard Deviation\\\",\\n    }\\n)\\ngps_price_abs_deviation_df[\\\"Coefficient of Variation\\\"] = (\\n    gps_price_abs_deviation_df[\\\"Standard Deviation\\\"]\\n    / gps_price_abs_deviation_df[\\\"Mean Abs Deviation (%)\\\"]\\n)\";\n",
       "                var nbb_formatted_code = \"gps_price_abs_deviation_df = (\\n    upfront_pricing_data_df.groupby([\\\"gps_confidence\\\"])[\\n        \\\"abs_upfront_price_deviation_perc\\\"\\n    ]\\n    .agg([\\\"mean\\\", \\\"count\\\", \\\"median\\\", \\\"std\\\"])\\n    .reset_index()\\n).rename(\\n    columns={\\n        \\\"mean\\\": \\\"Mean Abs Deviation (%)\\\",\\n        \\\"median\\\": \\\"Median Abs Deviation (%)\\\",\\n        \\\"std\\\": \\\"Standard Deviation\\\",\\n    }\\n)\\ngps_price_abs_deviation_df[\\\"Coefficient of Variation\\\"] = (\\n    gps_price_abs_deviation_df[\\\"Standard Deviation\\\"]\\n    / gps_price_abs_deviation_df[\\\"Mean Abs Deviation (%)\\\"]\\n)\";\n",
       "                var nbb_cells = Jupyter.notebook.get_cells();\n",
       "                for (var i = 0; i < nbb_cells.length; ++i) {\n",
       "                    if (nbb_cells[i].input_prompt_number == nbb_cell_id) {\n",
       "                        if (nbb_cells[i].get_text() == nbb_unformatted_code) {\n",
       "                             nbb_cells[i].set_text(nbb_formatted_code);\n",
       "                        }\n",
       "                        break;\n",
       "                    }\n",
       "                }\n",
       "            }, 500);\n",
       "            "
      ],
      "text/plain": [
       "<IPython.core.display.Javascript object>"
      ]
     },
     "metadata": {},
     "output_type": "display_data"
    }
   ],
   "source": [
    "gps_price_abs_deviation_df = (\n",
    "    upfront_pricing_data_df.groupby([\"gps_confidence\"])[\n",
    "        \"abs_upfront_price_deviation_perc\"\n",
    "    ]\n",
    "    .agg([\"mean\", \"count\", \"median\", \"std\"])\n",
    "    .reset_index()\n",
    ").rename(\n",
    "    columns={\n",
    "        \"mean\": \"Mean Abs Deviation (%)\",\n",
    "        \"median\": \"Median Abs Deviation (%)\",\n",
    "        \"std\": \"Standard Deviation\",\n",
    "    }\n",
    ")\n",
    "gps_price_abs_deviation_df[\"Coefficient of Variation\"] = (\n",
    "    gps_price_abs_deviation_df[\"Standard Deviation\"]\n",
    "    / gps_price_abs_deviation_df[\"Mean Abs Deviation (%)\"]\n",
    ")"
   ]
  },
  {
   "cell_type": "code",
   "execution_count": 33,
   "id": "d6b01103",
   "metadata": {},
   "outputs": [
    {
     "data": {
      "text/html": [
       "<div>\n",
       "<style scoped>\n",
       "    .dataframe tbody tr th:only-of-type {\n",
       "        vertical-align: middle;\n",
       "    }\n",
       "\n",
       "    .dataframe tbody tr th {\n",
       "        vertical-align: top;\n",
       "    }\n",
       "\n",
       "    .dataframe thead th {\n",
       "        text-align: right;\n",
       "    }\n",
       "</style>\n",
       "<table border=\"1\" class=\"dataframe\">\n",
       "  <thead>\n",
       "    <tr style=\"text-align: right;\">\n",
       "      <th></th>\n",
       "      <th>gps_confidence</th>\n",
       "      <th>Mean Abs Deviation (%)</th>\n",
       "      <th>count</th>\n",
       "      <th>Median Abs Deviation (%)</th>\n",
       "      <th>Standard Deviation</th>\n",
       "      <th>Coefficient of Variation</th>\n",
       "    </tr>\n",
       "  </thead>\n",
       "  <tbody>\n",
       "    <tr>\n",
       "      <th>0</th>\n",
       "      <td>0</td>\n",
       "      <td>95.710549</td>\n",
       "      <td>306</td>\n",
       "      <td>55.415778</td>\n",
       "      <td>130.888029</td>\n",
       "      <td>1.367540</td>\n",
       "    </tr>\n",
       "    <tr>\n",
       "      <th>1</th>\n",
       "      <td>1</td>\n",
       "      <td>23.252140</td>\n",
       "      <td>2678</td>\n",
       "      <td>14.151863</td>\n",
       "      <td>35.531035</td>\n",
       "      <td>1.528076</td>\n",
       "    </tr>\n",
       "  </tbody>\n",
       "</table>\n",
       "</div>"
      ],
      "text/plain": [
       "   gps_confidence  Mean Abs Deviation (%)  count  Median Abs Deviation (%)  \\\n",
       "0               0               95.710549    306                 55.415778   \n",
       "1               1               23.252140   2678                 14.151863   \n",
       "\n",
       "   Standard Deviation  Coefficient of Variation  \n",
       "0          130.888029                  1.367540  \n",
       "1           35.531035                  1.528076  "
      ]
     },
     "execution_count": 33,
     "metadata": {},
     "output_type": "execute_result"
    },
    {
     "data": {
      "application/javascript": [
       "\n",
       "            setTimeout(function() {\n",
       "                var nbb_cell_id = 33;\n",
       "                var nbb_unformatted_code = \"gps_price_abs_deviation_df\";\n",
       "                var nbb_formatted_code = \"gps_price_abs_deviation_df\";\n",
       "                var nbb_cells = Jupyter.notebook.get_cells();\n",
       "                for (var i = 0; i < nbb_cells.length; ++i) {\n",
       "                    if (nbb_cells[i].input_prompt_number == nbb_cell_id) {\n",
       "                        if (nbb_cells[i].get_text() == nbb_unformatted_code) {\n",
       "                             nbb_cells[i].set_text(nbb_formatted_code);\n",
       "                        }\n",
       "                        break;\n",
       "                    }\n",
       "                }\n",
       "            }, 500);\n",
       "            "
      ],
      "text/plain": [
       "<IPython.core.display.Javascript object>"
      ]
     },
     "metadata": {},
     "output_type": "display_data"
    }
   ],
   "source": [
    "gps_price_abs_deviation_df"
   ]
  },
  {
   "cell_type": "markdown",
   "id": "875e0cad",
   "metadata": {},
   "source": [
    "* There's a significant increase in both the mean and median deviation of pricing when the GPS confidence is poor.\n",
    "* Could this be a result of the device someone is utilizing?"
   ]
  },
  {
   "cell_type": "code",
   "execution_count": 34,
   "id": "049487f8",
   "metadata": {},
   "outputs": [
    {
     "name": "stderr",
     "output_type": "stream",
     "text": [
      "/var/folders/s4/n8kktn1x7jn2c6hfpf4y7hch0000gq/T/ipykernel_73208/3008512248.py:1: SettingWithCopyWarning: \n",
      "A value is trying to be set on a copy of a slice from a DataFrame.\n",
      "Try using .loc[row_indexer,col_indexer] = value instead\n",
      "\n",
      "See the caveats in the documentation: https://pandas.pydata.org/pandas-docs/stable/user_guide/indexing.html#returning-a-view-versus-a-copy\n",
      "  upfront_pricing_data_df[\"device_manufacturer\"] = (\n",
      "/var/folders/s4/n8kktn1x7jn2c6hfpf4y7hch0000gq/T/ipykernel_73208/3008512248.py:4: SettingWithCopyWarning: \n",
      "A value is trying to be set on a copy of a slice from a DataFrame.\n",
      "Try using .loc[row_indexer,col_indexer] = value instead\n",
      "\n",
      "See the caveats in the documentation: https://pandas.pydata.org/pandas-docs/stable/user_guide/indexing.html#returning-a-view-versus-a-copy\n",
      "  upfront_pricing_data_df[\"device_manufacturer\"] = upfront_pricing_data_df[\n",
      "/var/folders/s4/n8kktn1x7jn2c6hfpf4y7hch0000gq/T/ipykernel_73208/3008512248.py:7: SettingWithCopyWarning: \n",
      "A value is trying to be set on a copy of a slice from a DataFrame.\n",
      "Try using .loc[row_indexer,col_indexer] = value instead\n",
      "\n",
      "See the caveats in the documentation: https://pandas.pydata.org/pandas-docs/stable/user_guide/indexing.html#returning-a-view-versus-a-copy\n",
      "  upfront_pricing_data_df[\"device_manufacturer\"] = upfront_pricing_data_df[\n"
     ]
    },
    {
     "data": {
      "application/javascript": [
       "\n",
       "            setTimeout(function() {\n",
       "                var nbb_cell_id = 34;\n",
       "                var nbb_unformatted_code = \"upfront_pricing_data_df[\\\"device_manufacturer\\\"] = (\\n    upfront_pricing_data_df[\\\"device_name\\\"].str.split(\\\" |,|\\\\-|\\\\_\\\").str[0].str.lower()\\n)\\nupfront_pricing_data_df[\\\"device_manufacturer\\\"] = upfront_pricing_data_df[\\n    \\\"device_manufacturer\\\"\\n].apply(lambda x: \\\"iphone\\\" if \\\"iphone\\\" in x else x)\\nupfront_pricing_data_df[\\\"device_manufacturer\\\"] = upfront_pricing_data_df[\\n    \\\"device_manufacturer\\\"\\n].apply(lambda x: \\\"tecno\\\" if \\\"tecno\\\" in x else x)\";\n",
       "                var nbb_formatted_code = \"upfront_pricing_data_df[\\\"device_manufacturer\\\"] = (\\n    upfront_pricing_data_df[\\\"device_name\\\"].str.split(\\\" |,|\\\\-|\\\\_\\\").str[0].str.lower()\\n)\\nupfront_pricing_data_df[\\\"device_manufacturer\\\"] = upfront_pricing_data_df[\\n    \\\"device_manufacturer\\\"\\n].apply(lambda x: \\\"iphone\\\" if \\\"iphone\\\" in x else x)\\nupfront_pricing_data_df[\\\"device_manufacturer\\\"] = upfront_pricing_data_df[\\n    \\\"device_manufacturer\\\"\\n].apply(lambda x: \\\"tecno\\\" if \\\"tecno\\\" in x else x)\";\n",
       "                var nbb_cells = Jupyter.notebook.get_cells();\n",
       "                for (var i = 0; i < nbb_cells.length; ++i) {\n",
       "                    if (nbb_cells[i].input_prompt_number == nbb_cell_id) {\n",
       "                        if (nbb_cells[i].get_text() == nbb_unformatted_code) {\n",
       "                             nbb_cells[i].set_text(nbb_formatted_code);\n",
       "                        }\n",
       "                        break;\n",
       "                    }\n",
       "                }\n",
       "            }, 500);\n",
       "            "
      ],
      "text/plain": [
       "<IPython.core.display.Javascript object>"
      ]
     },
     "metadata": {},
     "output_type": "display_data"
    }
   ],
   "source": [
    "upfront_pricing_data_df[\"device_manufacturer\"] = (\n",
    "    upfront_pricing_data_df[\"device_name\"].str.split(\" |,|\\-|\\_\").str[0].str.lower()\n",
    ")\n",
    "upfront_pricing_data_df[\"device_manufacturer\"] = upfront_pricing_data_df[\n",
    "    \"device_manufacturer\"\n",
    "].apply(lambda x: \"iphone\" if \"iphone\" in x else x)\n",
    "upfront_pricing_data_df[\"device_manufacturer\"] = upfront_pricing_data_df[\n",
    "    \"device_manufacturer\"\n",
    "].apply(lambda x: \"tecno\" if \"tecno\" in x else x)"
   ]
  },
  {
   "cell_type": "markdown",
   "id": "cc21adf1",
   "metadata": {},
   "source": [
    "Which device manufacturer is returning the highest gps confidence error?"
   ]
  },
  {
   "cell_type": "code",
   "execution_count": 35,
   "id": "1abe81af",
   "metadata": {},
   "outputs": [
    {
     "data": {
      "application/javascript": [
       "\n",
       "            setTimeout(function() {\n",
       "                var nbb_cell_id = 35;\n",
       "                var nbb_unformatted_code = \"gps_low_conf_device_perc_df = pd.merge(\\n    upfront_pricing_data_df.groupby([\\\"device_manufacturer\\\"])[\\\"gps_confidence\\\"]\\n    .count()\\n    .reset_index()\\n    .rename(columns={\\\"gps_confidence\\\": \\\"Num Devices\\\"}),\\n    upfront_pricing_data_df[upfront_pricing_data_df[\\\"gps_confidence\\\"] == 0]\\n    .groupby([\\\"device_manufacturer\\\"])[\\\"gps_confidence\\\"]\\n    .count()\\n    .reset_index()\\n    .rename(columns={\\\"gps_confidence\\\": \\\"Num Devices with 0 GPS conf\\\"}),\\n    on=\\\"device_manufacturer\\\",\\n    how=\\\"left\\\",\\n).fillna(0)\\n\\ngps_low_conf_device_perc_df[\\\"% 0 GPS conf devices\\\"] = (\\n    gps_low_conf_device_perc_df[\\\"Num Devices with 0 GPS conf\\\"]\\n    * 100.0\\n    / gps_low_conf_device_perc_df[\\\"Num Devices\\\"]\\n)\";\n",
       "                var nbb_formatted_code = \"gps_low_conf_device_perc_df = pd.merge(\\n    upfront_pricing_data_df.groupby([\\\"device_manufacturer\\\"])[\\\"gps_confidence\\\"]\\n    .count()\\n    .reset_index()\\n    .rename(columns={\\\"gps_confidence\\\": \\\"Num Devices\\\"}),\\n    upfront_pricing_data_df[upfront_pricing_data_df[\\\"gps_confidence\\\"] == 0]\\n    .groupby([\\\"device_manufacturer\\\"])[\\\"gps_confidence\\\"]\\n    .count()\\n    .reset_index()\\n    .rename(columns={\\\"gps_confidence\\\": \\\"Num Devices with 0 GPS conf\\\"}),\\n    on=\\\"device_manufacturer\\\",\\n    how=\\\"left\\\",\\n).fillna(0)\\n\\ngps_low_conf_device_perc_df[\\\"% 0 GPS conf devices\\\"] = (\\n    gps_low_conf_device_perc_df[\\\"Num Devices with 0 GPS conf\\\"]\\n    * 100.0\\n    / gps_low_conf_device_perc_df[\\\"Num Devices\\\"]\\n)\";\n",
       "                var nbb_cells = Jupyter.notebook.get_cells();\n",
       "                for (var i = 0; i < nbb_cells.length; ++i) {\n",
       "                    if (nbb_cells[i].input_prompt_number == nbb_cell_id) {\n",
       "                        if (nbb_cells[i].get_text() == nbb_unformatted_code) {\n",
       "                             nbb_cells[i].set_text(nbb_formatted_code);\n",
       "                        }\n",
       "                        break;\n",
       "                    }\n",
       "                }\n",
       "            }, 500);\n",
       "            "
      ],
      "text/plain": [
       "<IPython.core.display.Javascript object>"
      ]
     },
     "metadata": {},
     "output_type": "display_data"
    }
   ],
   "source": [
    "gps_low_conf_device_perc_df = pd.merge(\n",
    "    upfront_pricing_data_df.groupby([\"device_manufacturer\"])[\"gps_confidence\"]\n",
    "    .count()\n",
    "    .reset_index()\n",
    "    .rename(columns={\"gps_confidence\": \"Num Devices\"}),\n",
    "    upfront_pricing_data_df[upfront_pricing_data_df[\"gps_confidence\"] == 0]\n",
    "    .groupby([\"device_manufacturer\"])[\"gps_confidence\"]\n",
    "    .count()\n",
    "    .reset_index()\n",
    "    .rename(columns={\"gps_confidence\": \"Num Devices with 0 GPS conf\"}),\n",
    "    on=\"device_manufacturer\",\n",
    "    how=\"left\",\n",
    ").fillna(0)\n",
    "\n",
    "gps_low_conf_device_perc_df[\"% 0 GPS conf devices\"] = (\n",
    "    gps_low_conf_device_perc_df[\"Num Devices with 0 GPS conf\"]\n",
    "    * 100.0\n",
    "    / gps_low_conf_device_perc_df[\"Num Devices\"]\n",
    ")"
   ]
  },
  {
   "cell_type": "code",
   "execution_count": 36,
   "id": "9d007664",
   "metadata": {},
   "outputs": [
    {
     "data": {
      "text/html": [
       "<div>\n",
       "<style scoped>\n",
       "    .dataframe tbody tr th:only-of-type {\n",
       "        vertical-align: middle;\n",
       "    }\n",
       "\n",
       "    .dataframe tbody tr th {\n",
       "        vertical-align: top;\n",
       "    }\n",
       "\n",
       "    .dataframe thead th {\n",
       "        text-align: right;\n",
       "    }\n",
       "</style>\n",
       "<table border=\"1\" class=\"dataframe\">\n",
       "  <thead>\n",
       "    <tr style=\"text-align: right;\">\n",
       "      <th></th>\n",
       "      <th>device_manufacturer</th>\n",
       "      <th>Num Devices</th>\n",
       "      <th>Num Devices with 0 GPS conf</th>\n",
       "      <th>% 0 GPS conf devices</th>\n",
       "    </tr>\n",
       "  </thead>\n",
       "  <tbody>\n",
       "    <tr>\n",
       "      <th>40</th>\n",
       "      <td>welcome</td>\n",
       "      <td>1</td>\n",
       "      <td>1.0</td>\n",
       "      <td>100.000000</td>\n",
       "    </tr>\n",
       "    <tr>\n",
       "      <th>12</th>\n",
       "      <td>foxconn</td>\n",
       "      <td>6</td>\n",
       "      <td>6.0</td>\n",
       "      <td>100.000000</td>\n",
       "    </tr>\n",
       "    <tr>\n",
       "      <th>0</th>\n",
       "      <td>alps</td>\n",
       "      <td>4</td>\n",
       "      <td>3.0</td>\n",
       "      <td>75.000000</td>\n",
       "    </tr>\n",
       "    <tr>\n",
       "      <th>3</th>\n",
       "      <td>blu</td>\n",
       "      <td>4</td>\n",
       "      <td>3.0</td>\n",
       "      <td>75.000000</td>\n",
       "    </tr>\n",
       "    <tr>\n",
       "      <th>13</th>\n",
       "      <td>fujitsu</td>\n",
       "      <td>2</td>\n",
       "      <td>1.0</td>\n",
       "      <td>50.000000</td>\n",
       "    </tr>\n",
       "    <tr>\n",
       "      <th>11</th>\n",
       "      <td>fise</td>\n",
       "      <td>2</td>\n",
       "      <td>1.0</td>\n",
       "      <td>50.000000</td>\n",
       "    </tr>\n",
       "    <tr>\n",
       "      <th>37</th>\n",
       "      <td>tecno</td>\n",
       "      <td>321</td>\n",
       "      <td>110.0</td>\n",
       "      <td>34.267913</td>\n",
       "    </tr>\n",
       "    <tr>\n",
       "      <th>17</th>\n",
       "      <td>htc</td>\n",
       "      <td>9</td>\n",
       "      <td>3.0</td>\n",
       "      <td>33.333333</td>\n",
       "    </tr>\n",
       "    <tr>\n",
       "      <th>19</th>\n",
       "      <td>infinix</td>\n",
       "      <td>85</td>\n",
       "      <td>27.0</td>\n",
       "      <td>31.764706</td>\n",
       "    </tr>\n",
       "    <tr>\n",
       "      <th>21</th>\n",
       "      <td>itel</td>\n",
       "      <td>43</td>\n",
       "      <td>12.0</td>\n",
       "      <td>27.906977</td>\n",
       "    </tr>\n",
       "    <tr>\n",
       "      <th>36</th>\n",
       "      <td>tcl</td>\n",
       "      <td>4</td>\n",
       "      <td>1.0</td>\n",
       "      <td>25.000000</td>\n",
       "    </tr>\n",
       "    <tr>\n",
       "      <th>16</th>\n",
       "      <td>hmd</td>\n",
       "      <td>81</td>\n",
       "      <td>12.0</td>\n",
       "      <td>14.814815</td>\n",
       "    </tr>\n",
       "    <tr>\n",
       "      <th>35</th>\n",
       "      <td>sony</td>\n",
       "      <td>35</td>\n",
       "      <td>4.0</td>\n",
       "      <td>11.428571</td>\n",
       "    </tr>\n",
       "    <tr>\n",
       "      <th>44</th>\n",
       "      <td>zte</td>\n",
       "      <td>9</td>\n",
       "      <td>1.0</td>\n",
       "      <td>11.111111</td>\n",
       "    </tr>\n",
       "    <tr>\n",
       "      <th>33</th>\n",
       "      <td>samsung</td>\n",
       "      <td>1162</td>\n",
       "      <td>68.0</td>\n",
       "      <td>5.851979</td>\n",
       "    </tr>\n",
       "  </tbody>\n",
       "</table>\n",
       "</div>"
      ],
      "text/plain": [
       "   device_manufacturer  Num Devices  Num Devices with 0 GPS conf  \\\n",
       "40             welcome            1                          1.0   \n",
       "12             foxconn            6                          6.0   \n",
       "0                 alps            4                          3.0   \n",
       "3                  blu            4                          3.0   \n",
       "13             fujitsu            2                          1.0   \n",
       "11                fise            2                          1.0   \n",
       "37               tecno          321                        110.0   \n",
       "17                 htc            9                          3.0   \n",
       "19             infinix           85                         27.0   \n",
       "21                itel           43                         12.0   \n",
       "36                 tcl            4                          1.0   \n",
       "16                 hmd           81                         12.0   \n",
       "35                sony           35                          4.0   \n",
       "44                 zte            9                          1.0   \n",
       "33             samsung         1162                         68.0   \n",
       "\n",
       "    % 0 GPS conf devices  \n",
       "40            100.000000  \n",
       "12            100.000000  \n",
       "0              75.000000  \n",
       "3              75.000000  \n",
       "13             50.000000  \n",
       "11             50.000000  \n",
       "37             34.267913  \n",
       "17             33.333333  \n",
       "19             31.764706  \n",
       "21             27.906977  \n",
       "36             25.000000  \n",
       "16             14.814815  \n",
       "35             11.428571  \n",
       "44             11.111111  \n",
       "33              5.851979  "
      ]
     },
     "execution_count": 36,
     "metadata": {},
     "output_type": "execute_result"
    },
    {
     "data": {
      "application/javascript": [
       "\n",
       "            setTimeout(function() {\n",
       "                var nbb_cell_id = 36;\n",
       "                var nbb_unformatted_code = \"gps_low_conf_device_perc_df.sort_values([\\\"% 0 GPS conf devices\\\"], ascending=False).head(\\n    15\\n)\";\n",
       "                var nbb_formatted_code = \"gps_low_conf_device_perc_df.sort_values([\\\"% 0 GPS conf devices\\\"], ascending=False).head(\\n    15\\n)\";\n",
       "                var nbb_cells = Jupyter.notebook.get_cells();\n",
       "                for (var i = 0; i < nbb_cells.length; ++i) {\n",
       "                    if (nbb_cells[i].input_prompt_number == nbb_cell_id) {\n",
       "                        if (nbb_cells[i].get_text() == nbb_unformatted_code) {\n",
       "                             nbb_cells[i].set_text(nbb_formatted_code);\n",
       "                        }\n",
       "                        break;\n",
       "                    }\n",
       "                }\n",
       "            }, 500);\n",
       "            "
      ],
      "text/plain": [
       "<IPython.core.display.Javascript object>"
      ]
     },
     "metadata": {},
     "output_type": "display_data"
    }
   ],
   "source": [
    "gps_low_conf_device_perc_df.sort_values([\"% 0 GPS conf devices\"], ascending=False).head(\n",
    "    15\n",
    ")"
   ]
  },
  {
   "cell_type": "code",
   "execution_count": 37,
   "id": "585900d5",
   "metadata": {},
   "outputs": [
    {
     "data": {
      "text/html": [
       "<div>\n",
       "<style scoped>\n",
       "    .dataframe tbody tr th:only-of-type {\n",
       "        vertical-align: middle;\n",
       "    }\n",
       "\n",
       "    .dataframe tbody tr th {\n",
       "        vertical-align: top;\n",
       "    }\n",
       "\n",
       "    .dataframe thead th {\n",
       "        text-align: right;\n",
       "    }\n",
       "</style>\n",
       "<table border=\"1\" class=\"dataframe\">\n",
       "  <thead>\n",
       "    <tr style=\"text-align: right;\">\n",
       "      <th></th>\n",
       "      <th>device_manufacturer</th>\n",
       "      <th>Num Devices</th>\n",
       "      <th>Num Devices with 0 GPS conf</th>\n",
       "      <th>% 0 GPS conf devices</th>\n",
       "    </tr>\n",
       "  </thead>\n",
       "  <tbody>\n",
       "    <tr>\n",
       "      <th>37</th>\n",
       "      <td>tecno</td>\n",
       "      <td>321</td>\n",
       "      <td>110.0</td>\n",
       "      <td>34.267913</td>\n",
       "    </tr>\n",
       "    <tr>\n",
       "      <th>19</th>\n",
       "      <td>infinix</td>\n",
       "      <td>85</td>\n",
       "      <td>27.0</td>\n",
       "      <td>31.764706</td>\n",
       "    </tr>\n",
       "    <tr>\n",
       "      <th>21</th>\n",
       "      <td>itel</td>\n",
       "      <td>43</td>\n",
       "      <td>12.0</td>\n",
       "      <td>27.906977</td>\n",
       "    </tr>\n",
       "    <tr>\n",
       "      <th>16</th>\n",
       "      <td>hmd</td>\n",
       "      <td>81</td>\n",
       "      <td>12.0</td>\n",
       "      <td>14.814815</td>\n",
       "    </tr>\n",
       "    <tr>\n",
       "      <th>35</th>\n",
       "      <td>sony</td>\n",
       "      <td>35</td>\n",
       "      <td>4.0</td>\n",
       "      <td>11.428571</td>\n",
       "    </tr>\n",
       "    <tr>\n",
       "      <th>33</th>\n",
       "      <td>samsung</td>\n",
       "      <td>1162</td>\n",
       "      <td>68.0</td>\n",
       "      <td>5.851979</td>\n",
       "    </tr>\n",
       "    <tr>\n",
       "      <th>20</th>\n",
       "      <td>iphone</td>\n",
       "      <td>310</td>\n",
       "      <td>18.0</td>\n",
       "      <td>5.806452</td>\n",
       "    </tr>\n",
       "    <tr>\n",
       "      <th>25</th>\n",
       "      <td>lenovo</td>\n",
       "      <td>20</td>\n",
       "      <td>1.0</td>\n",
       "      <td>5.000000</td>\n",
       "    </tr>\n",
       "    <tr>\n",
       "      <th>4</th>\n",
       "      <td>bullittgrouplimited</td>\n",
       "      <td>22</td>\n",
       "      <td>1.0</td>\n",
       "      <td>4.545455</td>\n",
       "    </tr>\n",
       "    <tr>\n",
       "      <th>43</th>\n",
       "      <td>xiaomi</td>\n",
       "      <td>205</td>\n",
       "      <td>9.0</td>\n",
       "      <td>4.390244</td>\n",
       "    </tr>\n",
       "    <tr>\n",
       "      <th>18</th>\n",
       "      <td>huawei</td>\n",
       "      <td>569</td>\n",
       "      <td>23.0</td>\n",
       "      <td>4.042179</td>\n",
       "    </tr>\n",
       "    <tr>\n",
       "      <th>26</th>\n",
       "      <td>lge</td>\n",
       "      <td>31</td>\n",
       "      <td>1.0</td>\n",
       "      <td>3.225806</td>\n",
       "    </tr>\n",
       "    <tr>\n",
       "      <th>2</th>\n",
       "      <td>blackview</td>\n",
       "      <td>11</td>\n",
       "      <td>0.0</td>\n",
       "      <td>0.000000</td>\n",
       "    </tr>\n",
       "  </tbody>\n",
       "</table>\n",
       "</div>"
      ],
      "text/plain": [
       "    device_manufacturer  Num Devices  Num Devices with 0 GPS conf  \\\n",
       "37                tecno          321                        110.0   \n",
       "19              infinix           85                         27.0   \n",
       "21                 itel           43                         12.0   \n",
       "16                  hmd           81                         12.0   \n",
       "35                 sony           35                          4.0   \n",
       "33              samsung         1162                         68.0   \n",
       "20               iphone          310                         18.0   \n",
       "25               lenovo           20                          1.0   \n",
       "4   bullittgrouplimited           22                          1.0   \n",
       "43               xiaomi          205                          9.0   \n",
       "18               huawei          569                         23.0   \n",
       "26                  lge           31                          1.0   \n",
       "2             blackview           11                          0.0   \n",
       "\n",
       "    % 0 GPS conf devices  \n",
       "37             34.267913  \n",
       "19             31.764706  \n",
       "21             27.906977  \n",
       "16             14.814815  \n",
       "35             11.428571  \n",
       "33              5.851979  \n",
       "20              5.806452  \n",
       "25              5.000000  \n",
       "4               4.545455  \n",
       "43              4.390244  \n",
       "18              4.042179  \n",
       "26              3.225806  \n",
       "2               0.000000  "
      ]
     },
     "execution_count": 37,
     "metadata": {},
     "output_type": "execute_result"
    },
    {
     "data": {
      "application/javascript": [
       "\n",
       "            setTimeout(function() {\n",
       "                var nbb_cell_id = 37;\n",
       "                var nbb_unformatted_code = \"gps_low_conf_device_perc_df[\\n    gps_low_conf_device_perc_df[\\\"Num Devices\\\"] >= 10\\n].sort_values([\\\"% 0 GPS conf devices\\\"], ascending=False).head(15)\";\n",
       "                var nbb_formatted_code = \"gps_low_conf_device_perc_df[\\n    gps_low_conf_device_perc_df[\\\"Num Devices\\\"] >= 10\\n].sort_values([\\\"% 0 GPS conf devices\\\"], ascending=False).head(15)\";\n",
       "                var nbb_cells = Jupyter.notebook.get_cells();\n",
       "                for (var i = 0; i < nbb_cells.length; ++i) {\n",
       "                    if (nbb_cells[i].input_prompt_number == nbb_cell_id) {\n",
       "                        if (nbb_cells[i].get_text() == nbb_unformatted_code) {\n",
       "                             nbb_cells[i].set_text(nbb_formatted_code);\n",
       "                        }\n",
       "                        break;\n",
       "                    }\n",
       "                }\n",
       "            }, 500);\n",
       "            "
      ],
      "text/plain": [
       "<IPython.core.display.Javascript object>"
      ]
     },
     "metadata": {},
     "output_type": "display_data"
    }
   ],
   "source": [
    "gps_low_conf_device_perc_df[\n",
    "    gps_low_conf_device_perc_df[\"Num Devices\"] >= 10\n",
    "].sort_values([\"% 0 GPS conf devices\"], ascending=False).head(15)"
   ]
  },
  {
   "cell_type": "markdown",
   "id": "4498be60",
   "metadata": {},
   "source": [
    "Brands like `infinix`, `itel`, `tecno` seem to be the culprit here, as they're resulting in a high percentage of device with poor GPS confidence."
   ]
  },
  {
   "cell_type": "markdown",
   "id": "768d6c2c",
   "metadata": {},
   "source": [
    "### Device Manufacturer"
   ]
  },
  {
   "cell_type": "code",
   "execution_count": 38,
   "id": "e95ab5b4",
   "metadata": {},
   "outputs": [
    {
     "data": {
      "application/javascript": [
       "\n",
       "            setTimeout(function() {\n",
       "                var nbb_cell_id = 38;\n",
       "                var nbb_unformatted_code = \"device_price_abs_deviation_df = (\\n    upfront_pricing_data_df.groupby([\\\"device_manufacturer\\\"])[\\n        \\\"abs_upfront_price_deviation_perc\\\"\\n    ]\\n    .agg([\\\"mean\\\", \\\"count\\\", \\\"median\\\", \\\"std\\\"])\\n    .reset_index()\\n).rename(\\n    columns={\\n        \\\"mean\\\": \\\"Mean Abs Deviation (%)\\\",\\n        \\\"median\\\": \\\"Median Abs Deviation (%)\\\",\\n    }\\n)\";\n",
       "                var nbb_formatted_code = \"device_price_abs_deviation_df = (\\n    upfront_pricing_data_df.groupby([\\\"device_manufacturer\\\"])[\\n        \\\"abs_upfront_price_deviation_perc\\\"\\n    ]\\n    .agg([\\\"mean\\\", \\\"count\\\", \\\"median\\\", \\\"std\\\"])\\n    .reset_index()\\n).rename(\\n    columns={\\n        \\\"mean\\\": \\\"Mean Abs Deviation (%)\\\",\\n        \\\"median\\\": \\\"Median Abs Deviation (%)\\\",\\n    }\\n)\";\n",
       "                var nbb_cells = Jupyter.notebook.get_cells();\n",
       "                for (var i = 0; i < nbb_cells.length; ++i) {\n",
       "                    if (nbb_cells[i].input_prompt_number == nbb_cell_id) {\n",
       "                        if (nbb_cells[i].get_text() == nbb_unformatted_code) {\n",
       "                             nbb_cells[i].set_text(nbb_formatted_code);\n",
       "                        }\n",
       "                        break;\n",
       "                    }\n",
       "                }\n",
       "            }, 500);\n",
       "            "
      ],
      "text/plain": [
       "<IPython.core.display.Javascript object>"
      ]
     },
     "metadata": {},
     "output_type": "display_data"
    }
   ],
   "source": [
    "device_price_abs_deviation_df = (\n",
    "    upfront_pricing_data_df.groupby([\"device_manufacturer\"])[\n",
    "        \"abs_upfront_price_deviation_perc\"\n",
    "    ]\n",
    "    .agg([\"mean\", \"count\", \"median\", \"std\"])\n",
    "    .reset_index()\n",
    ").rename(\n",
    "    columns={\n",
    "        \"mean\": \"Mean Abs Deviation (%)\",\n",
    "        \"median\": \"Median Abs Deviation (%)\",\n",
    "    }\n",
    ")"
   ]
  },
  {
   "cell_type": "code",
   "execution_count": 39,
   "id": "16b666e9",
   "metadata": {},
   "outputs": [
    {
     "data": {
      "text/html": [
       "<div>\n",
       "<style scoped>\n",
       "    .dataframe tbody tr th:only-of-type {\n",
       "        vertical-align: middle;\n",
       "    }\n",
       "\n",
       "    .dataframe tbody tr th {\n",
       "        vertical-align: top;\n",
       "    }\n",
       "\n",
       "    .dataframe thead th {\n",
       "        text-align: right;\n",
       "    }\n",
       "</style>\n",
       "<table border=\"1\" class=\"dataframe\">\n",
       "  <thead>\n",
       "    <tr style=\"text-align: right;\">\n",
       "      <th></th>\n",
       "      <th>device_manufacturer</th>\n",
       "      <th>Mean Abs Deviation (%)</th>\n",
       "      <th>count</th>\n",
       "      <th>Median Abs Deviation (%)</th>\n",
       "      <th>std</th>\n",
       "    </tr>\n",
       "  </thead>\n",
       "  <tbody>\n",
       "    <tr>\n",
       "      <th>21</th>\n",
       "      <td>itel</td>\n",
       "      <td>58.768201</td>\n",
       "      <td>43</td>\n",
       "      <td>41.545000</td>\n",
       "      <td>77.197400</td>\n",
       "    </tr>\n",
       "    <tr>\n",
       "      <th>37</th>\n",
       "      <td>tecno</td>\n",
       "      <td>57.171041</td>\n",
       "      <td>321</td>\n",
       "      <td>28.595273</td>\n",
       "      <td>103.281983</td>\n",
       "    </tr>\n",
       "    <tr>\n",
       "      <th>19</th>\n",
       "      <td>infinix</td>\n",
       "      <td>42.257589</td>\n",
       "      <td>85</td>\n",
       "      <td>26.457895</td>\n",
       "      <td>53.987941</td>\n",
       "    </tr>\n",
       "    <tr>\n",
       "      <th>4</th>\n",
       "      <td>bullittgrouplimited</td>\n",
       "      <td>29.926596</td>\n",
       "      <td>22</td>\n",
       "      <td>24.036885</td>\n",
       "      <td>32.065987</td>\n",
       "    </tr>\n",
       "    <tr>\n",
       "      <th>16</th>\n",
       "      <td>hmd</td>\n",
       "      <td>49.270401</td>\n",
       "      <td>81</td>\n",
       "      <td>21.720667</td>\n",
       "      <td>106.658499</td>\n",
       "    </tr>\n",
       "    <tr>\n",
       "      <th>25</th>\n",
       "      <td>lenovo</td>\n",
       "      <td>53.792534</td>\n",
       "      <td>20</td>\n",
       "      <td>18.093044</td>\n",
       "      <td>95.164486</td>\n",
       "    </tr>\n",
       "    <tr>\n",
       "      <th>18</th>\n",
       "      <td>huawei</td>\n",
       "      <td>26.069487</td>\n",
       "      <td>569</td>\n",
       "      <td>15.277778</td>\n",
       "      <td>48.653991</td>\n",
       "    </tr>\n",
       "    <tr>\n",
       "      <th>20</th>\n",
       "      <td>iphone</td>\n",
       "      <td>26.878911</td>\n",
       "      <td>310</td>\n",
       "      <td>15.208034</td>\n",
       "      <td>59.003436</td>\n",
       "    </tr>\n",
       "    <tr>\n",
       "      <th>26</th>\n",
       "      <td>lge</td>\n",
       "      <td>26.496665</td>\n",
       "      <td>31</td>\n",
       "      <td>14.961538</td>\n",
       "      <td>44.844454</td>\n",
       "    </tr>\n",
       "    <tr>\n",
       "      <th>33</th>\n",
       "      <td>samsung</td>\n",
       "      <td>24.281881</td>\n",
       "      <td>1162</td>\n",
       "      <td>14.100216</td>\n",
       "      <td>35.915936</td>\n",
       "    </tr>\n",
       "    <tr>\n",
       "      <th>2</th>\n",
       "      <td>blackview</td>\n",
       "      <td>14.940525</td>\n",
       "      <td>11</td>\n",
       "      <td>11.666667</td>\n",
       "      <td>11.986805</td>\n",
       "    </tr>\n",
       "    <tr>\n",
       "      <th>43</th>\n",
       "      <td>xiaomi</td>\n",
       "      <td>26.505476</td>\n",
       "      <td>205</td>\n",
       "      <td>11.343284</td>\n",
       "      <td>47.418124</td>\n",
       "    </tr>\n",
       "    <tr>\n",
       "      <th>35</th>\n",
       "      <td>sony</td>\n",
       "      <td>23.529075</td>\n",
       "      <td>35</td>\n",
       "      <td>10.347826</td>\n",
       "      <td>33.696310</td>\n",
       "    </tr>\n",
       "  </tbody>\n",
       "</table>\n",
       "</div>"
      ],
      "text/plain": [
       "    device_manufacturer  Mean Abs Deviation (%)  count  \\\n",
       "21                 itel               58.768201     43   \n",
       "37                tecno               57.171041    321   \n",
       "19              infinix               42.257589     85   \n",
       "4   bullittgrouplimited               29.926596     22   \n",
       "16                  hmd               49.270401     81   \n",
       "25               lenovo               53.792534     20   \n",
       "18               huawei               26.069487    569   \n",
       "20               iphone               26.878911    310   \n",
       "26                  lge               26.496665     31   \n",
       "33              samsung               24.281881   1162   \n",
       "2             blackview               14.940525     11   \n",
       "43               xiaomi               26.505476    205   \n",
       "35                 sony               23.529075     35   \n",
       "\n",
       "    Median Abs Deviation (%)         std  \n",
       "21                 41.545000   77.197400  \n",
       "37                 28.595273  103.281983  \n",
       "19                 26.457895   53.987941  \n",
       "4                  24.036885   32.065987  \n",
       "16                 21.720667  106.658499  \n",
       "25                 18.093044   95.164486  \n",
       "18                 15.277778   48.653991  \n",
       "20                 15.208034   59.003436  \n",
       "26                 14.961538   44.844454  \n",
       "33                 14.100216   35.915936  \n",
       "2                  11.666667   11.986805  \n",
       "43                 11.343284   47.418124  \n",
       "35                 10.347826   33.696310  "
      ]
     },
     "execution_count": 39,
     "metadata": {},
     "output_type": "execute_result"
    },
    {
     "data": {
      "application/javascript": [
       "\n",
       "            setTimeout(function() {\n",
       "                var nbb_cell_id = 39;\n",
       "                var nbb_unformatted_code = \"device_price_abs_deviation_df[device_price_abs_deviation_df[\\\"count\\\"] > 10].sort_values(\\n    \\\"Median Abs Deviation (%)\\\", ascending=False\\n)\";\n",
       "                var nbb_formatted_code = \"device_price_abs_deviation_df[device_price_abs_deviation_df[\\\"count\\\"] > 10].sort_values(\\n    \\\"Median Abs Deviation (%)\\\", ascending=False\\n)\";\n",
       "                var nbb_cells = Jupyter.notebook.get_cells();\n",
       "                for (var i = 0; i < nbb_cells.length; ++i) {\n",
       "                    if (nbb_cells[i].input_prompt_number == nbb_cell_id) {\n",
       "                        if (nbb_cells[i].get_text() == nbb_unformatted_code) {\n",
       "                             nbb_cells[i].set_text(nbb_formatted_code);\n",
       "                        }\n",
       "                        break;\n",
       "                    }\n",
       "                }\n",
       "            }, 500);\n",
       "            "
      ],
      "text/plain": [
       "<IPython.core.display.Javascript object>"
      ]
     },
     "metadata": {},
     "output_type": "display_data"
    }
   ],
   "source": [
    "device_price_abs_deviation_df[device_price_abs_deviation_df[\"count\"] > 10].sort_values(\n",
    "    \"Median Abs Deviation (%)\", ascending=False\n",
    ")"
   ]
  },
  {
   "cell_type": "markdown",
   "id": "a021be29",
   "metadata": {},
   "source": [
    "In line with the points with from the poor GPS confidence, brands like `infinix`, `itel`, `tecno` also result in a high median deviation and might require additional calibration."
   ]
  },
  {
   "cell_type": "markdown",
   "id": "86a2ea34",
   "metadata": {},
   "source": [
    "### Date\n",
    "\n",
    "Is there any particular day that the prices are deviation more often?"
   ]
  },
  {
   "cell_type": "code",
   "execution_count": 40,
   "id": "2448296f",
   "metadata": {},
   "outputs": [
    {
     "name": "stderr",
     "output_type": "stream",
     "text": [
      "/var/folders/s4/n8kktn1x7jn2c6hfpf4y7hch0000gq/T/ipykernel_73208/491300784.py:1: SettingWithCopyWarning: \n",
      "A value is trying to be set on a copy of a slice from a DataFrame.\n",
      "Try using .loc[row_indexer,col_indexer] = value instead\n",
      "\n",
      "See the caveats in the documentation: https://pandas.pydata.org/pandas-docs/stable/user_guide/indexing.html#returning-a-view-versus-a-copy\n",
      "  upfront_pricing_data_df[\"ride_date\"] = upfront_pricing_data_df[\"calc_created\"].dt.date\n"
     ]
    },
    {
     "data": {
      "application/javascript": [
       "\n",
       "            setTimeout(function() {\n",
       "                var nbb_cell_id = 40;\n",
       "                var nbb_unformatted_code = \"upfront_pricing_data_df[\\\"ride_date\\\"] = upfront_pricing_data_df[\\\"calc_created\\\"].dt.date\";\n",
       "                var nbb_formatted_code = \"upfront_pricing_data_df[\\\"ride_date\\\"] = upfront_pricing_data_df[\\\"calc_created\\\"].dt.date\";\n",
       "                var nbb_cells = Jupyter.notebook.get_cells();\n",
       "                for (var i = 0; i < nbb_cells.length; ++i) {\n",
       "                    if (nbb_cells[i].input_prompt_number == nbb_cell_id) {\n",
       "                        if (nbb_cells[i].get_text() == nbb_unformatted_code) {\n",
       "                             nbb_cells[i].set_text(nbb_formatted_code);\n",
       "                        }\n",
       "                        break;\n",
       "                    }\n",
       "                }\n",
       "            }, 500);\n",
       "            "
      ],
      "text/plain": [
       "<IPython.core.display.Javascript object>"
      ]
     },
     "metadata": {},
     "output_type": "display_data"
    }
   ],
   "source": [
    "upfront_pricing_data_df[\"ride_date\"] = upfront_pricing_data_df[\"calc_created\"].dt.date"
   ]
  },
  {
   "cell_type": "code",
   "execution_count": 41,
   "id": "294582da",
   "metadata": {},
   "outputs": [
    {
     "data": {
      "application/javascript": [
       "\n",
       "            setTimeout(function() {\n",
       "                var nbb_cell_id = 41;\n",
       "                var nbb_unformatted_code = \"date_price_abs_deviation_df = (\\n    upfront_pricing_data_df.groupby([\\\"ride_date\\\"])[\\\"abs_upfront_price_deviation_perc\\\"]\\n    .agg([\\\"mean\\\", \\\"count\\\", \\\"median\\\", \\\"std\\\"])\\n    .reset_index()\\n).rename(\\n    columns={\\n        \\\"mean\\\": \\\"Mean Abs Deviation (%)\\\",\\n        \\\"ride_date\\\": \\\"Ride Date\\\",\\n        \\\"median\\\": \\\"Median Abs Deviation (%)\\\",\\n    }\\n)\\ndate_price_abs_deviation_df[\\\"Coefficient of Variation\\\"] = (\\n    date_price_abs_deviation_df[\\\"std\\\"]\\n    / date_price_abs_deviation_df[\\\"Mean Abs Deviation (%)\\\"]\\n)\\nmelted_date_price_abs_deviation_df = pd.melt(\\n    date_price_abs_deviation_df,\\n    value_vars=[\\\"Median Abs Deviation (%)\\\", \\\"Mean Abs Deviation (%)\\\"],\\n    id_vars=\\\"Ride Date\\\",\\n)\";\n",
       "                var nbb_formatted_code = \"date_price_abs_deviation_df = (\\n    upfront_pricing_data_df.groupby([\\\"ride_date\\\"])[\\\"abs_upfront_price_deviation_perc\\\"]\\n    .agg([\\\"mean\\\", \\\"count\\\", \\\"median\\\", \\\"std\\\"])\\n    .reset_index()\\n).rename(\\n    columns={\\n        \\\"mean\\\": \\\"Mean Abs Deviation (%)\\\",\\n        \\\"ride_date\\\": \\\"Ride Date\\\",\\n        \\\"median\\\": \\\"Median Abs Deviation (%)\\\",\\n    }\\n)\\ndate_price_abs_deviation_df[\\\"Coefficient of Variation\\\"] = (\\n    date_price_abs_deviation_df[\\\"std\\\"]\\n    / date_price_abs_deviation_df[\\\"Mean Abs Deviation (%)\\\"]\\n)\\nmelted_date_price_abs_deviation_df = pd.melt(\\n    date_price_abs_deviation_df,\\n    value_vars=[\\\"Median Abs Deviation (%)\\\", \\\"Mean Abs Deviation (%)\\\"],\\n    id_vars=\\\"Ride Date\\\",\\n)\";\n",
       "                var nbb_cells = Jupyter.notebook.get_cells();\n",
       "                for (var i = 0; i < nbb_cells.length; ++i) {\n",
       "                    if (nbb_cells[i].input_prompt_number == nbb_cell_id) {\n",
       "                        if (nbb_cells[i].get_text() == nbb_unformatted_code) {\n",
       "                             nbb_cells[i].set_text(nbb_formatted_code);\n",
       "                        }\n",
       "                        break;\n",
       "                    }\n",
       "                }\n",
       "            }, 500);\n",
       "            "
      ],
      "text/plain": [
       "<IPython.core.display.Javascript object>"
      ]
     },
     "metadata": {},
     "output_type": "display_data"
    }
   ],
   "source": [
    "date_price_abs_deviation_df = (\n",
    "    upfront_pricing_data_df.groupby([\"ride_date\"])[\"abs_upfront_price_deviation_perc\"]\n",
    "    .agg([\"mean\", \"count\", \"median\", \"std\"])\n",
    "    .reset_index()\n",
    ").rename(\n",
    "    columns={\n",
    "        \"mean\": \"Mean Abs Deviation (%)\",\n",
    "        \"ride_date\": \"Ride Date\",\n",
    "        \"median\": \"Median Abs Deviation (%)\",\n",
    "    }\n",
    ")\n",
    "date_price_abs_deviation_df[\"Coefficient of Variation\"] = (\n",
    "    date_price_abs_deviation_df[\"std\"]\n",
    "    / date_price_abs_deviation_df[\"Mean Abs Deviation (%)\"]\n",
    ")\n",
    "melted_date_price_abs_deviation_df = pd.melt(\n",
    "    date_price_abs_deviation_df,\n",
    "    value_vars=[\"Median Abs Deviation (%)\", \"Mean Abs Deviation (%)\"],\n",
    "    id_vars=\"Ride Date\",\n",
    ")"
   ]
  },
  {
   "cell_type": "code",
   "execution_count": 42,
   "id": "d2576ce4",
   "metadata": {},
   "outputs": [
    {
     "data": {
      "text/html": [
       "<div>\n",
       "<style scoped>\n",
       "    .dataframe tbody tr th:only-of-type {\n",
       "        vertical-align: middle;\n",
       "    }\n",
       "\n",
       "    .dataframe tbody tr th {\n",
       "        vertical-align: top;\n",
       "    }\n",
       "\n",
       "    .dataframe thead th {\n",
       "        text-align: right;\n",
       "    }\n",
       "</style>\n",
       "<table border=\"1\" class=\"dataframe\">\n",
       "  <thead>\n",
       "    <tr style=\"text-align: right;\">\n",
       "      <th></th>\n",
       "      <th>Ride Date</th>\n",
       "      <th>variable</th>\n",
       "      <th>value</th>\n",
       "    </tr>\n",
       "  </thead>\n",
       "  <tbody>\n",
       "    <tr>\n",
       "      <th>0</th>\n",
       "      <td>2020-02-02</td>\n",
       "      <td>Median Abs Deviation (%)</td>\n",
       "      <td>21.562500</td>\n",
       "    </tr>\n",
       "    <tr>\n",
       "      <th>1</th>\n",
       "      <td>2020-02-03</td>\n",
       "      <td>Median Abs Deviation (%)</td>\n",
       "      <td>24.276092</td>\n",
       "    </tr>\n",
       "    <tr>\n",
       "      <th>2</th>\n",
       "      <td>2020-02-04</td>\n",
       "      <td>Median Abs Deviation (%)</td>\n",
       "      <td>28.591130</td>\n",
       "    </tr>\n",
       "    <tr>\n",
       "      <th>3</th>\n",
       "      <td>2020-02-05</td>\n",
       "      <td>Median Abs Deviation (%)</td>\n",
       "      <td>15.918367</td>\n",
       "    </tr>\n",
       "    <tr>\n",
       "      <th>4</th>\n",
       "      <td>2020-02-06</td>\n",
       "      <td>Median Abs Deviation (%)</td>\n",
       "      <td>18.040000</td>\n",
       "    </tr>\n",
       "    <tr>\n",
       "      <th>...</th>\n",
       "      <td>...</td>\n",
       "      <td>...</td>\n",
       "      <td>...</td>\n",
       "    </tr>\n",
       "    <tr>\n",
       "      <th>77</th>\n",
       "      <td>2020-03-09</td>\n",
       "      <td>Mean Abs Deviation (%)</td>\n",
       "      <td>19.307624</td>\n",
       "    </tr>\n",
       "    <tr>\n",
       "      <th>78</th>\n",
       "      <td>2020-03-10</td>\n",
       "      <td>Mean Abs Deviation (%)</td>\n",
       "      <td>19.534219</td>\n",
       "    </tr>\n",
       "    <tr>\n",
       "      <th>79</th>\n",
       "      <td>2020-03-11</td>\n",
       "      <td>Mean Abs Deviation (%)</td>\n",
       "      <td>23.195917</td>\n",
       "    </tr>\n",
       "    <tr>\n",
       "      <th>80</th>\n",
       "      <td>2020-03-12</td>\n",
       "      <td>Mean Abs Deviation (%)</td>\n",
       "      <td>24.496161</td>\n",
       "    </tr>\n",
       "    <tr>\n",
       "      <th>81</th>\n",
       "      <td>2020-03-13</td>\n",
       "      <td>Mean Abs Deviation (%)</td>\n",
       "      <td>30.863624</td>\n",
       "    </tr>\n",
       "  </tbody>\n",
       "</table>\n",
       "<p>82 rows × 3 columns</p>\n",
       "</div>"
      ],
      "text/plain": [
       "     Ride Date                  variable      value\n",
       "0   2020-02-02  Median Abs Deviation (%)  21.562500\n",
       "1   2020-02-03  Median Abs Deviation (%)  24.276092\n",
       "2   2020-02-04  Median Abs Deviation (%)  28.591130\n",
       "3   2020-02-05  Median Abs Deviation (%)  15.918367\n",
       "4   2020-02-06  Median Abs Deviation (%)  18.040000\n",
       "..         ...                       ...        ...\n",
       "77  2020-03-09    Mean Abs Deviation (%)  19.307624\n",
       "78  2020-03-10    Mean Abs Deviation (%)  19.534219\n",
       "79  2020-03-11    Mean Abs Deviation (%)  23.195917\n",
       "80  2020-03-12    Mean Abs Deviation (%)  24.496161\n",
       "81  2020-03-13    Mean Abs Deviation (%)  30.863624\n",
       "\n",
       "[82 rows x 3 columns]"
      ]
     },
     "execution_count": 42,
     "metadata": {},
     "output_type": "execute_result"
    },
    {
     "data": {
      "application/javascript": [
       "\n",
       "            setTimeout(function() {\n",
       "                var nbb_cell_id = 42;\n",
       "                var nbb_unformatted_code = \"melted_date_price_abs_deviation_df\";\n",
       "                var nbb_formatted_code = \"melted_date_price_abs_deviation_df\";\n",
       "                var nbb_cells = Jupyter.notebook.get_cells();\n",
       "                for (var i = 0; i < nbb_cells.length; ++i) {\n",
       "                    if (nbb_cells[i].input_prompt_number == nbb_cell_id) {\n",
       "                        if (nbb_cells[i].get_text() == nbb_unformatted_code) {\n",
       "                             nbb_cells[i].set_text(nbb_formatted_code);\n",
       "                        }\n",
       "                        break;\n",
       "                    }\n",
       "                }\n",
       "            }, 500);\n",
       "            "
      ],
      "text/plain": [
       "<IPython.core.display.Javascript object>"
      ]
     },
     "metadata": {},
     "output_type": "display_data"
    }
   ],
   "source": [
    "melted_date_price_abs_deviation_df"
   ]
  },
  {
   "cell_type": "code",
   "execution_count": 43,
   "id": "43756a25",
   "metadata": {},
   "outputs": [
    {
     "data": {
      "image/png": "[encoded data removed]",
      "text/plain": [
       "<Figure size 1920x720 with 1 Axes>"
      ]
     },
     "metadata": {},
     "output_type": "display_data"
    },
    {
     "data": {
      "application/javascript": [
       "\n",
       "            setTimeout(function() {\n",
       "                var nbb_cell_id = 43;\n",
       "                var nbb_unformatted_code = \"fig, ax = plt.subplots(figsize=(16, 6), dpi=120)\\ng = sns.lineplot(\\n    data=melted_date_price_abs_deviation_df,\\n    x=\\\"Ride Date\\\",\\n    y=\\\"value\\\",\\n    hue=\\\"variable\\\",\\n    marker=\\\"o\\\",\\n    ax=ax,\\n)\\nplt.xticks(rotation=90)\\nax.set(xticks=melted_date_price_abs_deviation_df[\\\"Ride Date\\\"].values)\\nplt.ylabel(\\\"Deviation (%)\\\")\\ng.axhline(\\n    upfront_pricing_data_df[\\\"abs_upfront_price_deviation_perc\\\"].mean(),\\n    linestyle=\\\"--\\\",\\n    color=\\\"orange\\\",\\n    label=\\\"Global Mean Abs Deviation (%)\\\",\\n)\\ng.axhline(\\n    upfront_pricing_data_df[\\\"abs_upfront_price_deviation_perc\\\"].median(),\\n    linestyle=\\\"--\\\",\\n    color=\\\"blue\\\",\\n    label=\\\"Global Median Abs Deviation (%)\\\",\\n)\\nplt.legend()\\nplt.grid()\";\n",
       "                var nbb_formatted_code = \"fig, ax = plt.subplots(figsize=(16, 6), dpi=120)\\ng = sns.lineplot(\\n    data=melted_date_price_abs_deviation_df,\\n    x=\\\"Ride Date\\\",\\n    y=\\\"value\\\",\\n    hue=\\\"variable\\\",\\n    marker=\\\"o\\\",\\n    ax=ax,\\n)\\nplt.xticks(rotation=90)\\nax.set(xticks=melted_date_price_abs_deviation_df[\\\"Ride Date\\\"].values)\\nplt.ylabel(\\\"Deviation (%)\\\")\\ng.axhline(\\n    upfront_pricing_data_df[\\\"abs_upfront_price_deviation_perc\\\"].mean(),\\n    linestyle=\\\"--\\\",\\n    color=\\\"orange\\\",\\n    label=\\\"Global Mean Abs Deviation (%)\\\",\\n)\\ng.axhline(\\n    upfront_pricing_data_df[\\\"abs_upfront_price_deviation_perc\\\"].median(),\\n    linestyle=\\\"--\\\",\\n    color=\\\"blue\\\",\\n    label=\\\"Global Median Abs Deviation (%)\\\",\\n)\\nplt.legend()\\nplt.grid()\";\n",
       "                var nbb_cells = Jupyter.notebook.get_cells();\n",
       "                for (var i = 0; i < nbb_cells.length; ++i) {\n",
       "                    if (nbb_cells[i].input_prompt_number == nbb_cell_id) {\n",
       "                        if (nbb_cells[i].get_text() == nbb_unformatted_code) {\n",
       "                             nbb_cells[i].set_text(nbb_formatted_code);\n",
       "                        }\n",
       "                        break;\n",
       "                    }\n",
       "                }\n",
       "            }, 500);\n",
       "            "
      ],
      "text/plain": [
       "<IPython.core.display.Javascript object>"
      ]
     },
     "metadata": {},
     "output_type": "display_data"
    }
   ],
   "source": [
    "fig, ax = plt.subplots(figsize=(16, 6), dpi=120)\n",
    "g = sns.lineplot(\n",
    "    data=melted_date_price_abs_deviation_df,\n",
    "    x=\"Ride Date\",\n",
    "    y=\"value\",\n",
    "    hue=\"variable\",\n",
    "    marker=\"o\",\n",
    "    ax=ax,\n",
    ")\n",
    "plt.xticks(rotation=90)\n",
    "ax.set(xticks=melted_date_price_abs_deviation_df[\"Ride Date\"].values)\n",
    "plt.ylabel(\"Deviation (%)\")\n",
    "g.axhline(\n",
    "    upfront_pricing_data_df[\"abs_upfront_price_deviation_perc\"].mean(),\n",
    "    linestyle=\"--\",\n",
    "    color=\"orange\",\n",
    "    label=\"Global Mean Abs Deviation (%)\",\n",
    ")\n",
    "g.axhline(\n",
    "    upfront_pricing_data_df[\"abs_upfront_price_deviation_perc\"].median(),\n",
    "    linestyle=\"--\",\n",
    "    color=\"blue\",\n",
    "    label=\"Global Median Abs Deviation (%)\",\n",
    ")\n",
    "plt.legend()\n",
    "plt.grid()"
   ]
  },
  {
   "cell_type": "code",
   "execution_count": 44,
   "id": "8817b31f",
   "metadata": {},
   "outputs": [
    {
     "data": {
      "image/png": "[encoded data removed]",
      "text/plain": [
       "<Figure size 1920x720 with 1 Axes>"
      ]
     },
     "metadata": {},
     "output_type": "display_data"
    },
    {
     "data": {
      "application/javascript": [
       "\n",
       "            setTimeout(function() {\n",
       "                var nbb_cell_id = 44;\n",
       "                var nbb_unformatted_code = \"fig, ax = plt.subplots(figsize=(16, 6), dpi=120)\\nsns.lineplot(\\n    data=date_price_abs_deviation_df,\\n    x=\\\"Ride Date\\\",\\n    y=\\\"Coefficient of Variation\\\",\\n    marker=\\\"o\\\",\\n    ax=ax,\\n)\\nplt.xticks(rotation=90)\\nax.set(xticks=date_price_abs_deviation_df[\\\"Ride Date\\\"].values)\\nplt.grid()\";\n",
       "                var nbb_formatted_code = \"fig, ax = plt.subplots(figsize=(16, 6), dpi=120)\\nsns.lineplot(\\n    data=date_price_abs_deviation_df,\\n    x=\\\"Ride Date\\\",\\n    y=\\\"Coefficient of Variation\\\",\\n    marker=\\\"o\\\",\\n    ax=ax,\\n)\\nplt.xticks(rotation=90)\\nax.set(xticks=date_price_abs_deviation_df[\\\"Ride Date\\\"].values)\\nplt.grid()\";\n",
       "                var nbb_cells = Jupyter.notebook.get_cells();\n",
       "                for (var i = 0; i < nbb_cells.length; ++i) {\n",
       "                    if (nbb_cells[i].input_prompt_number == nbb_cell_id) {\n",
       "                        if (nbb_cells[i].get_text() == nbb_unformatted_code) {\n",
       "                             nbb_cells[i].set_text(nbb_formatted_code);\n",
       "                        }\n",
       "                        break;\n",
       "                    }\n",
       "                }\n",
       "            }, 500);\n",
       "            "
      ],
      "text/plain": [
       "<IPython.core.display.Javascript object>"
      ]
     },
     "metadata": {},
     "output_type": "display_data"
    }
   ],
   "source": [
    "fig, ax = plt.subplots(figsize=(16, 6), dpi=120)\n",
    "sns.lineplot(\n",
    "    data=date_price_abs_deviation_df,\n",
    "    x=\"Ride Date\",\n",
    "    y=\"Coefficient of Variation\",\n",
    "    marker=\"o\",\n",
    "    ax=ax,\n",
    ")\n",
    "plt.xticks(rotation=90)\n",
    "ax.set(xticks=date_price_abs_deviation_df[\"Ride Date\"].values)\n",
    "plt.grid()"
   ]
  },
  {
   "cell_type": "code",
   "execution_count": 45,
   "id": "4d8cccbe",
   "metadata": {},
   "outputs": [
    {
     "data": {
      "text/html": [
       "<div>\n",
       "<style scoped>\n",
       "    .dataframe tbody tr th:only-of-type {\n",
       "        vertical-align: middle;\n",
       "    }\n",
       "\n",
       "    .dataframe tbody tr th {\n",
       "        vertical-align: top;\n",
       "    }\n",
       "\n",
       "    .dataframe thead th {\n",
       "        text-align: right;\n",
       "    }\n",
       "</style>\n",
       "<table border=\"1\" class=\"dataframe\">\n",
       "  <thead>\n",
       "    <tr style=\"text-align: right;\">\n",
       "      <th></th>\n",
       "      <th>abs_upfront_price_deviation_perc</th>\n",
       "    </tr>\n",
       "  </thead>\n",
       "  <tbody>\n",
       "    <tr>\n",
       "      <th>count</th>\n",
       "      <td>89.000000</td>\n",
       "    </tr>\n",
       "    <tr>\n",
       "      <th>mean</th>\n",
       "      <td>56.492610</td>\n",
       "    </tr>\n",
       "    <tr>\n",
       "      <th>std</th>\n",
       "      <td>73.295214</td>\n",
       "    </tr>\n",
       "    <tr>\n",
       "      <th>min</th>\n",
       "      <td>0.000000</td>\n",
       "    </tr>\n",
       "    <tr>\n",
       "      <th>25%</th>\n",
       "      <td>11.042000</td>\n",
       "    </tr>\n",
       "    <tr>\n",
       "      <th>50%</th>\n",
       "      <td>28.591130</td>\n",
       "    </tr>\n",
       "    <tr>\n",
       "      <th>75%</th>\n",
       "      <td>75.000000</td>\n",
       "    </tr>\n",
       "    <tr>\n",
       "      <th>max</th>\n",
       "      <td>386.165250</td>\n",
       "    </tr>\n",
       "  </tbody>\n",
       "</table>\n",
       "</div>"
      ],
      "text/plain": [
       "       abs_upfront_price_deviation_perc\n",
       "count                         89.000000\n",
       "mean                          56.492610\n",
       "std                           73.295214\n",
       "min                            0.000000\n",
       "25%                           11.042000\n",
       "50%                           28.591130\n",
       "75%                           75.000000\n",
       "max                          386.165250"
      ]
     },
     "execution_count": 45,
     "metadata": {},
     "output_type": "execute_result"
    },
    {
     "data": {
      "application/javascript": [
       "\n",
       "            setTimeout(function() {\n",
       "                var nbb_cell_id = 45;\n",
       "                var nbb_unformatted_code = \"upfront_pricing_data_df.loc[\\n    upfront_pricing_data_df[\\\"ride_date\\\"]\\n    == dt.datetime(year=2020, month=2, day=4).date(),\\n    [\\\"abs_upfront_price_deviation_perc\\\"],\\n].describe()\";\n",
       "                var nbb_formatted_code = \"upfront_pricing_data_df.loc[\\n    upfront_pricing_data_df[\\\"ride_date\\\"]\\n    == dt.datetime(year=2020, month=2, day=4).date(),\\n    [\\\"abs_upfront_price_deviation_perc\\\"],\\n].describe()\";\n",
       "                var nbb_cells = Jupyter.notebook.get_cells();\n",
       "                for (var i = 0; i < nbb_cells.length; ++i) {\n",
       "                    if (nbb_cells[i].input_prompt_number == nbb_cell_id) {\n",
       "                        if (nbb_cells[i].get_text() == nbb_unformatted_code) {\n",
       "                             nbb_cells[i].set_text(nbb_formatted_code);\n",
       "                        }\n",
       "                        break;\n",
       "                    }\n",
       "                }\n",
       "            }, 500);\n",
       "            "
      ],
      "text/plain": [
       "<IPython.core.display.Javascript object>"
      ]
     },
     "metadata": {},
     "output_type": "display_data"
    }
   ],
   "source": [
    "upfront_pricing_data_df.loc[\n",
    "    upfront_pricing_data_df[\"ride_date\"]\n",
    "    == dt.datetime(year=2020, month=2, day=4).date(),\n",
    "    [\"abs_upfront_price_deviation_perc\"],\n",
    "].describe()"
   ]
  },
  {
   "cell_type": "markdown",
   "id": "33715ba2",
   "metadata": {},
   "source": [
    "* Although the mean deviation is higher on the 16th, the median is still roughly similar to the global median. \n",
    "* There is an outlier on the 16th that's resulting in the higher mean price deviation. Furthermore, the coefficient of variation is the highest on that date.\n",
    "* Date isn't a factor that's directly impacting the upfront price deviation."
   ]
  },
  {
   "cell_type": "code",
   "execution_count": 46,
   "id": "e05efbd2",
   "metadata": {},
   "outputs": [
    {
     "data": {
      "text/html": [
       "<div>\n",
       "<style scoped>\n",
       "    .dataframe tbody tr th:only-of-type {\n",
       "        vertical-align: middle;\n",
       "    }\n",
       "\n",
       "    .dataframe tbody tr th {\n",
       "        vertical-align: top;\n",
       "    }\n",
       "\n",
       "    .dataframe thead th {\n",
       "        text-align: right;\n",
       "    }\n",
       "</style>\n",
       "<table border=\"1\" class=\"dataframe\">\n",
       "  <thead>\n",
       "    <tr style=\"text-align: right;\">\n",
       "      <th></th>\n",
       "      <th>1570</th>\n",
       "      <th>2203</th>\n",
       "    </tr>\n",
       "  </thead>\n",
       "  <tbody>\n",
       "    <tr>\n",
       "      <th>order_id_new</th>\n",
       "      <td>211</td>\n",
       "      <td>280</td>\n",
       "    </tr>\n",
       "    <tr>\n",
       "      <th>calc_created</th>\n",
       "      <td>2020-02-04 10:18:37</td>\n",
       "      <td>2020-02-04 16:44:45</td>\n",
       "    </tr>\n",
       "    <tr>\n",
       "      <th>metered_price</th>\n",
       "      <td>81937.04</td>\n",
       "      <td>38893.22</td>\n",
       "    </tr>\n",
       "    <tr>\n",
       "      <th>upfront_price</th>\n",
       "      <td>18500.0</td>\n",
       "      <td>8000.0</td>\n",
       "    </tr>\n",
       "    <tr>\n",
       "      <th>distance</th>\n",
       "      <td>41057</td>\n",
       "      <td>26415</td>\n",
       "    </tr>\n",
       "    <tr>\n",
       "      <th>duration</th>\n",
       "      <td>13768</td>\n",
       "      <td>3144</td>\n",
       "    </tr>\n",
       "    <tr>\n",
       "      <th>gps_confidence</th>\n",
       "      <td>0</td>\n",
       "      <td>0</td>\n",
       "    </tr>\n",
       "    <tr>\n",
       "      <th>entered_by</th>\n",
       "      <td>client</td>\n",
       "      <td>client</td>\n",
       "    </tr>\n",
       "    <tr>\n",
       "      <th>dest_change_number</th>\n",
       "      <td>1</td>\n",
       "      <td>1</td>\n",
       "    </tr>\n",
       "    <tr>\n",
       "      <th>predicted_distance</th>\n",
       "      <td>14766.0</td>\n",
       "      <td>5187.0</td>\n",
       "    </tr>\n",
       "    <tr>\n",
       "      <th>predicted_duration</th>\n",
       "      <td>1929.0</td>\n",
       "      <td>1078.0</td>\n",
       "    </tr>\n",
       "    <tr>\n",
       "      <th>change_reason_pricing</th>\n",
       "      <td>NaN</td>\n",
       "      <td>NaN</td>\n",
       "    </tr>\n",
       "    <tr>\n",
       "      <th>rider_app_version</th>\n",
       "      <td>CA.5.17</td>\n",
       "      <td>CA.4.93</td>\n",
       "    </tr>\n",
       "    <tr>\n",
       "      <th>driver_app_version</th>\n",
       "      <td>DA.4.37</td>\n",
       "      <td>DA.4.37</td>\n",
       "    </tr>\n",
       "    <tr>\n",
       "      <th>device_name</th>\n",
       "      <td>TECNO MOBILE LIMITED TECNO KB8</td>\n",
       "      <td>Itel S12</td>\n",
       "    </tr>\n",
       "    <tr>\n",
       "      <th>eu_indicator</th>\n",
       "      <td>0</td>\n",
       "      <td>0</td>\n",
       "    </tr>\n",
       "    <tr>\n",
       "      <th>overpaid_ride_ticket</th>\n",
       "      <td>0</td>\n",
       "      <td>0</td>\n",
       "    </tr>\n",
       "    <tr>\n",
       "      <th>fraud_score</th>\n",
       "      <td>NaN</td>\n",
       "      <td>NaN</td>\n",
       "    </tr>\n",
       "    <tr>\n",
       "      <th>upfront_price_deviation_perc</th>\n",
       "      <td>-342.902919</td>\n",
       "      <td>-386.16525</td>\n",
       "    </tr>\n",
       "    <tr>\n",
       "      <th>abs_upfront_price_deviation_perc</th>\n",
       "      <td>342.902919</td>\n",
       "      <td>386.16525</td>\n",
       "    </tr>\n",
       "    <tr>\n",
       "      <th>device_manufacturer</th>\n",
       "      <td>tecno</td>\n",
       "      <td>itel</td>\n",
       "    </tr>\n",
       "    <tr>\n",
       "      <th>ride_date</th>\n",
       "      <td>2020-02-04</td>\n",
       "      <td>2020-02-04</td>\n",
       "    </tr>\n",
       "  </tbody>\n",
       "</table>\n",
       "</div>"
      ],
      "text/plain": [
       "                                                            1570  \\\n",
       "order_id_new                                                 211   \n",
       "calc_created                                 2020-02-04 10:18:37   \n",
       "metered_price                                           81937.04   \n",
       "upfront_price                                            18500.0   \n",
       "distance                                                   41057   \n",
       "duration                                                   13768   \n",
       "gps_confidence                                                 0   \n",
       "entered_by                                                client   \n",
       "dest_change_number                                             1   \n",
       "predicted_distance                                       14766.0   \n",
       "predicted_duration                                        1929.0   \n",
       "change_reason_pricing                                        NaN   \n",
       "rider_app_version                                        CA.5.17   \n",
       "driver_app_version                                       DA.4.37   \n",
       "device_name                       TECNO MOBILE LIMITED TECNO KB8   \n",
       "eu_indicator                                                   0   \n",
       "overpaid_ride_ticket                                           0   \n",
       "fraud_score                                                  NaN   \n",
       "upfront_price_deviation_perc                         -342.902919   \n",
       "abs_upfront_price_deviation_perc                      342.902919   \n",
       "device_manufacturer                                        tecno   \n",
       "ride_date                                             2020-02-04   \n",
       "\n",
       "                                                 2203  \n",
       "order_id_new                                      280  \n",
       "calc_created                      2020-02-04 16:44:45  \n",
       "metered_price                                38893.22  \n",
       "upfront_price                                  8000.0  \n",
       "distance                                        26415  \n",
       "duration                                         3144  \n",
       "gps_confidence                                      0  \n",
       "entered_by                                     client  \n",
       "dest_change_number                                  1  \n",
       "predicted_distance                             5187.0  \n",
       "predicted_duration                             1078.0  \n",
       "change_reason_pricing                             NaN  \n",
       "rider_app_version                             CA.4.93  \n",
       "driver_app_version                            DA.4.37  \n",
       "device_name                                  Itel S12  \n",
       "eu_indicator                                        0  \n",
       "overpaid_ride_ticket                                0  \n",
       "fraud_score                                       NaN  \n",
       "upfront_price_deviation_perc               -386.16525  \n",
       "abs_upfront_price_deviation_perc            386.16525  \n",
       "device_manufacturer                              itel  \n",
       "ride_date                                  2020-02-04  "
      ]
     },
     "execution_count": 46,
     "metadata": {},
     "output_type": "execute_result"
    },
    {
     "data": {
      "application/javascript": [
       "\n",
       "            setTimeout(function() {\n",
       "                var nbb_cell_id = 46;\n",
       "                var nbb_unformatted_code = \"upfront_pricing_data_df.loc[\\n    (\\n        upfront_pricing_data_df[\\\"ride_date\\\"]\\n        == dt.datetime(year=2020, month=2, day=4).date()\\n    )\\n    & (upfront_pricing_data_df[\\\"abs_upfront_price_deviation_perc\\\"] >= 300),\\n].T\";\n",
       "                var nbb_formatted_code = \"upfront_pricing_data_df.loc[\\n    (\\n        upfront_pricing_data_df[\\\"ride_date\\\"]\\n        == dt.datetime(year=2020, month=2, day=4).date()\\n    )\\n    & (upfront_pricing_data_df[\\\"abs_upfront_price_deviation_perc\\\"] >= 300),\\n].T\";\n",
       "                var nbb_cells = Jupyter.notebook.get_cells();\n",
       "                for (var i = 0; i < nbb_cells.length; ++i) {\n",
       "                    if (nbb_cells[i].input_prompt_number == nbb_cell_id) {\n",
       "                        if (nbb_cells[i].get_text() == nbb_unformatted_code) {\n",
       "                             nbb_cells[i].set_text(nbb_formatted_code);\n",
       "                        }\n",
       "                        break;\n",
       "                    }\n",
       "                }\n",
       "            }, 500);\n",
       "            "
      ],
      "text/plain": [
       "<IPython.core.display.Javascript object>"
      ]
     },
     "metadata": {},
     "output_type": "display_data"
    }
   ],
   "source": [
    "upfront_pricing_data_df.loc[\n",
    "    (\n",
    "        upfront_pricing_data_df[\"ride_date\"]\n",
    "        == dt.datetime(year=2020, month=2, day=4).date()\n",
    "    )\n",
    "    & (upfront_pricing_data_df[\"abs_upfront_price_deviation_perc\"] >= 300),\n",
    "].T"
   ]
  },
  {
   "cell_type": "markdown",
   "id": "ee9983ca",
   "metadata": {},
   "source": [
    "There's a significant difference in the duration and distance here, which is why we're seeing such a mean deviation."
   ]
  },
  {
   "cell_type": "markdown",
   "id": "39bdfa2a",
   "metadata": {},
   "source": [
    "## Destination Changes\n",
    "\n",
    "Changing destinations midway through the ride could require the algorithm to re-calculate the journey."
   ]
  },
  {
   "cell_type": "code",
   "execution_count": 47,
   "id": "5efb0664",
   "metadata": {},
   "outputs": [
    {
     "data": {
      "application/javascript": [
       "\n",
       "            setTimeout(function() {\n",
       "                var nbb_cell_id = 47;\n",
       "                var nbb_unformatted_code = \"dest_price_abs_deviation_df = (\\n    upfront_pricing_data_df.groupby([\\\"dest_change_number\\\"])[\\n        \\\"abs_upfront_price_deviation_perc\\\"\\n    ]\\n    .agg([\\\"mean\\\", \\\"count\\\", \\\"median\\\", \\\"std\\\"])\\n    .reset_index()\\n).rename(\\n    columns={\\n        \\\"mean\\\": \\\"Mean Abs Deviation (%)\\\",\\n        \\\"median\\\": \\\"Median Abs Deviation (%)\\\",\\n        \\\"std\\\": \\\"Standard Deviation\\\",\\n    }\\n)\\ndest_price_abs_deviation_df[\\\"Coefficient of Variation\\\"] = (\\n    dest_price_abs_deviation_df[\\\"Standard Deviation\\\"]\\n    / dest_price_abs_deviation_df[\\\"Mean Abs Deviation (%)\\\"]\\n)\";\n",
       "                var nbb_formatted_code = \"dest_price_abs_deviation_df = (\\n    upfront_pricing_data_df.groupby([\\\"dest_change_number\\\"])[\\n        \\\"abs_upfront_price_deviation_perc\\\"\\n    ]\\n    .agg([\\\"mean\\\", \\\"count\\\", \\\"median\\\", \\\"std\\\"])\\n    .reset_index()\\n).rename(\\n    columns={\\n        \\\"mean\\\": \\\"Mean Abs Deviation (%)\\\",\\n        \\\"median\\\": \\\"Median Abs Deviation (%)\\\",\\n        \\\"std\\\": \\\"Standard Deviation\\\",\\n    }\\n)\\ndest_price_abs_deviation_df[\\\"Coefficient of Variation\\\"] = (\\n    dest_price_abs_deviation_df[\\\"Standard Deviation\\\"]\\n    / dest_price_abs_deviation_df[\\\"Mean Abs Deviation (%)\\\"]\\n)\";\n",
       "                var nbb_cells = Jupyter.notebook.get_cells();\n",
       "                for (var i = 0; i < nbb_cells.length; ++i) {\n",
       "                    if (nbb_cells[i].input_prompt_number == nbb_cell_id) {\n",
       "                        if (nbb_cells[i].get_text() == nbb_unformatted_code) {\n",
       "                             nbb_cells[i].set_text(nbb_formatted_code);\n",
       "                        }\n",
       "                        break;\n",
       "                    }\n",
       "                }\n",
       "            }, 500);\n",
       "            "
      ],
      "text/plain": [
       "<IPython.core.display.Javascript object>"
      ]
     },
     "metadata": {},
     "output_type": "display_data"
    }
   ],
   "source": [
    "dest_price_abs_deviation_df = (\n",
    "    upfront_pricing_data_df.groupby([\"dest_change_number\"])[\n",
    "        \"abs_upfront_price_deviation_perc\"\n",
    "    ]\n",
    "    .agg([\"mean\", \"count\", \"median\", \"std\"])\n",
    "    .reset_index()\n",
    ").rename(\n",
    "    columns={\n",
    "        \"mean\": \"Mean Abs Deviation (%)\",\n",
    "        \"median\": \"Median Abs Deviation (%)\",\n",
    "        \"std\": \"Standard Deviation\",\n",
    "    }\n",
    ")\n",
    "dest_price_abs_deviation_df[\"Coefficient of Variation\"] = (\n",
    "    dest_price_abs_deviation_df[\"Standard Deviation\"]\n",
    "    / dest_price_abs_deviation_df[\"Mean Abs Deviation (%)\"]\n",
    ")"
   ]
  },
  {
   "cell_type": "code",
   "execution_count": 48,
   "id": "6683e7c6",
   "metadata": {},
   "outputs": [
    {
     "data": {
      "text/html": [
       "<div>\n",
       "<style scoped>\n",
       "    .dataframe tbody tr th:only-of-type {\n",
       "        vertical-align: middle;\n",
       "    }\n",
       "\n",
       "    .dataframe tbody tr th {\n",
       "        vertical-align: top;\n",
       "    }\n",
       "\n",
       "    .dataframe thead th {\n",
       "        text-align: right;\n",
       "    }\n",
       "</style>\n",
       "<table border=\"1\" class=\"dataframe\">\n",
       "  <thead>\n",
       "    <tr style=\"text-align: right;\">\n",
       "      <th></th>\n",
       "      <th>dest_change_number</th>\n",
       "      <th>Mean Abs Deviation (%)</th>\n",
       "      <th>count</th>\n",
       "      <th>Median Abs Deviation (%)</th>\n",
       "      <th>Standard Deviation</th>\n",
       "      <th>Coefficient of Variation</th>\n",
       "    </tr>\n",
       "  </thead>\n",
       "  <tbody>\n",
       "    <tr>\n",
       "      <th>0</th>\n",
       "      <td>1</td>\n",
       "      <td>29.670394</td>\n",
       "      <td>2873</td>\n",
       "      <td>16.024845</td>\n",
       "      <td>56.495670</td>\n",
       "      <td>1.904109</td>\n",
       "    </tr>\n",
       "    <tr>\n",
       "      <th>1</th>\n",
       "      <td>2</td>\n",
       "      <td>36.863870</td>\n",
       "      <td>49</td>\n",
       "      <td>18.873239</td>\n",
       "      <td>44.396102</td>\n",
       "      <td>1.204326</td>\n",
       "    </tr>\n",
       "    <tr>\n",
       "      <th>2</th>\n",
       "      <td>3</td>\n",
       "      <td>65.525390</td>\n",
       "      <td>52</td>\n",
       "      <td>36.763728</td>\n",
       "      <td>85.585217</td>\n",
       "      <td>1.306138</td>\n",
       "    </tr>\n",
       "    <tr>\n",
       "      <th>3</th>\n",
       "      <td>4</td>\n",
       "      <td>156.289365</td>\n",
       "      <td>6</td>\n",
       "      <td>44.790761</td>\n",
       "      <td>219.323125</td>\n",
       "      <td>1.403314</td>\n",
       "    </tr>\n",
       "    <tr>\n",
       "      <th>4</th>\n",
       "      <td>5</td>\n",
       "      <td>2.893103</td>\n",
       "      <td>2</td>\n",
       "      <td>2.893103</td>\n",
       "      <td>0.434017</td>\n",
       "      <td>0.150018</td>\n",
       "    </tr>\n",
       "    <tr>\n",
       "      <th>5</th>\n",
       "      <td>7</td>\n",
       "      <td>78.221525</td>\n",
       "      <td>2</td>\n",
       "      <td>78.221525</td>\n",
       "      <td>49.739775</td>\n",
       "      <td>0.635883</td>\n",
       "    </tr>\n",
       "  </tbody>\n",
       "</table>\n",
       "</div>"
      ],
      "text/plain": [
       "   dest_change_number  Mean Abs Deviation (%)  count  \\\n",
       "0                   1               29.670394   2873   \n",
       "1                   2               36.863870     49   \n",
       "2                   3               65.525390     52   \n",
       "3                   4              156.289365      6   \n",
       "4                   5                2.893103      2   \n",
       "5                   7               78.221525      2   \n",
       "\n",
       "   Median Abs Deviation (%)  Standard Deviation  Coefficient of Variation  \n",
       "0                 16.024845           56.495670                  1.904109  \n",
       "1                 18.873239           44.396102                  1.204326  \n",
       "2                 36.763728           85.585217                  1.306138  \n",
       "3                 44.790761          219.323125                  1.403314  \n",
       "4                  2.893103            0.434017                  0.150018  \n",
       "5                 78.221525           49.739775                  0.635883  "
      ]
     },
     "execution_count": 48,
     "metadata": {},
     "output_type": "execute_result"
    },
    {
     "data": {
      "application/javascript": [
       "\n",
       "            setTimeout(function() {\n",
       "                var nbb_cell_id = 48;\n",
       "                var nbb_unformatted_code = \"dest_price_abs_deviation_df\";\n",
       "                var nbb_formatted_code = \"dest_price_abs_deviation_df\";\n",
       "                var nbb_cells = Jupyter.notebook.get_cells();\n",
       "                for (var i = 0; i < nbb_cells.length; ++i) {\n",
       "                    if (nbb_cells[i].input_prompt_number == nbb_cell_id) {\n",
       "                        if (nbb_cells[i].get_text() == nbb_unformatted_code) {\n",
       "                             nbb_cells[i].set_text(nbb_formatted_code);\n",
       "                        }\n",
       "                        break;\n",
       "                    }\n",
       "                }\n",
       "            }, 500);\n",
       "            "
      ],
      "text/plain": [
       "<IPython.core.display.Javascript object>"
      ]
     },
     "metadata": {},
     "output_type": "display_data"
    }
   ],
   "source": [
    "dest_price_abs_deviation_df"
   ]
  },
  {
   "cell_type": "markdown",
   "id": "c9db69bb",
   "metadata": {},
   "source": [
    "* There's a significant increase in the median deviation above 1 ride changes. \n",
    "* However it's difficult to say with confidence that this trend will continue as the number of ride changes increase.\n",
    "* We can probably show the customer an alert stating that pricing would change drastically with each ride change."
   ]
  },
  {
   "cell_type": "markdown",
   "id": "60746ebe",
   "metadata": {},
   "source": [
    "## EU Indicator"
   ]
  },
  {
   "cell_type": "code",
   "execution_count": 50,
   "id": "f26c69df",
   "metadata": {},
   "outputs": [
    {
     "data": {
      "application/javascript": [
       "\n",
       "            setTimeout(function() {\n",
       "                var nbb_cell_id = 50;\n",
       "                var nbb_unformatted_code = \"eu_price_abs_deviation_df = (\\n    upfront_pricing_data_df.groupby([\\\"eu_indicator\\\"])[\\n        \\\"abs_upfront_price_deviation_perc\\\"\\n    ]\\n    .agg([\\\"mean\\\", \\\"count\\\", \\\"median\\\", \\\"std\\\"])\\n    .reset_index()\\n).rename(\\n    columns={\\n        \\\"mean\\\": \\\"Mean Abs Deviation (%)\\\",\\n        \\\"median\\\": \\\"Median Abs Deviation (%)\\\",\\n        \\\"std\\\": \\\"Standard Deviation\\\",\\n    }\\n)\\neu_price_abs_deviation_df[\\\"Coefficient of Variation\\\"] = (\\n    eu_price_abs_deviation_df[\\\"Standard Deviation\\\"]\\n    / eu_price_abs_deviation_df[\\\"Mean Abs Deviation (%)\\\"]\\n)\";\n",
       "                var nbb_formatted_code = \"eu_price_abs_deviation_df = (\\n    upfront_pricing_data_df.groupby([\\\"eu_indicator\\\"])[\\n        \\\"abs_upfront_price_deviation_perc\\\"\\n    ]\\n    .agg([\\\"mean\\\", \\\"count\\\", \\\"median\\\", \\\"std\\\"])\\n    .reset_index()\\n).rename(\\n    columns={\\n        \\\"mean\\\": \\\"Mean Abs Deviation (%)\\\",\\n        \\\"median\\\": \\\"Median Abs Deviation (%)\\\",\\n        \\\"std\\\": \\\"Standard Deviation\\\",\\n    }\\n)\\neu_price_abs_deviation_df[\\\"Coefficient of Variation\\\"] = (\\n    eu_price_abs_deviation_df[\\\"Standard Deviation\\\"]\\n    / eu_price_abs_deviation_df[\\\"Mean Abs Deviation (%)\\\"]\\n)\";\n",
       "                var nbb_cells = Jupyter.notebook.get_cells();\n",
       "                for (var i = 0; i < nbb_cells.length; ++i) {\n",
       "                    if (nbb_cells[i].input_prompt_number == nbb_cell_id) {\n",
       "                        if (nbb_cells[i].get_text() == nbb_unformatted_code) {\n",
       "                             nbb_cells[i].set_text(nbb_formatted_code);\n",
       "                        }\n",
       "                        break;\n",
       "                    }\n",
       "                }\n",
       "            }, 500);\n",
       "            "
      ],
      "text/plain": [
       "<IPython.core.display.Javascript object>"
      ]
     },
     "metadata": {},
     "output_type": "display_data"
    }
   ],
   "source": [
    "eu_price_abs_deviation_df = (\n",
    "    upfront_pricing_data_df.groupby([\"eu_indicator\"])[\n",
    "        \"abs_upfront_price_deviation_perc\"\n",
    "    ]\n",
    "    .agg([\"mean\", \"count\", \"median\", \"std\"])\n",
    "    .reset_index()\n",
    ").rename(\n",
    "    columns={\n",
    "        \"mean\": \"Mean Abs Deviation (%)\",\n",
    "        \"median\": \"Median Abs Deviation (%)\",\n",
    "        \"std\": \"Standard Deviation\",\n",
    "    }\n",
    ")\n",
    "eu_price_abs_deviation_df[\"Coefficient of Variation\"] = (\n",
    "    eu_price_abs_deviation_df[\"Standard Deviation\"]\n",
    "    / eu_price_abs_deviation_df[\"Mean Abs Deviation (%)\"]\n",
    ")"
   ]
  },
  {
   "cell_type": "code",
   "execution_count": 51,
   "id": "f4cb9261",
   "metadata": {},
   "outputs": [
    {
     "data": {
      "text/html": [
       "<div>\n",
       "<style scoped>\n",
       "    .dataframe tbody tr th:only-of-type {\n",
       "        vertical-align: middle;\n",
       "    }\n",
       "\n",
       "    .dataframe tbody tr th {\n",
       "        vertical-align: top;\n",
       "    }\n",
       "\n",
       "    .dataframe thead th {\n",
       "        text-align: right;\n",
       "    }\n",
       "</style>\n",
       "<table border=\"1\" class=\"dataframe\">\n",
       "  <thead>\n",
       "    <tr style=\"text-align: right;\">\n",
       "      <th></th>\n",
       "      <th>eu_indicator</th>\n",
       "      <th>Mean Abs Deviation (%)</th>\n",
       "      <th>count</th>\n",
       "      <th>Median Abs Deviation (%)</th>\n",
       "      <th>Standard Deviation</th>\n",
       "      <th>Coefficient of Variation</th>\n",
       "    </tr>\n",
       "  </thead>\n",
       "  <tbody>\n",
       "    <tr>\n",
       "      <th>0</th>\n",
       "      <td>0</td>\n",
       "      <td>56.735657</td>\n",
       "      <td>706</td>\n",
       "      <td>25.733732</td>\n",
       "      <td>94.597697</td>\n",
       "      <td>1.667341</td>\n",
       "    </tr>\n",
       "    <tr>\n",
       "      <th>1</th>\n",
       "      <td>1</td>\n",
       "      <td>22.608114</td>\n",
       "      <td>2278</td>\n",
       "      <td>13.647450</td>\n",
       "      <td>36.957138</td>\n",
       "      <td>1.634685</td>\n",
       "    </tr>\n",
       "  </tbody>\n",
       "</table>\n",
       "</div>"
      ],
      "text/plain": [
       "   eu_indicator  Mean Abs Deviation (%)  count  Median Abs Deviation (%)  \\\n",
       "0             0               56.735657    706                 25.733732   \n",
       "1             1               22.608114   2278                 13.647450   \n",
       "\n",
       "   Standard Deviation  Coefficient of Variation  \n",
       "0           94.597697                  1.667341  \n",
       "1           36.957138                  1.634685  "
      ]
     },
     "execution_count": 51,
     "metadata": {},
     "output_type": "execute_result"
    },
    {
     "data": {
      "application/javascript": [
       "\n",
       "            setTimeout(function() {\n",
       "                var nbb_cell_id = 51;\n",
       "                var nbb_unformatted_code = \"eu_price_abs_deviation_df\";\n",
       "                var nbb_formatted_code = \"eu_price_abs_deviation_df\";\n",
       "                var nbb_cells = Jupyter.notebook.get_cells();\n",
       "                for (var i = 0; i < nbb_cells.length; ++i) {\n",
       "                    if (nbb_cells[i].input_prompt_number == nbb_cell_id) {\n",
       "                        if (nbb_cells[i].get_text() == nbb_unformatted_code) {\n",
       "                             nbb_cells[i].set_text(nbb_formatted_code);\n",
       "                        }\n",
       "                        break;\n",
       "                    }\n",
       "                }\n",
       "            }, 500);\n",
       "            "
      ],
      "text/plain": [
       "<IPython.core.display.Javascript object>"
      ]
     },
     "metadata": {},
     "output_type": "display_data"
    }
   ],
   "source": [
    "eu_price_abs_deviation_df"
   ]
  },
  {
   "cell_type": "markdown",
   "id": "6ba91826",
   "metadata": {},
   "source": [
    "* There is a much higher delta in non-EU countries\n",
    "* This could be because the road infrastructure is far better in the EU. Frequent road closures, deviation in distances cause prices to increase.\n",
    "* It could also be due to regulations put in place that do not allow price deviations in the EU."
   ]
  },
  {
   "cell_type": "code",
   "execution_count": 52,
   "id": "a7c7b940",
   "metadata": {},
   "outputs": [
    {
     "name": "stderr",
     "output_type": "stream",
     "text": [
      "/var/folders/s4/n8kktn1x7jn2c6hfpf4y7hch0000gq/T/ipykernel_73208/2985416478.py:1: SettingWithCopyWarning: \n",
      "A value is trying to be set on a copy of a slice from a DataFrame.\n",
      "Try using .loc[row_indexer,col_indexer] = value instead\n",
      "\n",
      "See the caveats in the documentation: https://pandas.pydata.org/pandas-docs/stable/user_guide/indexing.html#returning-a-view-versus-a-copy\n",
      "  upfront_pricing_data_df[\"abs_distance_deviation_perc\"] = abs(\n"
     ]
    },
    {
     "data": {
      "application/javascript": [
       "\n",
       "            setTimeout(function() {\n",
       "                var nbb_cell_id = 52;\n",
       "                var nbb_unformatted_code = \"upfront_pricing_data_df[\\\"abs_distance_deviation_perc\\\"] = abs(\\n    (\\n        upfront_pricing_data_df[\\\"predicted_distance\\\"]\\n        - upfront_pricing_data_df[\\\"distance\\\"]\\n    )\\n    / upfront_pricing_data_df[\\\"predicted_distance\\\"]\\n    * 100\\n)\";\n",
       "                var nbb_formatted_code = \"upfront_pricing_data_df[\\\"abs_distance_deviation_perc\\\"] = abs(\\n    (\\n        upfront_pricing_data_df[\\\"predicted_distance\\\"]\\n        - upfront_pricing_data_df[\\\"distance\\\"]\\n    )\\n    / upfront_pricing_data_df[\\\"predicted_distance\\\"]\\n    * 100\\n)\";\n",
       "                var nbb_cells = Jupyter.notebook.get_cells();\n",
       "                for (var i = 0; i < nbb_cells.length; ++i) {\n",
       "                    if (nbb_cells[i].input_prompt_number == nbb_cell_id) {\n",
       "                        if (nbb_cells[i].get_text() == nbb_unformatted_code) {\n",
       "                             nbb_cells[i].set_text(nbb_formatted_code);\n",
       "                        }\n",
       "                        break;\n",
       "                    }\n",
       "                }\n",
       "            }, 500);\n",
       "            "
      ],
      "text/plain": [
       "<IPython.core.display.Javascript object>"
      ]
     },
     "metadata": {},
     "output_type": "display_data"
    }
   ],
   "source": [
    "upfront_pricing_data_df[\"abs_distance_deviation_perc\"] = abs(\n",
    "    (\n",
    "        upfront_pricing_data_df[\"predicted_distance\"]\n",
    "        - upfront_pricing_data_df[\"distance\"]\n",
    "    )\n",
    "    / upfront_pricing_data_df[\"predicted_distance\"]\n",
    "    * 100\n",
    ")"
   ]
  },
  {
   "cell_type": "code",
   "execution_count": 53,
   "id": "12f18517",
   "metadata": {},
   "outputs": [
    {
     "data": {
      "application/javascript": [
       "\n",
       "            setTimeout(function() {\n",
       "                var nbb_cell_id = 53;\n",
       "                var nbb_unformatted_code = \"eu_distance_abs_deviation_df = (\\n    upfront_pricing_data_df.groupby([\\\"eu_indicator\\\"])[\\\"abs_distance_deviation_perc\\\"]\\n    .agg([\\\"mean\\\", \\\"count\\\", \\\"median\\\", \\\"std\\\"])\\n    .reset_index()\\n).rename(\\n    columns={\\n        \\\"mean\\\": \\\"Mean Abs Deviation (%)\\\",\\n        \\\"median\\\": \\\"Median Abs Deviation (%)\\\",\\n        \\\"std\\\": \\\"Standard Deviation\\\",\\n    }\\n)\\neu_distance_abs_deviation_df[\\\"Coefficient of Variation\\\"] = (\\n    eu_distance_abs_deviation_df[\\\"Standard Deviation\\\"]\\n    / eu_distance_abs_deviation_df[\\\"Mean Abs Deviation (%)\\\"]\\n)\";\n",
       "                var nbb_formatted_code = \"eu_distance_abs_deviation_df = (\\n    upfront_pricing_data_df.groupby([\\\"eu_indicator\\\"])[\\\"abs_distance_deviation_perc\\\"]\\n    .agg([\\\"mean\\\", \\\"count\\\", \\\"median\\\", \\\"std\\\"])\\n    .reset_index()\\n).rename(\\n    columns={\\n        \\\"mean\\\": \\\"Mean Abs Deviation (%)\\\",\\n        \\\"median\\\": \\\"Median Abs Deviation (%)\\\",\\n        \\\"std\\\": \\\"Standard Deviation\\\",\\n    }\\n)\\neu_distance_abs_deviation_df[\\\"Coefficient of Variation\\\"] = (\\n    eu_distance_abs_deviation_df[\\\"Standard Deviation\\\"]\\n    / eu_distance_abs_deviation_df[\\\"Mean Abs Deviation (%)\\\"]\\n)\";\n",
       "                var nbb_cells = Jupyter.notebook.get_cells();\n",
       "                for (var i = 0; i < nbb_cells.length; ++i) {\n",
       "                    if (nbb_cells[i].input_prompt_number == nbb_cell_id) {\n",
       "                        if (nbb_cells[i].get_text() == nbb_unformatted_code) {\n",
       "                             nbb_cells[i].set_text(nbb_formatted_code);\n",
       "                        }\n",
       "                        break;\n",
       "                    }\n",
       "                }\n",
       "            }, 500);\n",
       "            "
      ],
      "text/plain": [
       "<IPython.core.display.Javascript object>"
      ]
     },
     "metadata": {},
     "output_type": "display_data"
    }
   ],
   "source": [
    "eu_distance_abs_deviation_df = (\n",
    "    upfront_pricing_data_df.groupby([\"eu_indicator\"])[\"abs_distance_deviation_perc\"]\n",
    "    .agg([\"mean\", \"count\", \"median\", \"std\"])\n",
    "    .reset_index()\n",
    ").rename(\n",
    "    columns={\n",
    "        \"mean\": \"Mean Abs Deviation (%)\",\n",
    "        \"median\": \"Median Abs Deviation (%)\",\n",
    "        \"std\": \"Standard Deviation\",\n",
    "    }\n",
    ")\n",
    "eu_distance_abs_deviation_df[\"Coefficient of Variation\"] = (\n",
    "    eu_distance_abs_deviation_df[\"Standard Deviation\"]\n",
    "    / eu_distance_abs_deviation_df[\"Mean Abs Deviation (%)\"]\n",
    ")"
   ]
  },
  {
   "cell_type": "code",
   "execution_count": 54,
   "id": "41184c68",
   "metadata": {},
   "outputs": [
    {
     "data": {
      "text/html": [
       "<div>\n",
       "<style scoped>\n",
       "    .dataframe tbody tr th:only-of-type {\n",
       "        vertical-align: middle;\n",
       "    }\n",
       "\n",
       "    .dataframe tbody tr th {\n",
       "        vertical-align: top;\n",
       "    }\n",
       "\n",
       "    .dataframe thead th {\n",
       "        text-align: right;\n",
       "    }\n",
       "</style>\n",
       "<table border=\"1\" class=\"dataframe\">\n",
       "  <thead>\n",
       "    <tr style=\"text-align: right;\">\n",
       "      <th></th>\n",
       "      <th>eu_indicator</th>\n",
       "      <th>Mean Abs Deviation (%)</th>\n",
       "      <th>count</th>\n",
       "      <th>Median Abs Deviation (%)</th>\n",
       "      <th>Standard Deviation</th>\n",
       "      <th>Coefficient of Variation</th>\n",
       "    </tr>\n",
       "  </thead>\n",
       "  <tbody>\n",
       "    <tr>\n",
       "      <th>0</th>\n",
       "      <td>0</td>\n",
       "      <td>62.515441</td>\n",
       "      <td>706</td>\n",
       "      <td>34.035366</td>\n",
       "      <td>87.730839</td>\n",
       "      <td>1.403347</td>\n",
       "    </tr>\n",
       "    <tr>\n",
       "      <th>1</th>\n",
       "      <td>1</td>\n",
       "      <td>30.817081</td>\n",
       "      <td>2278</td>\n",
       "      <td>12.194187</td>\n",
       "      <td>140.684272</td>\n",
       "      <td>4.565139</td>\n",
       "    </tr>\n",
       "  </tbody>\n",
       "</table>\n",
       "</div>"
      ],
      "text/plain": [
       "   eu_indicator  Mean Abs Deviation (%)  count  Median Abs Deviation (%)  \\\n",
       "0             0               62.515441    706                 34.035366   \n",
       "1             1               30.817081   2278                 12.194187   \n",
       "\n",
       "   Standard Deviation  Coefficient of Variation  \n",
       "0           87.730839                  1.403347  \n",
       "1          140.684272                  4.565139  "
      ]
     },
     "execution_count": 54,
     "metadata": {},
     "output_type": "execute_result"
    },
    {
     "data": {
      "application/javascript": [
       "\n",
       "            setTimeout(function() {\n",
       "                var nbb_cell_id = 54;\n",
       "                var nbb_unformatted_code = \"eu_distance_abs_deviation_df\";\n",
       "                var nbb_formatted_code = \"eu_distance_abs_deviation_df\";\n",
       "                var nbb_cells = Jupyter.notebook.get_cells();\n",
       "                for (var i = 0; i < nbb_cells.length; ++i) {\n",
       "                    if (nbb_cells[i].input_prompt_number == nbb_cell_id) {\n",
       "                        if (nbb_cells[i].get_text() == nbb_unformatted_code) {\n",
       "                             nbb_cells[i].set_text(nbb_formatted_code);\n",
       "                        }\n",
       "                        break;\n",
       "                    }\n",
       "                }\n",
       "            }, 500);\n",
       "            "
      ],
      "text/plain": [
       "<IPython.core.display.Javascript object>"
      ]
     },
     "metadata": {},
     "output_type": "display_data"
    }
   ],
   "source": [
    "eu_distance_abs_deviation_df"
   ]
  },
  {
   "cell_type": "markdown",
   "id": "c482d11a",
   "metadata": {},
   "source": [
    "Since deviation in distances and deviation in prices is correlated, it's evident that distances deviate more likely in non-EU countries as opposed to EU ones."
   ]
  },
  {
   "cell_type": "markdown",
   "id": "8aec6b35",
   "metadata": {},
   "source": [
    "## App version\n",
    "\n",
    "Is there any particular app version that's buggy?\n",
    "\n",
    "Although pricing is calculated on the backend, is there something inherently wrong with a way a certain app version extracts location or duration information?"
   ]
  },
  {
   "cell_type": "code",
   "execution_count": 55,
   "id": "d1f22240",
   "metadata": {},
   "outputs": [
    {
     "data": {
      "application/javascript": [
       "\n",
       "            setTimeout(function() {\n",
       "                var nbb_cell_id = 55;\n",
       "                var nbb_unformatted_code = \"ride_appv_price_abs_deviation_df = (\\n    upfront_pricing_data_df.groupby([\\\"rider_app_version\\\"])[\\n        \\\"abs_upfront_price_deviation_perc\\\"\\n    ]\\n    .agg([\\\"mean\\\", \\\"count\\\", \\\"median\\\", \\\"std\\\"])\\n    .reset_index()\\n).rename(\\n    columns={\\n        \\\"mean\\\": \\\"Mean Abs Deviation (%)\\\",\\n        \\\"median\\\": \\\"Median Abs Deviation (%)\\\",\\n        \\\"std\\\": \\\"Standard Deviation\\\",\\n    }\\n)\\nride_appv_price_abs_deviation_df[\\\"Coefficient of Variation\\\"] = (\\n    ride_appv_price_abs_deviation_df[\\\"Standard Deviation\\\"]\\n    / ride_appv_price_abs_deviation_df[\\\"Mean Abs Deviation (%)\\\"]\\n)\";\n",
       "                var nbb_formatted_code = \"ride_appv_price_abs_deviation_df = (\\n    upfront_pricing_data_df.groupby([\\\"rider_app_version\\\"])[\\n        \\\"abs_upfront_price_deviation_perc\\\"\\n    ]\\n    .agg([\\\"mean\\\", \\\"count\\\", \\\"median\\\", \\\"std\\\"])\\n    .reset_index()\\n).rename(\\n    columns={\\n        \\\"mean\\\": \\\"Mean Abs Deviation (%)\\\",\\n        \\\"median\\\": \\\"Median Abs Deviation (%)\\\",\\n        \\\"std\\\": \\\"Standard Deviation\\\",\\n    }\\n)\\nride_appv_price_abs_deviation_df[\\\"Coefficient of Variation\\\"] = (\\n    ride_appv_price_abs_deviation_df[\\\"Standard Deviation\\\"]\\n    / ride_appv_price_abs_deviation_df[\\\"Mean Abs Deviation (%)\\\"]\\n)\";\n",
       "                var nbb_cells = Jupyter.notebook.get_cells();\n",
       "                for (var i = 0; i < nbb_cells.length; ++i) {\n",
       "                    if (nbb_cells[i].input_prompt_number == nbb_cell_id) {\n",
       "                        if (nbb_cells[i].get_text() == nbb_unformatted_code) {\n",
       "                             nbb_cells[i].set_text(nbb_formatted_code);\n",
       "                        }\n",
       "                        break;\n",
       "                    }\n",
       "                }\n",
       "            }, 500);\n",
       "            "
      ],
      "text/plain": [
       "<IPython.core.display.Javascript object>"
      ]
     },
     "metadata": {},
     "output_type": "display_data"
    }
   ],
   "source": [
    "ride_appv_price_abs_deviation_df = (\n",
    "    upfront_pricing_data_df.groupby([\"rider_app_version\"])[\n",
    "        \"abs_upfront_price_deviation_perc\"\n",
    "    ]\n",
    "    .agg([\"mean\", \"count\", \"median\", \"std\"])\n",
    "    .reset_index()\n",
    ").rename(\n",
    "    columns={\n",
    "        \"mean\": \"Mean Abs Deviation (%)\",\n",
    "        \"median\": \"Median Abs Deviation (%)\",\n",
    "        \"std\": \"Standard Deviation\",\n",
    "    }\n",
    ")\n",
    "ride_appv_price_abs_deviation_df[\"Coefficient of Variation\"] = (\n",
    "    ride_appv_price_abs_deviation_df[\"Standard Deviation\"]\n",
    "    / ride_appv_price_abs_deviation_df[\"Mean Abs Deviation (%)\"]\n",
    ")"
   ]
  },
  {
   "cell_type": "code",
   "execution_count": 56,
   "id": "63c9336a",
   "metadata": {},
   "outputs": [
    {
     "data": {
      "text/html": [
       "<div>\n",
       "<style scoped>\n",
       "    .dataframe tbody tr th:only-of-type {\n",
       "        vertical-align: middle;\n",
       "    }\n",
       "\n",
       "    .dataframe tbody tr th {\n",
       "        vertical-align: top;\n",
       "    }\n",
       "\n",
       "    .dataframe thead th {\n",
       "        text-align: right;\n",
       "    }\n",
       "</style>\n",
       "<table border=\"1\" class=\"dataframe\">\n",
       "  <thead>\n",
       "    <tr style=\"text-align: right;\">\n",
       "      <th></th>\n",
       "      <th>rider_app_version</th>\n",
       "      <th>Mean Abs Deviation (%)</th>\n",
       "      <th>count</th>\n",
       "      <th>Median Abs Deviation (%)</th>\n",
       "      <th>Standard Deviation</th>\n",
       "      <th>Coefficient of Variation</th>\n",
       "    </tr>\n",
       "  </thead>\n",
       "  <tbody>\n",
       "    <tr>\n",
       "      <th>56</th>\n",
       "      <td>CA.5.47</td>\n",
       "      <td>34.609615</td>\n",
       "      <td>50</td>\n",
       "      <td>27.749529</td>\n",
       "      <td>37.221572</td>\n",
       "      <td>1.075469</td>\n",
       "    </tr>\n",
       "    <tr>\n",
       "      <th>87</th>\n",
       "      <td>CI.4.11</td>\n",
       "      <td>28.045800</td>\n",
       "      <td>15</td>\n",
       "      <td>23.750000</td>\n",
       "      <td>27.973147</td>\n",
       "      <td>0.997410</td>\n",
       "    </tr>\n",
       "    <tr>\n",
       "      <th>34</th>\n",
       "      <td>CA.5.08</td>\n",
       "      <td>35.812453</td>\n",
       "      <td>13</td>\n",
       "      <td>22.959116</td>\n",
       "      <td>39.579469</td>\n",
       "      <td>1.105187</td>\n",
       "    </tr>\n",
       "    <tr>\n",
       "      <th>49</th>\n",
       "      <td>CA.5.38</td>\n",
       "      <td>29.187596</td>\n",
       "      <td>27</td>\n",
       "      <td>22.333333</td>\n",
       "      <td>30.941768</td>\n",
       "      <td>1.060100</td>\n",
       "    </tr>\n",
       "    <tr>\n",
       "      <th>81</th>\n",
       "      <td>CI.4.04</td>\n",
       "      <td>23.642331</td>\n",
       "      <td>11</td>\n",
       "      <td>22.307692</td>\n",
       "      <td>17.244367</td>\n",
       "      <td>0.729385</td>\n",
       "    </tr>\n",
       "    <tr>\n",
       "      <th>47</th>\n",
       "      <td>CA.5.36</td>\n",
       "      <td>42.568204</td>\n",
       "      <td>95</td>\n",
       "      <td>22.156863</td>\n",
       "      <td>65.684249</td>\n",
       "      <td>1.543035</td>\n",
       "    </tr>\n",
       "    <tr>\n",
       "      <th>45</th>\n",
       "      <td>CA.5.32</td>\n",
       "      <td>37.592955</td>\n",
       "      <td>43</td>\n",
       "      <td>21.428571</td>\n",
       "      <td>82.231247</td>\n",
       "      <td>2.187411</td>\n",
       "    </tr>\n",
       "    <tr>\n",
       "      <th>35</th>\n",
       "      <td>CA.5.13</td>\n",
       "      <td>35.103528</td>\n",
       "      <td>11</td>\n",
       "      <td>21.388889</td>\n",
       "      <td>27.500050</td>\n",
       "      <td>0.783398</td>\n",
       "    </tr>\n",
       "    <tr>\n",
       "      <th>32</th>\n",
       "      <td>CA.5.04</td>\n",
       "      <td>40.726749</td>\n",
       "      <td>15</td>\n",
       "      <td>21.000000</td>\n",
       "      <td>59.132441</td>\n",
       "      <td>1.451931</td>\n",
       "    </tr>\n",
       "    <tr>\n",
       "      <th>90</th>\n",
       "      <td>CI.4.14</td>\n",
       "      <td>35.100988</td>\n",
       "      <td>96</td>\n",
       "      <td>19.532794</td>\n",
       "      <td>64.834100</td>\n",
       "      <td>1.847073</td>\n",
       "    </tr>\n",
       "    <tr>\n",
       "      <th>51</th>\n",
       "      <td>CA.5.42</td>\n",
       "      <td>38.807904</td>\n",
       "      <td>233</td>\n",
       "      <td>19.347826</td>\n",
       "      <td>69.586812</td>\n",
       "      <td>1.793109</td>\n",
       "    </tr>\n",
       "    <tr>\n",
       "      <th>40</th>\n",
       "      <td>CA.5.23</td>\n",
       "      <td>38.504122</td>\n",
       "      <td>18</td>\n",
       "      <td>18.293863</td>\n",
       "      <td>63.346614</td>\n",
       "      <td>1.645190</td>\n",
       "    </tr>\n",
       "    <tr>\n",
       "      <th>42</th>\n",
       "      <td>CA.5.26</td>\n",
       "      <td>34.086285</td>\n",
       "      <td>13</td>\n",
       "      <td>18.260870</td>\n",
       "      <td>59.616094</td>\n",
       "      <td>1.748976</td>\n",
       "    </tr>\n",
       "    <tr>\n",
       "      <th>93</th>\n",
       "      <td>CI.4.17</td>\n",
       "      <td>32.480360</td>\n",
       "      <td>536</td>\n",
       "      <td>17.236074</td>\n",
       "      <td>60.255134</td>\n",
       "      <td>1.855125</td>\n",
       "    </tr>\n",
       "    <tr>\n",
       "      <th>95</th>\n",
       "      <td>CI.4.19</td>\n",
       "      <td>23.245379</td>\n",
       "      <td>390</td>\n",
       "      <td>16.784038</td>\n",
       "      <td>28.179874</td>\n",
       "      <td>1.212279</td>\n",
       "    </tr>\n",
       "    <tr>\n",
       "      <th>94</th>\n",
       "      <td>CI.4.18</td>\n",
       "      <td>27.824635</td>\n",
       "      <td>182</td>\n",
       "      <td>15.641509</td>\n",
       "      <td>54.135556</td>\n",
       "      <td>1.945598</td>\n",
       "    </tr>\n",
       "    <tr>\n",
       "      <th>54</th>\n",
       "      <td>CA.5.45</td>\n",
       "      <td>22.815827</td>\n",
       "      <td>121</td>\n",
       "      <td>15.466667</td>\n",
       "      <td>24.886711</td>\n",
       "      <td>1.090765</td>\n",
       "    </tr>\n",
       "    <tr>\n",
       "      <th>55</th>\n",
       "      <td>CA.5.46</td>\n",
       "      <td>22.219244</td>\n",
       "      <td>131</td>\n",
       "      <td>15.384615</td>\n",
       "      <td>24.709564</td>\n",
       "      <td>1.112079</td>\n",
       "    </tr>\n",
       "    <tr>\n",
       "      <th>43</th>\n",
       "      <td>CA.5.27</td>\n",
       "      <td>30.422539</td>\n",
       "      <td>17</td>\n",
       "      <td>15.221200</td>\n",
       "      <td>36.528636</td>\n",
       "      <td>1.200710</td>\n",
       "    </tr>\n",
       "    <tr>\n",
       "      <th>50</th>\n",
       "      <td>CA.5.40</td>\n",
       "      <td>47.807721</td>\n",
       "      <td>70</td>\n",
       "      <td>13.327252</td>\n",
       "      <td>140.693897</td>\n",
       "      <td>2.942912</td>\n",
       "    </tr>\n",
       "    <tr>\n",
       "      <th>53</th>\n",
       "      <td>CA.5.44</td>\n",
       "      <td>22.415262</td>\n",
       "      <td>295</td>\n",
       "      <td>12.380952</td>\n",
       "      <td>31.283951</td>\n",
       "      <td>1.395654</td>\n",
       "    </tr>\n",
       "    <tr>\n",
       "      <th>44</th>\n",
       "      <td>CA.5.30</td>\n",
       "      <td>35.377903</td>\n",
       "      <td>14</td>\n",
       "      <td>11.320569</td>\n",
       "      <td>63.963846</td>\n",
       "      <td>1.808017</td>\n",
       "    </tr>\n",
       "    <tr>\n",
       "      <th>99</th>\n",
       "      <td>CI.4.23</td>\n",
       "      <td>17.002337</td>\n",
       "      <td>21</td>\n",
       "      <td>10.540541</td>\n",
       "      <td>15.472262</td>\n",
       "      <td>0.910008</td>\n",
       "    </tr>\n",
       "    <tr>\n",
       "      <th>52</th>\n",
       "      <td>CA.5.43</td>\n",
       "      <td>29.261688</td>\n",
       "      <td>292</td>\n",
       "      <td>10.248771</td>\n",
       "      <td>51.322935</td>\n",
       "      <td>1.753929</td>\n",
       "    </tr>\n",
       "    <tr>\n",
       "      <th>89</th>\n",
       "      <td>CI.4.13</td>\n",
       "      <td>22.027173</td>\n",
       "      <td>25</td>\n",
       "      <td>9.567308</td>\n",
       "      <td>26.231647</td>\n",
       "      <td>1.190877</td>\n",
       "    </tr>\n",
       "  </tbody>\n",
       "</table>\n",
       "</div>"
      ],
      "text/plain": [
       "   rider_app_version  Mean Abs Deviation (%)  count  Median Abs Deviation (%)  \\\n",
       "56           CA.5.47               34.609615     50                 27.749529   \n",
       "87           CI.4.11               28.045800     15                 23.750000   \n",
       "34           CA.5.08               35.812453     13                 22.959116   \n",
       "49           CA.5.38               29.187596     27                 22.333333   \n",
       "81           CI.4.04               23.642331     11                 22.307692   \n",
       "47           CA.5.36               42.568204     95                 22.156863   \n",
       "45           CA.5.32               37.592955     43                 21.428571   \n",
       "35           CA.5.13               35.103528     11                 21.388889   \n",
       "32           CA.5.04               40.726749     15                 21.000000   \n",
       "90           CI.4.14               35.100988     96                 19.532794   \n",
       "51           CA.5.42               38.807904    233                 19.347826   \n",
       "40           CA.5.23               38.504122     18                 18.293863   \n",
       "42           CA.5.26               34.086285     13                 18.260870   \n",
       "93           CI.4.17               32.480360    536                 17.236074   \n",
       "95           CI.4.19               23.245379    390                 16.784038   \n",
       "94           CI.4.18               27.824635    182                 15.641509   \n",
       "54           CA.5.45               22.815827    121                 15.466667   \n",
       "55           CA.5.46               22.219244    131                 15.384615   \n",
       "43           CA.5.27               30.422539     17                 15.221200   \n",
       "50           CA.5.40               47.807721     70                 13.327252   \n",
       "53           CA.5.44               22.415262    295                 12.380952   \n",
       "44           CA.5.30               35.377903     14                 11.320569   \n",
       "99           CI.4.23               17.002337     21                 10.540541   \n",
       "52           CA.5.43               29.261688    292                 10.248771   \n",
       "89           CI.4.13               22.027173     25                  9.567308   \n",
       "\n",
       "    Standard Deviation  Coefficient of Variation  \n",
       "56           37.221572                  1.075469  \n",
       "87           27.973147                  0.997410  \n",
       "34           39.579469                  1.105187  \n",
       "49           30.941768                  1.060100  \n",
       "81           17.244367                  0.729385  \n",
       "47           65.684249                  1.543035  \n",
       "45           82.231247                  2.187411  \n",
       "35           27.500050                  0.783398  \n",
       "32           59.132441                  1.451931  \n",
       "90           64.834100                  1.847073  \n",
       "51           69.586812                  1.793109  \n",
       "40           63.346614                  1.645190  \n",
       "42           59.616094                  1.748976  \n",
       "93           60.255134                  1.855125  \n",
       "95           28.179874                  1.212279  \n",
       "94           54.135556                  1.945598  \n",
       "54           24.886711                  1.090765  \n",
       "55           24.709564                  1.112079  \n",
       "43           36.528636                  1.200710  \n",
       "50          140.693897                  2.942912  \n",
       "53           31.283951                  1.395654  \n",
       "44           63.963846                  1.808017  \n",
       "99           15.472262                  0.910008  \n",
       "52           51.322935                  1.753929  \n",
       "89           26.231647                  1.190877  "
      ]
     },
     "execution_count": 56,
     "metadata": {},
     "output_type": "execute_result"
    },
    {
     "data": {
      "application/javascript": [
       "\n",
       "            setTimeout(function() {\n",
       "                var nbb_cell_id = 56;\n",
       "                var nbb_unformatted_code = \"ride_appv_price_abs_deviation_df[\\n    ride_appv_price_abs_deviation_df[\\\"count\\\"] > 10\\n].sort_values(by=[\\\"Median Abs Deviation (%)\\\"], ascending=False).head(25)\";\n",
       "                var nbb_formatted_code = \"ride_appv_price_abs_deviation_df[\\n    ride_appv_price_abs_deviation_df[\\\"count\\\"] > 10\\n].sort_values(by=[\\\"Median Abs Deviation (%)\\\"], ascending=False).head(25)\";\n",
       "                var nbb_cells = Jupyter.notebook.get_cells();\n",
       "                for (var i = 0; i < nbb_cells.length; ++i) {\n",
       "                    if (nbb_cells[i].input_prompt_number == nbb_cell_id) {\n",
       "                        if (nbb_cells[i].get_text() == nbb_unformatted_code) {\n",
       "                             nbb_cells[i].set_text(nbb_formatted_code);\n",
       "                        }\n",
       "                        break;\n",
       "                    }\n",
       "                }\n",
       "            }, 500);\n",
       "            "
      ],
      "text/plain": [
       "<IPython.core.display.Javascript object>"
      ]
     },
     "metadata": {},
     "output_type": "display_data"
    }
   ],
   "source": [
    "ride_appv_price_abs_deviation_df[\n",
    "    ride_appv_price_abs_deviation_df[\"count\"] > 10\n",
    "].sort_values(by=[\"Median Abs Deviation (%)\"], ascending=False).head(25)"
   ]
  },
  {
   "cell_type": "markdown",
   "id": "e64abc93",
   "metadata": {},
   "source": [
    "* It seems like certain app versions like `CA.5.47` are producing higher Median abs deviation than others and might need to be looked into.\n",
    "* Since app versions depend on adoption, we can check to see the percentage of rides on an app version with at least 20% deviation."
   ]
  },
  {
   "cell_type": "code",
   "execution_count": 57,
   "id": "9855e21f",
   "metadata": {},
   "outputs": [
    {
     "data": {
      "application/javascript": [
       "\n",
       "            setTimeout(function() {\n",
       "                var nbb_cell_id = 57;\n",
       "                var nbb_unformatted_code = \"ride_appv_price_deviation_perc_df = (\\n    pd.merge(\\n        upfront_pricing_data_df.groupby([\\\"rider_app_version\\\"])[\\\"order_id_new\\\"]\\n        .count()\\n        .reset_index(),\\n        upfront_pricing_data_df[\\n            upfront_pricing_data_df[\\\"abs_upfront_price_deviation_perc\\\"] > 20\\n        ]\\n        .groupby([\\\"rider_app_version\\\"])[\\\"order_id_new\\\"]\\n        .count()\\n        .reset_index(),\\n        on=[\\\"rider_app_version\\\"],\\n        how=\\\"left\\\",\\n    )\\n    .fillna(0)\\n    .rename(\\n        columns={\\n            \\\"order_id_new_x\\\": \\\"num_rides\\\",\\n            \\\"order_id_new_y\\\": \\\"num_rides_with_20_perc_deviation\\\",\\n        }\\n    )\\n)\";\n",
       "                var nbb_formatted_code = \"ride_appv_price_deviation_perc_df = (\\n    pd.merge(\\n        upfront_pricing_data_df.groupby([\\\"rider_app_version\\\"])[\\\"order_id_new\\\"]\\n        .count()\\n        .reset_index(),\\n        upfront_pricing_data_df[\\n            upfront_pricing_data_df[\\\"abs_upfront_price_deviation_perc\\\"] > 20\\n        ]\\n        .groupby([\\\"rider_app_version\\\"])[\\\"order_id_new\\\"]\\n        .count()\\n        .reset_index(),\\n        on=[\\\"rider_app_version\\\"],\\n        how=\\\"left\\\",\\n    )\\n    .fillna(0)\\n    .rename(\\n        columns={\\n            \\\"order_id_new_x\\\": \\\"num_rides\\\",\\n            \\\"order_id_new_y\\\": \\\"num_rides_with_20_perc_deviation\\\",\\n        }\\n    )\\n)\";\n",
       "                var nbb_cells = Jupyter.notebook.get_cells();\n",
       "                for (var i = 0; i < nbb_cells.length; ++i) {\n",
       "                    if (nbb_cells[i].input_prompt_number == nbb_cell_id) {\n",
       "                        if (nbb_cells[i].get_text() == nbb_unformatted_code) {\n",
       "                             nbb_cells[i].set_text(nbb_formatted_code);\n",
       "                        }\n",
       "                        break;\n",
       "                    }\n",
       "                }\n",
       "            }, 500);\n",
       "            "
      ],
      "text/plain": [
       "<IPython.core.display.Javascript object>"
      ]
     },
     "metadata": {},
     "output_type": "display_data"
    }
   ],
   "source": [
    "ride_appv_price_deviation_perc_df = (\n",
    "    pd.merge(\n",
    "        upfront_pricing_data_df.groupby([\"rider_app_version\"])[\"order_id_new\"]\n",
    "        .count()\n",
    "        .reset_index(),\n",
    "        upfront_pricing_data_df[\n",
    "            upfront_pricing_data_df[\"abs_upfront_price_deviation_perc\"] > 20\n",
    "        ]\n",
    "        .groupby([\"rider_app_version\"])[\"order_id_new\"]\n",
    "        .count()\n",
    "        .reset_index(),\n",
    "        on=[\"rider_app_version\"],\n",
    "        how=\"left\",\n",
    "    )\n",
    "    .fillna(0)\n",
    "    .rename(\n",
    "        columns={\n",
    "            \"order_id_new_x\": \"num_rides\",\n",
    "            \"order_id_new_y\": \"num_rides_with_20_perc_deviation\",\n",
    "        }\n",
    "    )\n",
    ")"
   ]
  },
  {
   "cell_type": "code",
   "execution_count": 58,
   "id": "b3891da5",
   "metadata": {},
   "outputs": [
    {
     "data": {
      "application/javascript": [
       "\n",
       "            setTimeout(function() {\n",
       "                var nbb_cell_id = 58;\n",
       "                var nbb_unformatted_code = \"ride_appv_price_deviation_perc_df[\\\"perc_rides_with_20_perc_deviation\\\"] = (\\n    ride_appv_price_deviation_perc_df[\\\"num_rides_with_20_perc_deviation\\\"]\\n    * 100\\n    / ride_appv_price_deviation_perc_df[\\\"num_rides\\\"]\\n)\";\n",
       "                var nbb_formatted_code = \"ride_appv_price_deviation_perc_df[\\\"perc_rides_with_20_perc_deviation\\\"] = (\\n    ride_appv_price_deviation_perc_df[\\\"num_rides_with_20_perc_deviation\\\"]\\n    * 100\\n    / ride_appv_price_deviation_perc_df[\\\"num_rides\\\"]\\n)\";\n",
       "                var nbb_cells = Jupyter.notebook.get_cells();\n",
       "                for (var i = 0; i < nbb_cells.length; ++i) {\n",
       "                    if (nbb_cells[i].input_prompt_number == nbb_cell_id) {\n",
       "                        if (nbb_cells[i].get_text() == nbb_unformatted_code) {\n",
       "                             nbb_cells[i].set_text(nbb_formatted_code);\n",
       "                        }\n",
       "                        break;\n",
       "                    }\n",
       "                }\n",
       "            }, 500);\n",
       "            "
      ],
      "text/plain": [
       "<IPython.core.display.Javascript object>"
      ]
     },
     "metadata": {},
     "output_type": "display_data"
    }
   ],
   "source": [
    "ride_appv_price_deviation_perc_df[\"perc_rides_with_20_perc_deviation\"] = (\n",
    "    ride_appv_price_deviation_perc_df[\"num_rides_with_20_perc_deviation\"]\n",
    "    * 100\n",
    "    / ride_appv_price_deviation_perc_df[\"num_rides\"]\n",
    ")"
   ]
  },
  {
   "cell_type": "code",
   "execution_count": 59,
   "id": "0b3ff143",
   "metadata": {},
   "outputs": [
    {
     "data": {
      "text/html": [
       "<div>\n",
       "<style scoped>\n",
       "    .dataframe tbody tr th:only-of-type {\n",
       "        vertical-align: middle;\n",
       "    }\n",
       "\n",
       "    .dataframe tbody tr th {\n",
       "        vertical-align: top;\n",
       "    }\n",
       "\n",
       "    .dataframe thead th {\n",
       "        text-align: right;\n",
       "    }\n",
       "</style>\n",
       "<table border=\"1\" class=\"dataframe\">\n",
       "  <thead>\n",
       "    <tr style=\"text-align: right;\">\n",
       "      <th></th>\n",
       "      <th>rider_app_version</th>\n",
       "      <th>num_rides</th>\n",
       "      <th>num_rides_with_20_perc_deviation</th>\n",
       "      <th>perc_rides_with_20_perc_deviation</th>\n",
       "    </tr>\n",
       "  </thead>\n",
       "  <tbody>\n",
       "    <tr>\n",
       "      <th>35</th>\n",
       "      <td>CA.5.13</td>\n",
       "      <td>11</td>\n",
       "      <td>8.0</td>\n",
       "      <td>72.727273</td>\n",
       "    </tr>\n",
       "    <tr>\n",
       "      <th>87</th>\n",
       "      <td>CI.4.11</td>\n",
       "      <td>15</td>\n",
       "      <td>10.0</td>\n",
       "      <td>66.666667</td>\n",
       "    </tr>\n",
       "    <tr>\n",
       "      <th>56</th>\n",
       "      <td>CA.5.47</td>\n",
       "      <td>50</td>\n",
       "      <td>30.0</td>\n",
       "      <td>60.000000</td>\n",
       "    </tr>\n",
       "    <tr>\n",
       "      <th>49</th>\n",
       "      <td>CA.5.38</td>\n",
       "      <td>27</td>\n",
       "      <td>16.0</td>\n",
       "      <td>59.259259</td>\n",
       "    </tr>\n",
       "    <tr>\n",
       "      <th>81</th>\n",
       "      <td>CI.4.04</td>\n",
       "      <td>11</td>\n",
       "      <td>6.0</td>\n",
       "      <td>54.545455</td>\n",
       "    </tr>\n",
       "    <tr>\n",
       "      <th>34</th>\n",
       "      <td>CA.5.08</td>\n",
       "      <td>13</td>\n",
       "      <td>7.0</td>\n",
       "      <td>53.846154</td>\n",
       "    </tr>\n",
       "    <tr>\n",
       "      <th>32</th>\n",
       "      <td>CA.5.04</td>\n",
       "      <td>15</td>\n",
       "      <td>8.0</td>\n",
       "      <td>53.333333</td>\n",
       "    </tr>\n",
       "    <tr>\n",
       "      <th>47</th>\n",
       "      <td>CA.5.36</td>\n",
       "      <td>95</td>\n",
       "      <td>50.0</td>\n",
       "      <td>52.631579</td>\n",
       "    </tr>\n",
       "    <tr>\n",
       "      <th>45</th>\n",
       "      <td>CA.5.32</td>\n",
       "      <td>43</td>\n",
       "      <td>22.0</td>\n",
       "      <td>51.162791</td>\n",
       "    </tr>\n",
       "    <tr>\n",
       "      <th>40</th>\n",
       "      <td>CA.5.23</td>\n",
       "      <td>18</td>\n",
       "      <td>9.0</td>\n",
       "      <td>50.000000</td>\n",
       "    </tr>\n",
       "    <tr>\n",
       "      <th>51</th>\n",
       "      <td>CA.5.42</td>\n",
       "      <td>233</td>\n",
       "      <td>114.0</td>\n",
       "      <td>48.927039</td>\n",
       "    </tr>\n",
       "    <tr>\n",
       "      <th>98</th>\n",
       "      <td>CI.4.22</td>\n",
       "      <td>27</td>\n",
       "      <td>13.0</td>\n",
       "      <td>48.148148</td>\n",
       "    </tr>\n",
       "    <tr>\n",
       "      <th>93</th>\n",
       "      <td>CI.4.17</td>\n",
       "      <td>536</td>\n",
       "      <td>253.0</td>\n",
       "      <td>47.201493</td>\n",
       "    </tr>\n",
       "    <tr>\n",
       "      <th>95</th>\n",
       "      <td>CI.4.19</td>\n",
       "      <td>390</td>\n",
       "      <td>184.0</td>\n",
       "      <td>47.179487</td>\n",
       "    </tr>\n",
       "    <tr>\n",
       "      <th>43</th>\n",
       "      <td>CA.5.27</td>\n",
       "      <td>17</td>\n",
       "      <td>8.0</td>\n",
       "      <td>47.058824</td>\n",
       "    </tr>\n",
       "    <tr>\n",
       "      <th>90</th>\n",
       "      <td>CI.4.14</td>\n",
       "      <td>96</td>\n",
       "      <td>45.0</td>\n",
       "      <td>46.875000</td>\n",
       "    </tr>\n",
       "    <tr>\n",
       "      <th>55</th>\n",
       "      <td>CA.5.46</td>\n",
       "      <td>131</td>\n",
       "      <td>57.0</td>\n",
       "      <td>43.511450</td>\n",
       "    </tr>\n",
       "    <tr>\n",
       "      <th>54</th>\n",
       "      <td>CA.5.45</td>\n",
       "      <td>121</td>\n",
       "      <td>52.0</td>\n",
       "      <td>42.975207</td>\n",
       "    </tr>\n",
       "    <tr>\n",
       "      <th>99</th>\n",
       "      <td>CI.4.23</td>\n",
       "      <td>21</td>\n",
       "      <td>9.0</td>\n",
       "      <td>42.857143</td>\n",
       "    </tr>\n",
       "    <tr>\n",
       "      <th>44</th>\n",
       "      <td>CA.5.30</td>\n",
       "      <td>14</td>\n",
       "      <td>6.0</td>\n",
       "      <td>42.857143</td>\n",
       "    </tr>\n",
       "    <tr>\n",
       "      <th>94</th>\n",
       "      <td>CI.4.18</td>\n",
       "      <td>182</td>\n",
       "      <td>76.0</td>\n",
       "      <td>41.758242</td>\n",
       "    </tr>\n",
       "    <tr>\n",
       "      <th>50</th>\n",
       "      <td>CA.5.40</td>\n",
       "      <td>70</td>\n",
       "      <td>29.0</td>\n",
       "      <td>41.428571</td>\n",
       "    </tr>\n",
       "    <tr>\n",
       "      <th>52</th>\n",
       "      <td>CA.5.43</td>\n",
       "      <td>292</td>\n",
       "      <td>119.0</td>\n",
       "      <td>40.753425</td>\n",
       "    </tr>\n",
       "    <tr>\n",
       "      <th>89</th>\n",
       "      <td>CI.4.13</td>\n",
       "      <td>25</td>\n",
       "      <td>10.0</td>\n",
       "      <td>40.000000</td>\n",
       "    </tr>\n",
       "    <tr>\n",
       "      <th>53</th>\n",
       "      <td>CA.5.44</td>\n",
       "      <td>295</td>\n",
       "      <td>117.0</td>\n",
       "      <td>39.661017</td>\n",
       "    </tr>\n",
       "    <tr>\n",
       "      <th>42</th>\n",
       "      <td>CA.5.26</td>\n",
       "      <td>13</td>\n",
       "      <td>5.0</td>\n",
       "      <td>38.461538</td>\n",
       "    </tr>\n",
       "  </tbody>\n",
       "</table>\n",
       "</div>"
      ],
      "text/plain": [
       "   rider_app_version  num_rides  num_rides_with_20_perc_deviation  \\\n",
       "35           CA.5.13         11                               8.0   \n",
       "87           CI.4.11         15                              10.0   \n",
       "56           CA.5.47         50                              30.0   \n",
       "49           CA.5.38         27                              16.0   \n",
       "81           CI.4.04         11                               6.0   \n",
       "34           CA.5.08         13                               7.0   \n",
       "32           CA.5.04         15                               8.0   \n",
       "47           CA.5.36         95                              50.0   \n",
       "45           CA.5.32         43                              22.0   \n",
       "40           CA.5.23         18                               9.0   \n",
       "51           CA.5.42        233                             114.0   \n",
       "98           CI.4.22         27                              13.0   \n",
       "93           CI.4.17        536                             253.0   \n",
       "95           CI.4.19        390                             184.0   \n",
       "43           CA.5.27         17                               8.0   \n",
       "90           CI.4.14         96                              45.0   \n",
       "55           CA.5.46        131                              57.0   \n",
       "54           CA.5.45        121                              52.0   \n",
       "99           CI.4.23         21                               9.0   \n",
       "44           CA.5.30         14                               6.0   \n",
       "94           CI.4.18        182                              76.0   \n",
       "50           CA.5.40         70                              29.0   \n",
       "52           CA.5.43        292                             119.0   \n",
       "89           CI.4.13         25                              10.0   \n",
       "53           CA.5.44        295                             117.0   \n",
       "42           CA.5.26         13                               5.0   \n",
       "\n",
       "    perc_rides_with_20_perc_deviation  \n",
       "35                          72.727273  \n",
       "87                          66.666667  \n",
       "56                          60.000000  \n",
       "49                          59.259259  \n",
       "81                          54.545455  \n",
       "34                          53.846154  \n",
       "32                          53.333333  \n",
       "47                          52.631579  \n",
       "45                          51.162791  \n",
       "40                          50.000000  \n",
       "51                          48.927039  \n",
       "98                          48.148148  \n",
       "93                          47.201493  \n",
       "95                          47.179487  \n",
       "43                          47.058824  \n",
       "90                          46.875000  \n",
       "55                          43.511450  \n",
       "54                          42.975207  \n",
       "99                          42.857143  \n",
       "44                          42.857143  \n",
       "94                          41.758242  \n",
       "50                          41.428571  \n",
       "52                          40.753425  \n",
       "89                          40.000000  \n",
       "53                          39.661017  \n",
       "42                          38.461538  "
      ]
     },
     "execution_count": 59,
     "metadata": {},
     "output_type": "execute_result"
    },
    {
     "data": {
      "application/javascript": [
       "\n",
       "            setTimeout(function() {\n",
       "                var nbb_cell_id = 59;\n",
       "                var nbb_unformatted_code = \"ride_appv_price_deviation_perc_df[\\n    ride_appv_price_deviation_perc_df[\\\"num_rides\\\"] > 10\\n].sort_values(by=[\\\"perc_rides_with_20_perc_deviation\\\"], ascending=False)\";\n",
       "                var nbb_formatted_code = \"ride_appv_price_deviation_perc_df[\\n    ride_appv_price_deviation_perc_df[\\\"num_rides\\\"] > 10\\n].sort_values(by=[\\\"perc_rides_with_20_perc_deviation\\\"], ascending=False)\";\n",
       "                var nbb_cells = Jupyter.notebook.get_cells();\n",
       "                for (var i = 0; i < nbb_cells.length; ++i) {\n",
       "                    if (nbb_cells[i].input_prompt_number == nbb_cell_id) {\n",
       "                        if (nbb_cells[i].get_text() == nbb_unformatted_code) {\n",
       "                             nbb_cells[i].set_text(nbb_formatted_code);\n",
       "                        }\n",
       "                        break;\n",
       "                    }\n",
       "                }\n",
       "            }, 500);\n",
       "            "
      ],
      "text/plain": [
       "<IPython.core.display.Javascript object>"
      ]
     },
     "metadata": {},
     "output_type": "display_data"
    }
   ],
   "source": [
    "ride_appv_price_deviation_perc_df[\n",
    "    ride_appv_price_deviation_perc_df[\"num_rides\"] > 10\n",
    "].sort_values(by=[\"perc_rides_with_20_perc_deviation\"], ascending=False)"
   ]
  },
  {
   "cell_type": "markdown",
   "id": "98d8c63c",
   "metadata": {},
   "source": [
    "Similar to the insight above, app versions like `CA.5.47` are producing a high number of rides with errors."
   ]
  },
  {
   "cell_type": "markdown",
   "id": "c424f316",
   "metadata": {},
   "source": [
    "## 0 Distances"
   ]
  },
  {
   "cell_type": "code",
   "execution_count": 60,
   "id": "04475c37",
   "metadata": {},
   "outputs": [
    {
     "data": {
      "text/plain": [
       "count    35.000000\n",
       "mean     43.990430\n",
       "std      27.875741\n",
       "min       0.000000\n",
       "25%      25.000000\n",
       "50%      53.488372\n",
       "75%      63.192469\n",
       "max      78.947368\n",
       "Name: abs_upfront_price_deviation_perc, dtype: float64"
      ]
     },
     "execution_count": 60,
     "metadata": {},
     "output_type": "execute_result"
    },
    {
     "data": {
      "application/javascript": [
       "\n",
       "            setTimeout(function() {\n",
       "                var nbb_cell_id = 60;\n",
       "                var nbb_unformatted_code = \"upfront_pricing_data_df.loc[\\n    upfront_pricing_data_df[\\\"distance\\\"] == 0, \\\"abs_upfront_price_deviation_perc\\\"\\n].describe()\";\n",
       "                var nbb_formatted_code = \"upfront_pricing_data_df.loc[\\n    upfront_pricing_data_df[\\\"distance\\\"] == 0, \\\"abs_upfront_price_deviation_perc\\\"\\n].describe()\";\n",
       "                var nbb_cells = Jupyter.notebook.get_cells();\n",
       "                for (var i = 0; i < nbb_cells.length; ++i) {\n",
       "                    if (nbb_cells[i].input_prompt_number == nbb_cell_id) {\n",
       "                        if (nbb_cells[i].get_text() == nbb_unformatted_code) {\n",
       "                             nbb_cells[i].set_text(nbb_formatted_code);\n",
       "                        }\n",
       "                        break;\n",
       "                    }\n",
       "                }\n",
       "            }, 500);\n",
       "            "
      ],
      "text/plain": [
       "<IPython.core.display.Javascript object>"
      ]
     },
     "metadata": {},
     "output_type": "display_data"
    }
   ],
   "source": [
    "upfront_pricing_data_df.loc[\n",
    "    upfront_pricing_data_df[\"distance\"] == 0, \"abs_upfront_price_deviation_perc\"\n",
    "].describe()"
   ]
  },
  {
   "cell_type": "code",
   "execution_count": 61,
   "id": "c1ba9022",
   "metadata": {},
   "outputs": [
    {
     "data": {
      "text/html": [
       "<div>\n",
       "<style scoped>\n",
       "    .dataframe tbody tr th:only-of-type {\n",
       "        vertical-align: middle;\n",
       "    }\n",
       "\n",
       "    .dataframe tbody tr th {\n",
       "        vertical-align: top;\n",
       "    }\n",
       "\n",
       "    .dataframe thead th {\n",
       "        text-align: right;\n",
       "    }\n",
       "</style>\n",
       "<table border=\"1\" class=\"dataframe\">\n",
       "  <thead>\n",
       "    <tr style=\"text-align: right;\">\n",
       "      <th></th>\n",
       "      <th>distance</th>\n",
       "      <th>duration</th>\n",
       "    </tr>\n",
       "  </thead>\n",
       "  <tbody>\n",
       "    <tr>\n",
       "      <th>88</th>\n",
       "      <td>0</td>\n",
       "      <td>0</td>\n",
       "    </tr>\n",
       "    <tr>\n",
       "      <th>220</th>\n",
       "      <td>0</td>\n",
       "      <td>0</td>\n",
       "    </tr>\n",
       "    <tr>\n",
       "      <th>508</th>\n",
       "      <td>0</td>\n",
       "      <td>0</td>\n",
       "    </tr>\n",
       "    <tr>\n",
       "      <th>509</th>\n",
       "      <td>0</td>\n",
       "      <td>0</td>\n",
       "    </tr>\n",
       "    <tr>\n",
       "      <th>633</th>\n",
       "      <td>0</td>\n",
       "      <td>0</td>\n",
       "    </tr>\n",
       "    <tr>\n",
       "      <th>747</th>\n",
       "      <td>0</td>\n",
       "      <td>0</td>\n",
       "    </tr>\n",
       "    <tr>\n",
       "      <th>1325</th>\n",
       "      <td>0</td>\n",
       "      <td>0</td>\n",
       "    </tr>\n",
       "    <tr>\n",
       "      <th>1624</th>\n",
       "      <td>0</td>\n",
       "      <td>0</td>\n",
       "    </tr>\n",
       "    <tr>\n",
       "      <th>1716</th>\n",
       "      <td>0</td>\n",
       "      <td>0</td>\n",
       "    </tr>\n",
       "    <tr>\n",
       "      <th>1864</th>\n",
       "      <td>0</td>\n",
       "      <td>0</td>\n",
       "    </tr>\n",
       "    <tr>\n",
       "      <th>2204</th>\n",
       "      <td>0</td>\n",
       "      <td>0</td>\n",
       "    </tr>\n",
       "    <tr>\n",
       "      <th>2238</th>\n",
       "      <td>0</td>\n",
       "      <td>0</td>\n",
       "    </tr>\n",
       "    <tr>\n",
       "      <th>2307</th>\n",
       "      <td>0</td>\n",
       "      <td>0</td>\n",
       "    </tr>\n",
       "    <tr>\n",
       "      <th>2757</th>\n",
       "      <td>0</td>\n",
       "      <td>0</td>\n",
       "    </tr>\n",
       "    <tr>\n",
       "      <th>3156</th>\n",
       "      <td>0</td>\n",
       "      <td>0</td>\n",
       "    </tr>\n",
       "    <tr>\n",
       "      <th>3324</th>\n",
       "      <td>0</td>\n",
       "      <td>0</td>\n",
       "    </tr>\n",
       "    <tr>\n",
       "      <th>3546</th>\n",
       "      <td>0</td>\n",
       "      <td>0</td>\n",
       "    </tr>\n",
       "    <tr>\n",
       "      <th>4235</th>\n",
       "      <td>0</td>\n",
       "      <td>0</td>\n",
       "    </tr>\n",
       "  </tbody>\n",
       "</table>\n",
       "</div>"
      ],
      "text/plain": [
       "      distance  duration\n",
       "88           0         0\n",
       "220          0         0\n",
       "508          0         0\n",
       "509          0         0\n",
       "633          0         0\n",
       "747          0         0\n",
       "1325         0         0\n",
       "1624         0         0\n",
       "1716         0         0\n",
       "1864         0         0\n",
       "2204         0         0\n",
       "2238         0         0\n",
       "2307         0         0\n",
       "2757         0         0\n",
       "3156         0         0\n",
       "3324         0         0\n",
       "3546         0         0\n",
       "4235         0         0"
      ]
     },
     "execution_count": 61,
     "metadata": {},
     "output_type": "execute_result"
    },
    {
     "data": {
      "application/javascript": [
       "\n",
       "            setTimeout(function() {\n",
       "                var nbb_cell_id = 61;\n",
       "                var nbb_unformatted_code = \"upfront_pricing_data_df.loc[\\n    upfront_pricing_data_df[\\\"duration\\\"] == 0, [\\\"distance\\\", \\\"duration\\\"]\\n]\";\n",
       "                var nbb_formatted_code = \"upfront_pricing_data_df.loc[\\n    upfront_pricing_data_df[\\\"duration\\\"] == 0, [\\\"distance\\\", \\\"duration\\\"]\\n]\";\n",
       "                var nbb_cells = Jupyter.notebook.get_cells();\n",
       "                for (var i = 0; i < nbb_cells.length; ++i) {\n",
       "                    if (nbb_cells[i].input_prompt_number == nbb_cell_id) {\n",
       "                        if (nbb_cells[i].get_text() == nbb_unformatted_code) {\n",
       "                             nbb_cells[i].set_text(nbb_formatted_code);\n",
       "                        }\n",
       "                        break;\n",
       "                    }\n",
       "                }\n",
       "            }, 500);\n",
       "            "
      ],
      "text/plain": [
       "<IPython.core.display.Javascript object>"
      ]
     },
     "metadata": {},
     "output_type": "display_data"
    }
   ],
   "source": [
    "upfront_pricing_data_df.loc[\n",
    "    upfront_pricing_data_df[\"duration\"] == 0, [\"distance\", \"duration\"]\n",
    "]"
   ]
  },
  {
   "cell_type": "code",
   "execution_count": 62,
   "id": "a9ef0e6e",
   "metadata": {},
   "outputs": [
    {
     "data": {
      "text/plain": [
       "(18, 2)"
      ]
     },
     "execution_count": 62,
     "metadata": {},
     "output_type": "execute_result"
    },
    {
     "data": {
      "application/javascript": [
       "\n",
       "            setTimeout(function() {\n",
       "                var nbb_cell_id = 62;\n",
       "                var nbb_unformatted_code = \"upfront_pricing_data_df.loc[\\n    upfront_pricing_data_df[\\\"duration\\\"] == 0, [\\\"distance\\\", \\\"duration\\\"]\\n].shape\";\n",
       "                var nbb_formatted_code = \"upfront_pricing_data_df.loc[\\n    upfront_pricing_data_df[\\\"duration\\\"] == 0, [\\\"distance\\\", \\\"duration\\\"]\\n].shape\";\n",
       "                var nbb_cells = Jupyter.notebook.get_cells();\n",
       "                for (var i = 0; i < nbb_cells.length; ++i) {\n",
       "                    if (nbb_cells[i].input_prompt_number == nbb_cell_id) {\n",
       "                        if (nbb_cells[i].get_text() == nbb_unformatted_code) {\n",
       "                             nbb_cells[i].set_text(nbb_formatted_code);\n",
       "                        }\n",
       "                        break;\n",
       "                    }\n",
       "                }\n",
       "            }, 500);\n",
       "            "
      ],
      "text/plain": [
       "<IPython.core.display.Javascript object>"
      ]
     },
     "metadata": {},
     "output_type": "display_data"
    }
   ],
   "source": [
    "upfront_pricing_data_df.loc[\n",
    "    upfront_pricing_data_df[\"duration\"] == 0, [\"distance\", \"duration\"]\n",
    "].shape"
   ]
  },
  {
   "cell_type": "code",
   "execution_count": null,
   "id": "8069ccd2",
   "metadata": {},
   "outputs": [],
   "source": []
  }
 ],
 "metadata": {
  "kernelspec": {
   "display_name": "Python 3 (ipykernel)",
   "language": "python",
   "name": "python3"
  },
  "language_info": {
   "codemirror_mode": {
    "name": "ipython",
    "version": 3
   },
   "file_extension": ".py",
   "mimetype": "text/x-python",
   "name": "python",
   "nbconvert_exporter": "python",
   "pygments_lexer": "ipython3",
   "version": "3.9.16"
  }
 },
 "nbformat": 4,
 "nbformat_minor": 5
}
