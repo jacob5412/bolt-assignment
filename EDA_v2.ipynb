{
 "cells": [
  {
   "cell_type": "markdown",
   "id": "7deaef79",
   "metadata": {},
   "source": [
    "# Exploratory Data Analysis"
   ]
  },
  {
   "cell_type": "code",
   "execution_count": null,
   "id": "2f0c9847",
   "metadata": {},
   "outputs": [],
   "source": [
    "%load_ext nb_black"
   ]
  },
  {
   "cell_type": "code",
   "execution_count": null,
   "id": "2ac08341",
   "metadata": {},
   "outputs": [],
   "source": [
    "import scipy\n",
    "\n",
    "import pandas as pd\n",
    "import numpy as np\n",
    "import seaborn as sns\n",
    "import matplotlib.pyplot as plt"
   ]
  },
  {
   "cell_type": "markdown",
   "id": "cabb7aa2",
   "metadata": {},
   "source": [
    "## Data Cleaning"
   ]
  },
  {
   "cell_type": "code",
   "execution_count": null,
   "id": "94003bf2",
   "metadata": {},
   "outputs": [],
   "source": [
    "pricing_data_df = pd.read_csv(\"data/test.csv\")"
   ]
  },
  {
   "cell_type": "markdown",
   "id": "9b00736e",
   "metadata": {},
   "source": [
    "During upfront pricing, the following factors are available to us:\n",
    "\n",
    "1. Type of vehicle - premium, XL, go, etc\n",
    "2. Customers Profile\n",
    "    - Fraud Score\n",
    "    - Lifetime value\n",
    "    - Number of previous cancellation by driver within journey\n",
    "3. Geography\n",
    "    - Distance\n",
    "    - Starting destination\n",
    "    - Ending destination\n",
    "    - Tolls\n",
    "2. Traffic\n",
    "    - Wait time due to incoming traffic\n",
    "3. Surge\n",
    "    - Time of day i.e. Rush Hoiur\n",
    "    - High Demand/Low Supply\n",
    "    - Bad weather"
   ]
  },
  {
   "cell_type": "code",
   "execution_count": null,
   "id": "23cbcabc",
   "metadata": {},
   "outputs": [],
   "source": [
    "pricing_data_df[\"calc_created\"] = pd.to_datetime(pricing_data_df[\"calc_created\"])"
   ]
  },
  {
   "cell_type": "markdown",
   "id": "2ad3ab91",
   "metadata": {},
   "source": [
    "* Removing all UIDs and tokens as we can't feed them into model and UUIDs are calculated uniquely for each session.\n",
    "* Ticket ID for resolution isn't useful as we don't have any ticket information."
   ]
  },
  {
   "cell_type": "code",
   "execution_count": null,
   "id": "7b9451ea",
   "metadata": {},
   "outputs": [],
   "source": [
    "pricing_data_df.drop(\n",
    "    [\"driver_device_uid_new\", \"device_token\", \"ticket_id_new\"], axis=1, inplace=True\n",
    ")"
   ]
  },
  {
   "cell_type": "markdown",
   "id": "c4a7be03",
   "metadata": {},
   "source": [
    "Can we remove all the states if all the rides are `finished`?"
   ]
  },
  {
   "cell_type": "code",
   "execution_count": null,
   "id": "f88eb297",
   "metadata": {},
   "outputs": [],
   "source": [
    "pricing_data_df[\"b_state\"].value_counts()"
   ]
  },
  {
   "cell_type": "code",
   "execution_count": null,
   "id": "3ed3403c",
   "metadata": {},
   "outputs": [],
   "source": [
    "pricing_data_df[\"order_state\"].value_counts()"
   ]
  },
  {
   "cell_type": "code",
   "execution_count": null,
   "id": "ef3ab9d4",
   "metadata": {},
   "outputs": [],
   "source": [
    "pricing_data_df[\"order_try_state\"].value_counts()"
   ]
  },
  {
   "cell_type": "code",
   "execution_count": null,
   "id": "b5cd5754",
   "metadata": {},
   "outputs": [],
   "source": [
    "pricing_data_df.drop(\n",
    "    [\"b_state\", \"order_state\", \"order_try_state\"], axis=1, inplace=True\n",
    ")"
   ]
  },
  {
   "cell_type": "markdown",
   "id": "a5f85370",
   "metadata": {},
   "source": [
    "All the orders are finished, hence this information is redundant.\n",
    "\n",
    "We can remove `order_try_id_new` since we already have `order_id_new` available. Furthermore, `dest_change_number` let's us know how many times the destination was changed."
   ]
  },
  {
   "cell_type": "code",
   "execution_count": null,
   "id": "409cb995",
   "metadata": {},
   "outputs": [],
   "source": [
    "pricing_data_df.drop([\"order_try_id_new\"], axis=1, inplace=True)"
   ]
  },
  {
   "cell_type": "code",
   "execution_count": null,
   "id": "7e05b539",
   "metadata": {},
   "outputs": [],
   "source": [
    "pricing_data_df.drop_duplicates(inplace=True)"
   ]
  },
  {
   "cell_type": "code",
   "execution_count": null,
   "id": "2dfa407d",
   "metadata": {},
   "outputs": [],
   "source": [
    "pricing_data_df.reset_index(inplace=True, drop=True)"
   ]
  },
  {
   "cell_type": "code",
   "execution_count": null,
   "id": "db097691",
   "metadata": {},
   "outputs": [],
   "source": [
    "pricing_data_df.info()"
   ]
  },
  {
   "cell_type": "markdown",
   "id": "ae2d9b26",
   "metadata": {},
   "source": [
    "# Upfront Pricing Exploration\n",
    "\n",
    "Also removing any distance or duration that is 0."
   ]
  },
  {
   "cell_type": "code",
   "execution_count": null,
   "id": "c6f50773",
   "metadata": {},
   "outputs": [],
   "source": [
    "upfront_pricing_data_df = pricing_data_df.loc[\n",
    "    (pricing_data_df[\"upfront_price\"].notnull()),\n",
    "    :,\n",
    "]"
   ]
  },
  {
   "cell_type": "code",
   "execution_count": null,
   "id": "668ef40c",
   "metadata": {},
   "outputs": [],
   "source": [
    "upfront_pricing_data_df[\"prediction_price_type\"].value_counts()"
   ]
  },
  {
   "cell_type": "markdown",
   "id": "a1b30bac",
   "metadata": {},
   "source": [
    "Since all upfront prices have prediction price type as upfront, we can drop `prediction_price_type`,"
   ]
  },
  {
   "cell_type": "code",
   "execution_count": null,
   "id": "740d40ce",
   "metadata": {},
   "outputs": [],
   "source": [
    "upfront_pricing_data_df.drop([\"prediction_price_type\"], axis=1, inplace=True)"
   ]
  },
  {
   "cell_type": "markdown",
   "id": "f6cb2c2d",
   "metadata": {},
   "source": [
    "## Problem Scope\n",
    "\n",
    "Does a deviation actually exist?"
   ]
  },
  {
   "cell_type": "code",
   "execution_count": null,
   "id": "23cd65a9",
   "metadata": {},
   "outputs": [],
   "source": [
    "upfront_pricing_data_df[\"upfront_price_deviation_perc\"] = (\n",
    "    (\n",
    "        upfront_pricing_data_df[\"upfront_price\"]\n",
    "        - upfront_pricing_data_df[\"metered_price\"]\n",
    "    )\n",
    "    / upfront_pricing_data_df[\"upfront_price\"]\n",
    "    * 100\n",
    ")\n",
    "upfront_pricing_data_df[\"abs_upfront_price_deviation_perc\"] = abs(\n",
    "    upfront_pricing_data_df[\"upfront_price_deviation_perc\"]\n",
    ")"
   ]
  },
  {
   "cell_type": "code",
   "execution_count": null,
   "id": "c4f91bb0",
   "metadata": {},
   "outputs": [],
   "source": [
    "upfront_pricing_data_df[\"abs_upfront_price_deviation_perc\"].describe(\n",
    "    percentiles=[0.25, 0.5, 0.75, 0.85, 0.9, 0.95, 0.99]\n",
    ")"
   ]
  },
  {
   "cell_type": "markdown",
   "id": "8b8902bd",
   "metadata": {},
   "source": [
    "Roughly 50% of the orders are deviating below 20% from the upfront pricing. "
   ]
  },
  {
   "cell_type": "code",
   "execution_count": null,
   "id": "05c7c1a9",
   "metadata": {},
   "outputs": [],
   "source": [
    "fig, ax = plt.subplots(figsize=(16, 6), dpi=120)\n",
    "p = sns.kdeplot(data=upfront_pricing_data_df[\"upfront_price_deviation_perc\"], ax=ax)\n",
    "x, y = p.get_lines()[0].get_data()\n",
    "cdf = scipy.integrate.cumtrapz(y, x, initial=0)\n",
    "nearest_05 = np.abs(cdf - 0.5).argmin()\n",
    "x_median = x[nearest_05]\n",
    "y_median = y[nearest_05]\n",
    "plt.vlines(x_median, 0, y_median, colors=\"black\")\n",
    "plt.grid()\n",
    "plt.show()"
   ]
  },
  {
   "cell_type": "code",
   "execution_count": null,
   "id": "873bc825",
   "metadata": {},
   "outputs": [],
   "source": [
    "fig, ax = plt.subplots(figsize=(16, 6), dpi=120)\n",
    "p = sns.kdeplot(data=upfront_pricing_data_df[\"abs_upfront_price_deviation_perc\"], ax=ax)\n",
    "x, y = p.get_lines()[0].get_data()\n",
    "cdf = scipy.integrate.cumtrapz(y, x, initial=0)\n",
    "nearest_05 = np.abs(cdf - 0.5).argmin()\n",
    "x_median = x[nearest_05]\n",
    "y_median = y[nearest_05]\n",
    "plt.vlines(x_median, 0, y_median, colors=\"black\")\n",
    "plt.grid()\n",
    "plt.show()"
   ]
  },
  {
   "cell_type": "markdown",
   "id": "9625e0fc",
   "metadata": {},
   "source": [
    "The distribution of pricing is right skewed long tailed. Our focus will on identifying what the source of the 50% of the error is."
   ]
  },
  {
   "cell_type": "markdown",
   "id": "7b265674",
   "metadata": {},
   "source": [
    "## Problem Impact\n",
    "\n",
    "How many customers does this deviation impact?"
   ]
  },
  {
   "cell_type": "code",
   "execution_count": null,
   "id": "be9d3bf5",
   "metadata": {},
   "outputs": [],
   "source": [
    "pricing_data_df.shape"
   ]
  },
  {
   "cell_type": "markdown",
   "id": "197b4ef8",
   "metadata": {},
   "source": [
    "Assuming our population consists of 4270 customers."
   ]
  },
  {
   "cell_type": "code",
   "execution_count": null,
   "id": "1cf59a93",
   "metadata": {},
   "outputs": [],
   "source": [
    "upfront_pricing_data_df.shape[0] / pricing_data_df.shape[0]"
   ]
  },
  {
   "cell_type": "code",
   "execution_count": null,
   "id": "572c9ec6",
   "metadata": {},
   "outputs": [],
   "source": [
    "upfront_pricing_data_df.shape[0]"
   ]
  },
  {
   "cell_type": "markdown",
   "id": "88e20009",
   "metadata": {},
   "source": [
    "Around 70% of the customers have suffered from some form of a deviation between upfront and metered pricing on the app."
   ]
  },
  {
   "cell_type": "code",
   "execution_count": null,
   "id": "c9da8b7e",
   "metadata": {},
   "outputs": [],
   "source": [
    "upfront_pricing_data_df[\"upfront_price_deviation_perc\"].describe(\n",
    "    percentiles=[0.25, 0.35, 0.5, 0.55, 0.75, 0.85, 0.9, 0.95, 0.99]\n",
    ")"
   ]
  },
  {
   "cell_type": "code",
   "execution_count": null,
   "id": "37f901b3",
   "metadata": {},
   "outputs": [],
   "source": [
    "upfront_pricing_data_df[\n",
    "    upfront_pricing_data_df[\"upfront_price_deviation_perc\"] < 0\n",
    "].shape[0] / upfront_pricing_data_df.shape[0]"
   ]
  },
  {
   "cell_type": "markdown",
   "id": "c144f726",
   "metadata": {},
   "source": [
    "Around 60% of the customers see a price higher than the one that is shown upfront."
   ]
  },
  {
   "cell_type": "code",
   "execution_count": null,
   "id": "2323875e",
   "metadata": {},
   "outputs": [],
   "source": [
    "upfront_pricing_data_df[\n",
    "    upfront_pricing_data_df[\"upfront_price_deviation_perc\"] < -20\n",
    "].shape[0] / upfront_pricing_data_df.shape[0]"
   ]
  },
  {
   "cell_type": "markdown",
   "id": "840a780f",
   "metadata": {},
   "source": [
    "Around 35% of the customers get charged more at the end of the journey.\n",
    "\n",
    "We're going to assume that anyone who created an `overpaid_ride_ticket` and didn't pay more for a ride, did it by accident. "
   ]
  },
  {
   "cell_type": "code",
   "execution_count": null,
   "id": "19b1543d",
   "metadata": {},
   "outputs": [],
   "source": [
    "upfront_pricing_data_df[\n",
    "    (upfront_pricing_data_df[\"upfront_price_deviation_perc\"] < -20)\n",
    "][\"overpaid_ride_ticket\"].value_counts(normalize=True)"
   ]
  },
  {
   "cell_type": "markdown",
   "id": "6eb01e72",
   "metadata": {},
   "source": [
    "4% of customers who were shown a higher price (i.e. with a deviation of 20%), complained about an overpaid ticket."
   ]
  },
  {
   "cell_type": "markdown",
   "id": "74d7b0fa",
   "metadata": {},
   "source": [
    "### Outliers"
   ]
  },
  {
   "cell_type": "markdown",
   "id": "a7eba53f",
   "metadata": {},
   "source": [
    "There seem to be outliers with the negative deviation with the lowest value going down to -1000%."
   ]
  },
  {
   "cell_type": "code",
   "execution_count": null,
   "id": "2e4145f7",
   "metadata": {},
   "outputs": [],
   "source": [
    "upfront_pricing_data_df[\"upfront_price_deviation_perc\"].max(), upfront_pricing_data_df[\n",
    "    \"upfront_price_deviation_perc\"\n",
    "].min()"
   ]
  },
  {
   "cell_type": "code",
   "execution_count": null,
   "id": "fe4e9473",
   "metadata": {},
   "outputs": [],
   "source": [
    "upfront_price_dev_q1, upfront_price_dev_q3 = np.percentile(\n",
    "    upfront_pricing_data_df[\"upfront_price_deviation_perc\"], [25, 75]\n",
    ")\n",
    "upfront_price_dev_iqr = upfront_price_dev_q3 - upfront_price_dev_q1\n",
    "upfront_price_dev_ul = upfront_price_dev_q3 + 1.5 * upfront_price_dev_iqr\n",
    "upfront_price_dev_ll = upfront_price_dev_q1 - 1.5 * upfront_price_dev_iqr"
   ]
  },
  {
   "cell_type": "code",
   "execution_count": null,
   "id": "ae084dcf",
   "metadata": {},
   "outputs": [],
   "source": [
    "upfront_pricing_deviation_outliers_df = upfront_pricing_data_df[\n",
    "    (upfront_pricing_data_df[\"upfront_price_deviation_perc\"] > upfront_price_dev_ul)\n",
    "    | (upfront_pricing_data_df[\"upfront_price_deviation_perc\"] < upfront_price_dev_ll)\n",
    "]"
   ]
  },
  {
   "cell_type": "code",
   "execution_count": null,
   "id": "38a22665",
   "metadata": {},
   "outputs": [],
   "source": [
    "upfront_pricing_deviation_outliers_df[\"upfront_price_deviation_perc\"].describe(\n",
    "    percentiles=[0.25, 0.35, 0.5, 0.55, 0.75, 0.85, 0.9, 0.95, 0.99]\n",
    ")"
   ]
  },
  {
   "cell_type": "code",
   "execution_count": null,
   "id": "42f0748c",
   "metadata": {},
   "outputs": [],
   "source": [
    "upfront_pricing_deviation_outliers_df.sample(5).T"
   ]
  },
  {
   "cell_type": "markdown",
   "id": "e521716d",
   "metadata": {},
   "source": [
    "* These cases should be flagged. \n",
    "* There's a deviation of -1100% to 100% in the pricing."
   ]
  },
  {
   "cell_type": "markdown",
   "id": "0eaf0782",
   "metadata": {},
   "source": [
    "### Distance"
   ]
  },
  {
   "cell_type": "code",
   "execution_count": null,
   "id": "6b59856d",
   "metadata": {},
   "outputs": [],
   "source": [
    "upfront_pricing_data_df[\"predicted_distance_deviation_perc\"] = (\n",
    "    (\n",
    "        upfront_pricing_data_df[\"predicted_distance\"]\n",
    "        - upfront_pricing_data_df[\"distance\"]\n",
    "    )\n",
    "    / upfront_pricing_data_df[\"predicted_distance\"]\n",
    "    * 100\n",
    ")\n",
    "upfront_pricing_data_df[\"abs_predicted_distance_deviation_perc\"] = abs(\n",
    "    upfront_pricing_data_df[\"predicted_distance_deviation_perc\"]\n",
    ")"
   ]
  },
  {
   "cell_type": "code",
   "execution_count": null,
   "id": "ea323f84",
   "metadata": {},
   "outputs": [],
   "source": [
    "upfront_pricing_data_df[\"distance\"].describe(\n",
    "    percentiles=[0.15, 0.25, 0.35, 0.5, 0.55, 0.75, 0.85, 0.9, 0.95, 0.99]\n",
    ")"
   ]
  },
  {
   "cell_type": "code",
   "execution_count": null,
   "id": "57384196",
   "metadata": {},
   "outputs": [],
   "source": [
    "upfront_pricing_data_df[\"predicted_distance\"].describe(\n",
    "    percentiles=[0.15, 0.25, 0.35, 0.5, 0.55, 0.75, 0.85, 0.9, 0.95, 0.99]\n",
    ")"
   ]
  },
  {
   "cell_type": "markdown",
   "id": "22ee93a4",
   "metadata": {},
   "source": [
    "There seem to be people who've travelled no distance, whereas the minimum we're predicting is 21."
   ]
  },
  {
   "cell_type": "code",
   "execution_count": null,
   "id": "975182a8",
   "metadata": {},
   "outputs": [],
   "source": [
    "upfront_pricing_data_df.loc[\n",
    "    upfront_pricing_data_df[\"distance\"] == 0, \"predicted_distance_deviation_perc\"\n",
    "].describe()"
   ]
  },
  {
   "cell_type": "code",
   "execution_count": null,
   "id": "8a328d0b",
   "metadata": {},
   "outputs": [],
   "source": [
    "upfront_pricing_data_df.loc[\n",
    "    upfront_pricing_data_df[\"distance\"] == 0, \"upfront_price_deviation_perc\"\n",
    "].describe()"
   ]
  },
  {
   "cell_type": "code",
   "execution_count": null,
   "id": "989df16e",
   "metadata": {},
   "outputs": [],
   "source": [
    "35 * 100.0 / upfront_pricing_data_df.shape[0]"
   ]
  },
  {
   "cell_type": "markdown",
   "id": "8588533a",
   "metadata": {},
   "source": [
    "* 1% of the deviations or 35 cases have issues where the rides didn't start. \n",
    "* Hence this isn't a distance prediction issue but a ride incomplete issue, i.e., the ride was completed without starting\n",
    "\n",
    "Few reasons why this could happen:\n",
    "* GPS was malfunctioning and the actual distance didn't get recorded.\n",
    "* The driver took the ride off of the app."
   ]
  },
  {
   "cell_type": "code",
   "execution_count": null,
   "id": "8850ae02",
   "metadata": {},
   "outputs": [],
   "source": [
    "upfront_pricing_data_df[\"duration\"].describe(\n",
    "    percentiles=[0.15, 0.25, 0.35, 0.5, 0.55, 0.75, 0.85, 0.9, 0.95, 0.99]\n",
    ")"
   ]
  },
  {
   "cell_type": "markdown",
   "id": "63da1c56",
   "metadata": {},
   "source": [
    "There are some rides with 0 duration."
   ]
  },
  {
   "cell_type": "code",
   "execution_count": null,
   "id": "c340d456",
   "metadata": {},
   "outputs": [],
   "source": [
    "upfront_pricing_data_df.loc[\n",
    "    upfront_pricing_data_df[\"duration\"] == 0, [\"distance\", \"duration\"]\n",
    "]"
   ]
  },
  {
   "cell_type": "markdown",
   "id": "6ed618b9",
   "metadata": {},
   "source": [
    "These seem to be a subset of 0 distance. These could possibly be drivers who took the ride \"off the app\"."
   ]
  },
  {
   "cell_type": "code",
   "execution_count": null,
   "id": "fa9c9db9",
   "metadata": {},
   "outputs": [],
   "source": [
    "upfront_pricing_data_ignored_0_dist_df = upfront_pricing_data_df[\n",
    "    upfront_pricing_data_df[\"distance\"] > 0\n",
    "]"
   ]
  },
  {
   "cell_type": "code",
   "execution_count": null,
   "id": "3d4ad2ed",
   "metadata": {},
   "outputs": [],
   "source": [
    "upfront_pricing_data_ignored_0_dist_df[\"predicted_distance_deviation_perc\"].describe(\n",
    "    percentiles=[0.15, 0.25, 0.35, 0.5, 0.55, 0.75, 0.85, 0.9, 0.95, 0.99]\n",
    ")"
   ]
  },
  {
   "cell_type": "code",
   "execution_count": null,
   "id": "7228b84d",
   "metadata": {},
   "outputs": [],
   "source": [
    "predicted_dist_less_than_actual_df = upfront_pricing_data_ignored_0_dist_df[\n",
    "    upfront_pricing_data_ignored_0_dist_df[\"predicted_distance_deviation_perc\"] < 0\n",
    "]"
   ]
  },
  {
   "cell_type": "markdown",
   "id": "3fb7dd42",
   "metadata": {},
   "source": [
    "### Duration"
   ]
  },
  {
   "cell_type": "code",
   "execution_count": null,
   "id": "c4aeab1a",
   "metadata": {},
   "outputs": [],
   "source": [
    "upfront_pricing_data_df[\"predicted_duration_deviation_perc\"] = (\n",
    "    (\n",
    "        upfront_pricing_data_df[\"predicted_duration\"]\n",
    "        - upfront_pricing_data_df[\"duration\"]\n",
    "    )\n",
    "    / upfront_pricing_data_df[\"predicted_duration\"]\n",
    "    * 100\n",
    ")\n",
    "upfront_pricing_data_df[\"abs_predicted_duration_deviation_perc\"] = abs(\n",
    "    upfront_pricing_data_df[\"predicted_duration_deviation_perc\"]\n",
    ")"
   ]
  },
  {
   "cell_type": "code",
   "execution_count": null,
   "id": "1c53ff6e",
   "metadata": {},
   "outputs": [],
   "source": [
    "upfront_pricing_data_df[\"predicted_duration_deviation_perc\"].describe(\n",
    "    percentiles=[0.15, 0.25, 0.35, 0.5, 0.55, 0.75, 0.85, 0.9, 0.95, 0.99]\n",
    ")"
   ]
  },
  {
   "cell_type": "code",
   "execution_count": null,
   "id": "a93e021a",
   "metadata": {},
   "outputs": [],
   "source": [
    " = upfront_pricing_data_df[\n",
    "    (upfront_pricing_data_df[\"predicted_distance_deviation_perc\"] < 0)\n",
    "    & (upfront_pricing_data_df[\"duration\"] > 0)\n",
    "]"
   ]
  },
  {
   "cell_type": "code",
   "execution_count": null,
   "id": "d5f61c45",
   "metadata": {},
   "outputs": [],
   "source": [
    "predicted_dura_less_than_actual_df[\"overpaid_ride_ticket\"].value_counts(normalize=True)"
   ]
  },
  {
   "cell_type": "code",
   "execution_count": null,
   "id": "2766eb2b",
   "metadata": {},
   "outputs": [],
   "source": [
    "predicted_dura_less_than_actual_df[\"upfront_price_deviation_perc\"].describe(\n",
    "    percentiles=[0.15, 0.25, 0.35, 0.5, 0.55, 0.75, 0.85, 0.9, 0.95, 0.99]\n",
    ")"
   ]
  },
  {
   "cell_type": "markdown",
   "id": "b509c07d",
   "metadata": {},
   "source": [
    "### How do the price deviations compare?"
   ]
  },
  {
   "cell_type": "code",
   "execution_count": null,
   "id": "7df4ba10",
   "metadata": {},
   "outputs": [],
   "source": [
    "bins = [-10000, -1000, -100, -80, -60, -40, -20, 0, 20, 40, 60, 80, 100, 1000, 10000]"
   ]
  },
  {
   "cell_type": "code",
   "execution_count": null,
   "id": "54bbe627",
   "metadata": {},
   "outputs": [],
   "source": [
    "upfront_pricing_data_ignored_0_dist_df = upfront_pricing_data_df[\n",
    "    upfront_pricing_data_df[\"distance\"] > 0\n",
    "]"
   ]
  },
  {
   "cell_type": "code",
   "execution_count": null,
   "id": "65f64284",
   "metadata": {},
   "outputs": [],
   "source": [
    "upfront_pricing_data_ignored_0_dist_df[\n",
    "    \"bins_predicted_distance_deviation_perc\"\n",
    "] = pd.cut(\n",
    "    upfront_pricing_data_ignored_0_dist_df[\"predicted_distance_deviation_perc\"],\n",
    "    bins=bins,\n",
    ")\n",
    "upfront_pricing_data_ignored_0_dist_df[\n",
    "    \"bins_predicted_duration_deviation_perc\"\n",
    "] = pd.cut(\n",
    "    upfront_pricing_data_ignored_0_dist_df[\"predicted_duration_deviation_perc\"],\n",
    "    bins=bins,\n",
    ")\n",
    "upfront_pricing_data_ignored_0_dist_df[\"bins_upfront_price_deviation_perc\"] = pd.cut(\n",
    "    upfront_pricing_data_ignored_0_dist_df[\"upfront_price_deviation_perc\"], bins=bins\n",
    ")"
   ]
  },
  {
   "cell_type": "code",
   "execution_count": null,
   "id": "3732d08f",
   "metadata": {},
   "outputs": [],
   "source": [
    "df = (\n",
    "    upfront_pricing_data_ignored_0_dist_df.groupby(\n",
    "        [\"bins_upfront_price_deviation_perc\", \"bins_predicted_distance_deviation_perc\"]\n",
    "    )[\"order_id_new\"]\n",
    "    .count()\n",
    "    .reset_index()\n",
    ")"
   ]
  },
  {
   "cell_type": "code",
   "execution_count": null,
   "id": "30d5e3fe",
   "metadata": {},
   "outputs": [],
   "source": [
    "df.loc[df.groupby([\"bins_upfront_price_deviation_perc\"])[\"order_id_new\"].idxmax()]"
   ]
  },
  {
   "cell_type": "code",
   "execution_count": null,
   "id": "2d2efad9",
   "metadata": {},
   "outputs": [],
   "source": [
    "upfront_pricing_data_ignored_0_dist_df[\n",
    "    [\n",
    "        \"predicted_distance_deviation_perc\",\n",
    "        \"predicted_duration_deviation_perc\",\n",
    "        \"upfront_price_deviation_perc\",\n",
    "    ]\n",
    "].corr()"
   ]
  },
  {
   "cell_type": "code",
   "execution_count": null,
   "id": "bd2b09a3",
   "metadata": {},
   "outputs": [],
   "source": [
    "dist_bin_df = (\n",
    "    upfront_pricing_data_ignored_0_dist_df[\"bins_predicted_distance_deviation_perc\"]\n",
    "    .value_counts(normalize=True)\n",
    "    .reset_index()\n",
    "    .rename(\n",
    "        columns={\n",
    "            \"bins_predicted_distance_deviation_perc\": \"distance_deviation_perc_pop\",\n",
    "            \"index\": \"bins_distance_deviation_perc\",\n",
    "        }\n",
    "    )\n",
    ")\n",
    "dura_bin_df = (\n",
    "    upfront_pricing_data_ignored_0_dist_df[\"bins_predicted_duration_deviation_perc\"]\n",
    "    .value_counts(normalize=True)\n",
    "    .reset_index()\n",
    "    .rename(\n",
    "        columns={\n",
    "            \"bins_predicted_duration_deviation_perc\": \"duration_deviation_perc_pop\",\n",
    "            \"index\": \"bins_duration_deviation_perc\",\n",
    "        }\n",
    "    )\n",
    ")\n",
    "price_bin_df = (\n",
    "    upfront_pricing_data_ignored_0_dist_df[\"bins_upfront_price_deviation_perc\"]\n",
    "    .value_counts(normalize=True)\n",
    "    .reset_index()\n",
    "    .rename(\n",
    "        columns={\n",
    "            \"bins_upfront_price_deviation_perc\": \"price_deviation_perc_pop\",\n",
    "            \"index\": \"bins_price_deviation_perc\",\n",
    "        }\n",
    "    )\n",
    ")"
   ]
  },
  {
   "cell_type": "code",
   "execution_count": null,
   "id": "514fa928",
   "metadata": {},
   "outputs": [],
   "source": []
  },
  {
   "cell_type": "code",
   "execution_count": null,
   "id": "9d2d783a",
   "metadata": {},
   "outputs": [],
   "source": []
  },
  {
   "cell_type": "code",
   "execution_count": null,
   "id": "2fe9b731",
   "metadata": {},
   "outputs": [],
   "source": []
  }
 ],
 "metadata": {
  "kernelspec": {
   "display_name": "Python 3 (ipykernel)",
   "language": "python",
   "name": "python3"
  },
  "language_info": {
   "codemirror_mode": {
    "name": "ipython",
    "version": 3
   },
   "file_extension": ".py",
   "mimetype": "text/x-python",
   "name": "python",
   "nbconvert_exporter": "python",
   "pygments_lexer": "ipython3",
   "version": "3.9.16"
  }
 },
 "nbformat": 4,
 "nbformat_minor": 5
}
