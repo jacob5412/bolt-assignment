{
 "cells": [
  {
   "cell_type": "markdown",
   "id": "7deaef79",
   "metadata": {},
   "source": [
    "# Exploratory Data Analysis"
   ]
  },
  {
   "cell_type": "code",
   "execution_count": null,
   "id": "2f0c9847",
   "metadata": {},
   "outputs": [],
   "source": [
    "%load_ext nb_black"
   ]
  },
  {
   "cell_type": "code",
   "execution_count": null,
   "id": "2ac08341",
   "metadata": {},
   "outputs": [],
   "source": [
    "import pandas as pd\n",
    "import numpy as np\n",
    "import seaborn as sns\n",
    "import matplotlib.pyplot as plt"
   ]
  },
  {
   "cell_type": "code",
   "execution_count": null,
   "id": "94003bf2",
   "metadata": {},
   "outputs": [],
   "source": [
    "pricing_data_df = pd.read_csv(\"data/test.csv\")"
   ]
  },
  {
   "cell_type": "markdown",
   "id": "9b00736e",
   "metadata": {},
   "source": [
    "During upfront pricing, the following factors are available to us:\n",
    "\n",
    "1. Type of vehicle - premium, XL, go, etc\n",
    "2. Customers Profile\n",
    "    - Fraud Score\n",
    "    - Lifetime value\n",
    "    - Number of previous cancellation by driver within journey\n",
    "3. Geography\n",
    "    - Distance\n",
    "    - Starting destination\n",
    "    - Ending destination\n",
    "    - Tolls\n",
    "2. Traffic\n",
    "    - Wait time due to incoming traffic\n",
    "3. Surge\n",
    "    - Time of day i.e. Rush Hoiur\n",
    "    - High Demand/Low Supply\n",
    "    - Bad weather"
   ]
  },
  {
   "cell_type": "code",
   "execution_count": null,
   "id": "23cbcabc",
   "metadata": {},
   "outputs": [],
   "source": [
    "pricing_data_df[\"calc_created\"] = pd.to_datetime(pricing_data_df[\"calc_created\"])"
   ]
  },
  {
   "cell_type": "markdown",
   "id": "2ad3ab91",
   "metadata": {},
   "source": [
    "* Removing all UIDs and tokens as we can't feed them into model and UUIDs are calculated uniquely for each session.\n",
    "* Ticket ID for resolution isn't useful as we don't have any ticket information."
   ]
  },
  {
   "cell_type": "code",
   "execution_count": null,
   "id": "7b9451ea",
   "metadata": {},
   "outputs": [],
   "source": [
    "pricing_data_df.drop(\n",
    "    [\"driver_device_uid_new\", \"device_token\", \"ticket_id_new\"], axis=1, inplace=True\n",
    ")"
   ]
  },
  {
   "cell_type": "markdown",
   "id": "c4a7be03",
   "metadata": {},
   "source": [
    "Can we remove all the states if all the rides are `finished`?"
   ]
  },
  {
   "cell_type": "code",
   "execution_count": null,
   "id": "f88eb297",
   "metadata": {},
   "outputs": [],
   "source": [
    "pricing_data_df[\"b_state\"].value_counts()"
   ]
  },
  {
   "cell_type": "code",
   "execution_count": null,
   "id": "3ed3403c",
   "metadata": {},
   "outputs": [],
   "source": [
    "pricing_data_df[\"order_state\"].value_counts()"
   ]
  },
  {
   "cell_type": "code",
   "execution_count": null,
   "id": "ef3ab9d4",
   "metadata": {},
   "outputs": [],
   "source": [
    "pricing_data_df[\"order_try_state\"].value_counts()"
   ]
  },
  {
   "cell_type": "code",
   "execution_count": null,
   "id": "b5cd5754",
   "metadata": {},
   "outputs": [],
   "source": [
    "pricing_data_df.drop(\n",
    "    [\"b_state\", \"order_state\", \"order_try_state\"], axis=1, inplace=True\n",
    ")"
   ]
  },
  {
   "cell_type": "code",
   "execution_count": null,
   "id": "db097691",
   "metadata": {},
   "outputs": [],
   "source": [
    "pricing_data_df.info()"
   ]
  },
  {
   "cell_type": "code",
   "execution_count": null,
   "id": "87d79b14",
   "metadata": {},
   "outputs": [],
   "source": [
    "pricing_data_df.groupby([\"prediction_price_type\", \"change_reason_pricing\"])[\n",
    "    \"order_id_new\"\n",
    "].count().reset_index()"
   ]
  },
  {
   "cell_type": "markdown",
   "id": "f53e591c",
   "metadata": {},
   "source": [
    "## Data Catalog\n",
    "\n",
    "| Variable                             | Description                                                                                                                                                                                                           |\n",
    "|--------------------------------------|-----------------------------------------------------------------------------------------------------------------------------------------------------------------------------------------------------------------------|\n",
    "| `order_id_new`                       | ID of an order                                                                                                                                                                                                        |\n",
    "| `order_try_id_new`                   | ID of an order \"attempt\" (one order can be attempted on multiple drivers, until one accepts)                                                                                                                          |\n",
    "| `Metered_price, distance & duration` | Actual price, distance and duration of a ride                                                                                                                                                                         |\n",
    "| `upfront_price`                      | Promised to the rider price, based on predicted duration (predicted_duration) and distance (predicted_distance)                                                                                                       |\n",
    "| `distance`                           | Ride distance                                                                                                                                                                                                         |\n",
    "| `duration`                           | Ride Duration                                                                                                                                                                                                         |\n",
    "| `gps_conﬁdence`                      | Indicator for good GPS connection (1 - good one, 0 - bad one)                                                                                                                                                         |\n",
    "| `entered_by`                         | Who entered the address                                                                                                                                                                                               |\n",
    "| `b_state`                            | State of a ride (ﬁnished implies that the ride was actually done)                                                                                                                                                     |\n",
    "| `dest_change_number`                 | Number of destination changes by a rider and a driver. It includes the original input of the destination by a rider. That is why the minimum value of it is 1                                                         |\n",
    "| `predicted_distance`                 | Predicted duration of a ride based on the pickup and dropoff points entered by the rider requesting a car                                                                                                             |\n",
    "| `predicted_duration`                 | Predicted duration of a ride based on the pickup and dropoff points entered by the rider requesting a car                                                                                                             |\n",
    "| `prediction_price_type`              | Internal variable for the type of prediction: (1) `upfront`, `prediction` - prediction happened before the ride; (2) `upfront_destination_changed` - prediction happened after rider changed destination during the ride |\n",
    "| `change_reason_pricing`              | Indicates whose action triggered a change in the price prediction. If it is empty, it means that either nobody changed the destination or that the change has not affected the predicted price                        |\n",
    "| `ticket_id_new`                      | ID for customer support ticket                                                                                                                                                                                        |\n",
    "| `device_token, device_token_new`     | ID for a device_token (empty for all the ﬁelds)                                                                                                                                                                       |\n",
    "| `rider_app_version`                  | App version of rider phone                                                                                                                                                                                            |\n",
    "| `driver_app_version`                 | App version of driver phone                                                                                                                                                                                           |\n",
    "| `driver_device_uid_new`              | ID for UID of a phone device                                                                                                                                                                                          |\n",
    "| `device_name`                        | The name of the phone                                                                                                                                                                                                 |\n",
    "| `eu_indicator`                       | Whether a ride happens in EU                                                                                                                                                                                          |\n",
    "| `overpaid_ride_ticket`               | Indicator for a rider complaining about the overpaid ride                                                                                                                                                             |\n",
    "| `fraud_score`                        | Fraud score of a rider. The higher it is the more likely the rider will cheat.                                                                                                                                        |"
   ]
  },
  {
   "cell_type": "code",
   "execution_count": null,
   "id": "92d40986",
   "metadata": {},
   "outputs": [],
   "source": [
    "pricing_data_df.sample(5).T"
   ]
  },
  {
   "cell_type": "markdown",
   "id": "ddcc0990",
   "metadata": {},
   "source": [
    "## Analyzing the columns\n",
    "\n",
    "### Date Range"
   ]
  },
  {
   "cell_type": "code",
   "execution_count": null,
   "id": "b5797389",
   "metadata": {},
   "outputs": [],
   "source": [
    "pricing_data_df[\"calc_created\"].min(), pricing_data_df[\"calc_created\"].max()"
   ]
  },
  {
   "cell_type": "markdown",
   "id": "41184faf",
   "metadata": {},
   "source": [
    "Roughly a month's worth of data from 2020, right before the first lockdown of COVID-19 in the UK on __23 March 2020__.\n",
    "\n",
    "Additional columns we can create:\n",
    "* Day of week\n",
    "* Day of month\n",
    "* Month\n",
    "* Holidays"
   ]
  },
  {
   "cell_type": "markdown",
   "id": "dc825184",
   "metadata": {},
   "source": [
    "### Distribution of Pricing"
   ]
  },
  {
   "cell_type": "code",
   "execution_count": null,
   "id": "b7eec4a0",
   "metadata": {},
   "outputs": [],
   "source": [
    "fig, ax = plt.subplots(figsize=(16, 6), dpi=120)\n",
    "sns.kdeplot(data=pricing_data_df[[\"upfront_price\", \"metered_price\"]], ax=ax, fill=True)\n",
    "plt.grid()\n",
    "plt.show()"
   ]
  },
  {
   "cell_type": "markdown",
   "id": "ea4a00a4",
   "metadata": {},
   "source": [
    "Upfront pricing typically seems to be a lower than the metered pricing."
   ]
  },
  {
   "cell_type": "markdown",
   "id": "b06682f4",
   "metadata": {},
   "source": [
    "### Distribution of Duration"
   ]
  },
  {
   "cell_type": "code",
   "execution_count": null,
   "id": "13b0b0b4",
   "metadata": {},
   "outputs": [],
   "source": [
    "fig, ax = plt.subplots(figsize=(16, 6), dpi=120)\n",
    "sns.kdeplot(data=pricing_data_df[[\"predicted_duration\", \"duration\"]], ax=ax, fill=True)\n",
    "plt.grid()\n",
    "plt.show()"
   ]
  },
  {
   "cell_type": "markdown",
   "id": "f679831d",
   "metadata": {},
   "source": [
    "That's because predicted duration seems to be lesser than the actual duration."
   ]
  },
  {
   "cell_type": "markdown",
   "id": "99d7d495",
   "metadata": {},
   "source": [
    "### Distribution of Distances"
   ]
  },
  {
   "cell_type": "code",
   "execution_count": null,
   "id": "e161d83a",
   "metadata": {},
   "outputs": [],
   "source": [
    "fig, ax = plt.subplots(figsize=(16, 6), dpi=120)\n",
    "sns.kdeplot(data=pricing_data_df[[\"predicted_distance\", \"distance\"]], ax=ax, fill=True)\n",
    "plt.grid()\n",
    "plt.show()"
   ]
  },
  {
   "cell_type": "markdown",
   "id": "9d5e7dee",
   "metadata": {},
   "source": [
    "The same goes for distance. the predicted distance typically lays on the lower end."
   ]
  },
  {
   "cell_type": "code",
   "execution_count": null,
   "id": "c4912617",
   "metadata": {},
   "outputs": [],
   "source": []
  }
 ],
 "metadata": {
  "kernelspec": {
   "display_name": "Python 3 (ipykernel)",
   "language": "python",
   "name": "python3"
  },
  "language_info": {
   "codemirror_mode": {
    "name": "ipython",
    "version": 3
   },
   "file_extension": ".py",
   "mimetype": "text/x-python",
   "name": "python",
   "nbconvert_exporter": "python",
   "pygments_lexer": "ipython3",
   "version": "3.9.16"
  }
 },
 "nbformat": 4,
 "nbformat_minor": 5
}
